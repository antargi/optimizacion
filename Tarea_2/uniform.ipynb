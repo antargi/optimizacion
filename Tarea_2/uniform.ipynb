{
 "cells": [
  {
   "cell_type": "code",
   "execution_count": 1,
   "metadata": {},
   "outputs": [],
   "source": [
    "import random\n",
    "import numpy as np\n"
   ]
  },
  {
   "cell_type": "code",
   "execution_count": 3,
   "metadata": {},
   "outputs": [],
   "source": [
    "\n",
    "# Establecer la semilla\n",
    "seed = 42\n",
    "random.seed(seed)\n",
    "np.random.seed(seed)\n",
    "\n",
    "def uniform_crossover(parent1, parent2):\n",
    "    size = len(parent1)\n",
    "    child1 = [-1] * size\n",
    "    child2 = [-1] * size\n",
    "    used1 = set()\n",
    "    used2 = set()\n",
    "\n",
    "    # Selección aleatoria de genes\n",
    "    for i in range(size):\n",
    "        if random.random() < 0.5:\n",
    "            if parent1[i] not in used1:\n",
    "                child1[i] = parent1[i]\n",
    "                used1.add(parent1[i])\n",
    "        else:\n",
    "            if parent2[i] not in used1:\n",
    "                child1[i] = parent2[i]\n",
    "                used1.add(parent2[i])\n",
    "\n",
    "        if random.random() < 0.5:\n",
    "            if parent1[i] not in used2:\n",
    "                child2[i] = parent1[i]\n",
    "                used2.add(parent1[i])\n",
    "        else:\n",
    "            if parent2[i] not in used2:\n",
    "                child2[i] = parent2[i]\n",
    "                used2.add(parent2[i])\n",
    "\n",
    "    # Rellenar los genes faltantes en child1\n",
    "    missing1 = [gene for gene in parent1 if gene not in used1]\n",
    "    j = 0\n",
    "    for i in range(size):\n",
    "        if child1[i] == -1:\n",
    "            child1[i] = missing1[j]\n",
    "            j += 1\n",
    "\n",
    "    # Rellenar los genes faltantes en child2\n",
    "    missing2 = [gene for gene in parent2 if gene not in used2]\n",
    "    j = 0\n",
    "    for i in range(size):\n",
    "        if child2[i] == -1:\n",
    "            child2[i] = missing2[j]\n",
    "            j += 1\n",
    "\n",
    "    return np.array(child1), np.array(child2)\n"
   ]
  },
  {
   "cell_type": "code",
   "execution_count": 5,
   "metadata": {},
   "outputs": [
    {
     "name": "stdout",
     "output_type": "stream",
     "text": [
      "Parent1: [1, 2, 3, 4, 10, 6, 7, 8]\n",
      "Parent2: [8, 7, 6, 5, 4, 3, 2, 1]\n",
      "Child1: [ 1  7  6  4  3 10  2  8]\n",
      "Child2: [ 8  2  6  4 10  7  5  1]\n"
     ]
    }
   ],
   "source": [
    "# Ejemplo de uso\n",
    "parent1 = [1, 2, 3, 4, 10, 6, 7, 8]\n",
    "parent2 = [8, 7, 6, 5, 4, 3, 2, 1]\n",
    "child1, child2 = uniform_crossover(parent1, parent2)\n",
    "print(f\"Parent1: {parent1}\")\n",
    "print(f\"Parent2: {parent2}\")\n",
    "print(f\"Child1: {child1}\")\n",
    "print(f\"Child2: {child2}\")"
   ]
  }
 ],
 "metadata": {
  "kernelspec": {
   "display_name": "base",
   "language": "python",
   "name": "python3"
  },
  "language_info": {
   "codemirror_mode": {
    "name": "ipython",
    "version": 3
   },
   "file_extension": ".py",
   "mimetype": "text/x-python",
   "name": "python",
   "nbconvert_exporter": "python",
   "pygments_lexer": "ipython3",
   "version": "3.11.7"
  }
 },
 "nbformat": 4,
 "nbformat_minor": 2
}
