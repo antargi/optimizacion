{
 "cells": [
  {
   "cell_type": "code",
   "execution_count": 1,
   "metadata": {
    "vscode": {
     "languageId": "r"
    }
   },
   "outputs": [],
   "source": [
    "# install.packages(\"beepr\")"
   ]
  },
  {
   "cell_type": "code",
   "execution_count": 2,
   "metadata": {
    "vscode": {
     "languageId": "r"
    }
   },
   "outputs": [],
   "source": [
    "library(ggplot2)\n",
    "library(reshape2)"
   ]
  },
  {
   "cell_type": "markdown",
   "metadata": {},
   "source": [
    "### Funciones Utilitarias (plot, lectura de archivos)"
   ]
  },
  {
   "cell_type": "code",
   "execution_count": 3,
   "metadata": {
    "vscode": {
     "languageId": "r"
    }
   },
   "outputs": [],
   "source": [
    "plot_fitness_over_time <- function(best_fitness, population_fitness, generations) {\n",
    "  best_fitness_data <- data.frame(Generation = 1:generations, BestFitness = best_fitness)\n",
    "  population_fitness_data <- melt(population_fitness)\n",
    "  colnames(population_fitness_data) <- c(\"Individual\", \"Generation\", \"Fitness\")\n",
    "  \n",
    "  p <- ggplot() +\n",
    "    geom_violin(data = population_fitness_data, aes(x = Generation, y = Fitness, group = Generation), fill = \"gray\", alpha = 0.5) +\n",
    "    geom_line(data = best_fitness_data, aes(x = Generation, y = BestFitness), color = \"blue\", size = 1) +\n",
    "    labs(title = \"Evolución del Fitness a lo Largo de las Generaciones\", x = \"Generación\", y = \"Fitness\") +\n",
    "    theme_minimal()\n",
    "  \n",
    "  print(p)\n",
    "}\n"
   ]
  },
  {
   "cell_type": "code",
   "execution_count": 4,
   "metadata": {
    "vscode": {
     "languageId": "r"
    }
   },
   "outputs": [],
   "source": [
    "plot_fitness <- function(generations, best_fitness, average_fitness) {\n",
    "  fitness_data <- data.frame(\n",
    "    Generation = 1:generations,\n",
    "    BestFitness = best_fitness,\n",
    "    AverageFitness = average_fitness\n",
    "  )\n",
    "  \n",
    "  ggplot(fitness_data, aes(x = Generation)) +\n",
    "    geom_line(aes(y = BestFitness, color = \"Best Fitness\"), size = 1) +\n",
    "    geom_line(aes(y = AverageFitness, color = \"Average Fitness\"), size = 1, linetype = \"dashed\") +\n",
    "    scale_color_manual(values = c(\"Best Fitness\" = \"blue\", \"Average Fitness\" = \"green\")) +\n",
    "    labs(title = \"Best and Average Fitness Over Generations\", x = \"Generations\", y = \"Fitness\") +\n",
    "    theme_minimal() +\n",
    "    theme(\n",
    "      plot.title = element_text(hjust = 0.5, size = 14, face = \"bold\"),\n",
    "      axis.title = element_text(size = 12),\n",
    "      legend.title = element_blank()\n",
    "    )\n",
    "}\n",
    "\n",
    "# Función para graficar la diversidad de la población\n",
    "plot_diversity <- function(generations, diversity) {\n",
    "  diversity_data <- data.frame(Generation = 1:generations, Diversity = diversity)\n",
    "  ggplot(diversity_data, aes(x = Generation, y = Diversity)) +\n",
    "    geom_line(color = \"red\", size = 1) +\n",
    "    labs(title = \"Population Diversity Over Generations\", x = \"Generations\", y = \"Diversity\") +\n",
    "    theme_minimal() +\n",
    "    theme(\n",
    "      plot.title = element_text(hjust = 0.5, size = 14, face = \"bold\"),\n",
    "      axis.title = element_text(size = 12)\n",
    "    )\n",
    "}\n"
   ]
  },
  {
   "cell_type": "code",
   "execution_count": 5,
   "metadata": {
    "vscode": {
     "languageId": "r"
    }
   },
   "outputs": [],
   "source": [
    "read_bin_packing_instance <- function(filename) {\n",
    "  lines <- readLines(filename)\n",
    "  P <- as.integer(lines[1])  # Número de instancias de problemas\n",
    "  problems <- list()\n",
    "  index <- 2\n",
    "  for (i in 1:P) {\n",
    "    problem_id <- trimws(lines[index])\n",
    "    index <- index + 1\n",
    "    bin_info <- strsplit(trimws(lines[index]), \"\\\\s+\")[[1]]\n",
    "    bin_capacity <- as.numeric(bin_info[1])\n",
    "    num_items <- as.integer(bin_info[2])\n",
    "    best_known_solution <- as.integer(bin_info[3])\n",
    "    index <- index + 1\n",
    "    items <- numeric(num_items)\n",
    "    for (j in 1:num_items) {\n",
    "      items[j] <- as.numeric(trimws(lines[index]))\n",
    "      index <- index + 1\n",
    "    }\n",
    "    problems[[i]] <- list(\n",
    "      problem_id = problem_id,\n",
    "      bin_capacity = bin_capacity,\n",
    "      num_items = num_items,\n",
    "      best_known_solution = best_known_solution,\n",
    "      items = items\n",
    "    )\n",
    "  }\n",
    "  return(problems)\n",
    "}"
   ]
  },
  {
   "cell_type": "markdown",
   "metadata": {},
   "source": [
    "### Definición de la clase de bin packing"
   ]
  },
  {
   "cell_type": "code",
   "execution_count": 6,
   "metadata": {
    "vscode": {
     "languageId": "r"
    }
   },
   "outputs": [],
   "source": [
    "BinPacking <- setRefClass(\n",
    "  \"BinPacking\",\n",
    "  fields = list(\n",
    "    item_sizes = \"numeric\",\n",
    "    bin_capacity = \"numeric\"\n",
    "  ),\n",
    "  methods = list(\n",
    "    evaluate = function(permutation) {\n",
    "      bin_capacities <- numeric() \n",
    "      current_bin_capacity <- 0  \n",
    "\n",
    "      for (i in permutation) {\n",
    "        item_size <- item_sizes[i]\n",
    "        if (current_bin_capacity + item_size <= bin_capacity) {\n",
    "          current_bin_capacity <- current_bin_capacity + item_size\n",
    "        } else {\n",
    "          bin_capacities <- c(bin_capacities, current_bin_capacity) \n",
    "          current_bin_capacity <- item_size  \n",
    "        }\n",
    "      }\n",
    "      bin_capacities <- c(bin_capacities, current_bin_capacity)  \n",
    "      return(length(bin_capacities)) \n",
    "    }\n",
    "  )\n",
    ")"
   ]
  },
  {
   "cell_type": "markdown",
   "metadata": {},
   "source": [
    "#### Evaluación de la función"
   ]
  },
  {
   "cell_type": "code",
   "execution_count": 7,
   "metadata": {
    "vscode": {
     "languageId": "r"
    }
   },
   "outputs": [],
   "source": [
    "fitness_function <- function(permutation) {\n",
    "  bp$evaluate(permutation)\n",
    "}"
   ]
  },
  {
   "cell_type": "markdown",
   "metadata": {},
   "source": [
    "#### Generación inicial de la población"
   ]
  },
  {
   "cell_type": "code",
   "execution_count": 8,
   "metadata": {
    "vscode": {
     "languageId": "r"
    }
   },
   "outputs": [],
   "source": [
    "generate_initial_population <- function(size, n) {\n",
    "  replicate(size, sample(1:n), simplify = FALSE)\n",
    "}"
   ]
  },
  {
   "cell_type": "markdown",
   "metadata": {},
   "source": [
    "### Selección de individuos (roulette, rank, tournament) a través de los padres"
   ]
  },
  {
   "cell_type": "code",
   "execution_count": 9,
   "metadata": {
    "vscode": {
     "languageId": "r"
    }
   },
   "outputs": [],
   "source": [
    "select_individual <- function(fitness_vector, selection_method = \"tournament\", tournament_size = 3, verbose = FALSE) {\n",
    "  if (!selection_method %in% c(\"roulette\", \"rank\", \"tournament\")) {\n",
    "    stop(\"The selection method must be 'roulette', 'rank', or 'tournament'.\")\n",
    "  }\n",
    "\n",
    "  if (selection_method == \"roulette\") {\n",
    "    selection_probability <- fitness_vector / sum(fitness_vector)\n",
    "    selected_index <- sample(1:length(fitness_vector), size = 1, prob = selection_probability)\n",
    "  } else if (selection_method == \"rank\") {\n",
    "    selection_probability <- 1 / rank(-fitness_vector)\n",
    "    selected_index <- sample(1:length(fitness_vector), size = 1, prob = selection_probability)\n",
    "  } else if (selection_method == \"tournament\") {\n",
    "    tournament_indices <- sample(1:length(fitness_vector), size = tournament_size)\n",
    "    selected_index <- tournament_indices[which.min(fitness_vector[tournament_indices])]\n",
    "  }\n",
    "\n",
    "  if (verbose) {\n",
    "    cat(\"----------------------\", \"\\n\")\n",
    "    cat(\"Selected Individual\", \"\\n\")\n",
    "    cat(\"----------------------\", \"\\n\")\n",
    "    cat(\"Selection Method    =\", selection_method, \"\\n\")\n",
    "    cat(\"Selected Index =\", selected_index, \"\\n\")\n",
    "  }\n",
    "\n",
    "  return(selected_index)\n",
    "}\n"
   ]
  },
  {
   "cell_type": "code",
   "execution_count": 10,
   "metadata": {
    "vscode": {
     "languageId": "r"
    }
   },
   "outputs": [],
   "source": [
    "select_parents <- function(population, fitness, selection_method = \"tournament\", tournament_size = 3) {\n",
    "  selected <- vector(\"list\", length(population))\n",
    "  for (i in 1:length(population)) {\n",
    "    selected_index <- select_individual(fitness, selection_method, tournament_size)\n",
    "    selected[[i]] <- population[[selected_index]]\n",
    "  }\n",
    "  return(selected)\n",
    "}\n"
   ]
  },
  {
   "cell_type": "markdown",
   "metadata": {},
   "source": [
    "### Función para introducir diversidad"
   ]
  },
  {
   "cell_type": "code",
   "execution_count": 11,
   "metadata": {
    "vscode": {
     "languageId": "r"
    }
   },
   "outputs": [],
   "source": [
    "introduce_diversity <- function(population, diversity_threshold = 0.9) {\n",
    "  n <- length(population[[1]])\n",
    "  unique_individuals <- length(unique(sapply(population, paste, collapse = \"\")))\n",
    "  if (unique_individuals / length(population) < diversity_threshold) {\n",
    "    num_new_individuals <- length(population) - unique_individuals\n",
    "    new_individuals <- generate_initial_population(num_new_individuals, n)\n",
    "    population[(unique_individuals + 1):length(population)] <- new_individuals\n",
    "  }\n",
    "  return(population)\n",
    "}"
   ]
  },
  {
   "cell_type": "markdown",
   "metadata": {},
   "source": [
    "### Métodos de crossover (uniform, one point, two point)"
   ]
  },
  {
   "cell_type": "code",
   "execution_count": 12,
   "metadata": {
    "vscode": {
     "languageId": "r"
    }
   },
   "outputs": [],
   "source": [
    "\n",
    "uniform_crossover <- function(parent1, parent2) {\n",
    "  size <- length(parent1)\n",
    "  child1 <- rep(-1, size)\n",
    "  child2 <- rep(-1, size)\n",
    "  used1 <- integer(0)\n",
    "  used2 <- integer(0)\n",
    "  \n",
    "  # Selección aleatoria de genes\n",
    "  for (i in seq_len(size)) {\n",
    "    if (runif(1) < 0.5) {\n",
    "      if (!(parent1[i] %in% used1)) {\n",
    "        child1[i] <- parent1[i]\n",
    "        used1 <- c(used1, parent1[i])\n",
    "      }\n",
    "    } else {\n",
    "      if (!(parent2[i] %in% used1)) {\n",
    "        child1[i] <- parent2[i]\n",
    "        used1 <- c(used1, parent2[i])\n",
    "      }\n",
    "    }\n",
    "    \n",
    "    if (runif(1) < 0.5) {\n",
    "      if (!(parent1[i] %in% used2)) {\n",
    "        child2[i] <- parent1[i]\n",
    "        used2 <- c(used2, parent1[i])\n",
    "      }\n",
    "    } else {\n",
    "      if (!(parent2[i] %in% used2)) {\n",
    "        child2[i] <- parent2[i]\n",
    "        used2 <- c(used2, parent2[i])\n",
    "      }\n",
    "    }\n",
    "  }\n",
    "  \n",
    "  # Rellenar los genes faltantes en child1\n",
    "  missing1 <- parent1[!(parent1 %in% used1)]\n",
    "  j <- 1\n",
    "  for (i in seq_len(size)) {\n",
    "    if (child1[i] == -1) {\n",
    "      child1[i] <- missing1[j]\n",
    "      j <- j + 1\n",
    "    }\n",
    "  }\n",
    "  \n",
    "  # Rellenar los genes faltantes en child2\n",
    "  missing2 <- parent2[!(parent2 %in% used2)]\n",
    "  j <- 1\n",
    "  for (i in seq_len(size)) {\n",
    "    if (child2[i] == -1) {\n",
    "      child2[i] <- missing2[j]\n",
    "      j <- j + 1\n",
    "    }\n",
    "  }\n",
    "  \n",
    "  return(list(child1 = child1, child2 = child2))\n",
    "}"
   ]
  },
  {
   "cell_type": "code",
   "execution_count": 13,
   "metadata": {
    "vscode": {
     "languageId": "r"
    }
   },
   "outputs": [],
   "source": [
    "one_point_crossover <- function(parent1, parent2) {\n",
    "  size <- length(parent1)\n",
    "  cut <- sample(2:(size - 1), 1) \n",
    "  \n",
    "  child1 <- c(parent1[1:cut], setdiff(parent2, parent1[1:cut]))\n",
    "  child2 <- c(parent2[1:cut], setdiff(parent1, parent2[1:cut]))\n",
    "  \n",
    "  return(list(child1, child2))\n",
    "}\n"
   ]
  },
  {
   "cell_type": "code",
   "execution_count": 14,
   "metadata": {
    "vscode": {
     "languageId": "r"
    }
   },
   "outputs": [],
   "source": [
    "two_point_crossover <- function(parent1, parent2) {\n",
    "  size <- length(parent1)\n",
    "  cuts <- sort(sample(0:(size - 1), 2))\n",
    "  cut1 <- cuts[1]\n",
    "  cut2 <- cuts[2]\n",
    "  \n",
    "  child1 <- rep(NA, size)\n",
    "  child2 <- rep(NA, size)\n",
    "  \n",
    "  child1[(cut1 + 1):cut2] <- parent1[(cut1 + 1):cut2]\n",
    "  child2[(cut1 + 1):cut2] <- parent2[(cut1 + 1):cut2]\n",
    "  \n",
    "  used1 <- parent1[(cut1 + 1):cut2]\n",
    "  j <- (cut2 + 1) %% size\n",
    "  if (j == 0) j <- size\n",
    "  \n",
    "  for (i in 1:size) {\n",
    "    if (!(parent2[i] %in% used1)) {\n",
    "      while (!is.na(child1[j])) {\n",
    "        j <- (j %% size) + 1\n",
    "        if (j == 0) j <- size\n",
    "      }\n",
    "      child1[j] <- parent2[i]\n",
    "    }\n",
    "  }\n",
    "  \n",
    "  used2 <- parent2[(cut1 + 1):cut2]\n",
    "  j <- (cut2 + 1) %% size\n",
    "  if (j == 0) j <- size\n",
    "  \n",
    "  for (i in 1:size) {\n",
    "    if (!(parent1[i] %in% used2)) {\n",
    "      while (!is.na(child2[j])) {\n",
    "        j <- (j %% size) + 1\n",
    "        if (j == 0) j <- size\n",
    "      }\n",
    "      child2[j] <- parent1[i]\n",
    "    }\n",
    "  }\n",
    "  \n",
    "  return(list(child1, child2))\n",
    "}"
   ]
  },
  {
   "cell_type": "markdown",
   "metadata": {},
   "source": [
    "### Método de mutación (adaptative, inversion, swap, insertion)"
   ]
  },
  {
   "cell_type": "code",
   "execution_count": 15,
   "metadata": {
    "vscode": {
     "languageId": "r"
    }
   },
   "outputs": [],
   "source": [
    "adaptive_mutation <- function(individual, generation, max_generations) {\n",
    "  base_mutation_rate <- 0.1\n",
    "  mutation_rate <- base_mutation_rate * (1 - generation / max_generations)\n",
    "  if (runif(1) < mutation_rate) {\n",
    "    return(swap_mutation(individual))\n",
    "  } else {\n",
    "    return(individual)\n",
    "  }\n",
    "}"
   ]
  },
  {
   "cell_type": "code",
   "execution_count": 16,
   "metadata": {
    "vscode": {
     "languageId": "r"
    }
   },
   "outputs": [],
   "source": [
    "inversion_mutation <- function(individual) {\n",
    "  idx <- sort(sample(1:length(individual), 2))  \n",
    "  individual[idx[1]:idx[2]] <- rev(individual[idx[1]:idx[2]]) \n",
    "  return(individual)\n",
    "}"
   ]
  },
  {
   "cell_type": "code",
   "execution_count": 17,
   "metadata": {
    "vscode": {
     "languageId": "r"
    }
   },
   "outputs": [],
   "source": [
    "swap_mutation <- function(individual) {\n",
    "  idx <- sample(1:length(individual), 2)\n",
    "  individual[idx] <- individual[rev(idx)]\n",
    "  return(individual)\n",
    "}"
   ]
  },
  {
   "cell_type": "code",
   "execution_count": 18,
   "metadata": {
    "vscode": {
     "languageId": "r"
    }
   },
   "outputs": [],
   "source": [
    "insertion_mutation <- function(individual) {\n",
    "  idx <- sample(1:length(individual), 2)\n",
    "  item <- individual[idx[1]]\n",
    "  individual <- individual[-idx[1]]\n",
    "  individual <- append(individual, item, after = idx[2] - 1)\n",
    "  return(individual)\n",
    "}"
   ]
  },
  {
   "cell_type": "markdown",
   "metadata": {},
   "source": [
    "### Algoritmo genético"
   ]
  },
  {
   "cell_type": "code",
   "execution_count": 19,
   "metadata": {
    "vscode": {
     "languageId": "r"
    }
   },
   "outputs": [],
   "source": [
    "GA <- function(bp, population_size, mutation_rate, generations, elite_ratio = 0.1, mutation_strategy = \"swap\", crossover_strategy = \"two_point\", selection_method = \"tournament\", tournament_size = 3, diversity_threshold = 0.9, use_diversity = TRUE) {\n",
    "  n <- length(bp$item_sizes)\n",
    "  population <- generate_initial_population(population_size, n)\n",
    "  fitness <- sapply(population, fitness_function)\n",
    "  best_fitness <- min(fitness)\n",
    "  best_individual <- population[[which.min(fitness)]]\n",
    "  \n",
    "  best_fitness_over_time <- numeric(generations)\n",
    "  population_fitness_over_time <- matrix(NA, nrow = population_size, ncol = generations)\n",
    "  average_fitness_over_time <- numeric(generations)\n",
    "  diversity_over_time <- numeric(generations)\n",
    "  \n",
    "  best_fitness_over_time[1] <- best_fitness\n",
    "  population_fitness_over_time[, 1] <- fitness\n",
    "  average_fitness_over_time[1] <- mean(fitness)\n",
    "  diversity_over_time[1] <- length(unique(fitness))\n",
    "  \n",
    "  mutate <- switch(mutation_strategy,\n",
    "                   \"swap\" = swap_mutation,\n",
    "                   \"insertion\" = insertion_mutation,\n",
    "                   \"inversion\" = inversion_mutation,\n",
    "                   \"adaptive\" = function(individual) adaptive_mutation(individual, gen, generations))\n",
    "\n",
    "  crossover <- switch(crossover_strategy,\n",
    "                      \"one_point\" = one_point_crossover,\n",
    "                      \"two_point\" = two_point_crossover,\n",
    "                      \"uniform\" = uniform_crossover)\n",
    "  \n",
    "  for (gen in 2:generations) {\n",
    "    selected_parents <- select_parents(population, fitness, selection_method, tournament_size)\n",
    "    next_population <- vector(\"list\", population_size)\n",
    "    elite_size <- floor(population_size * elite_ratio)\n",
    "    \n",
    "    elite_indices <- order(fitness)[1:elite_size]\n",
    "    next_population[1:elite_size] <- population[elite_indices]\n",
    "    \n",
    "    for (i in seq(elite_size + 1, population_size, by = 2)) {\n",
    "      if (i + 1 > population_size) {\n",
    "        next_population[[i]] <- population[[sample(1:length(population), 1)]]\n",
    "        break\n",
    "      }\n",
    "      parents <- selected_parents[i:(i+1)]\n",
    "      offspring <- crossover(parents[[1]], parents[[2]])\n",
    "      if (runif(1) < mutation_rate) offspring[[1]] <- mutate(offspring[[1]])\n",
    "      if (runif(1) < mutation_rate) offspring[[2]] <- mutate(offspring[[2]])\n",
    "      next_population[[i]] <- offspring[[1]]\n",
    "      next_population[[i+1]] <- offspring[[2]]\n",
    "    }\n",
    "    \n",
    "    if (use_diversity) {\n",
    "      population <- introduce_diversity(next_population, diversity_threshold)\n",
    "    } else {\n",
    "      population <- next_population\n",
    "    }\n",
    "    \n",
    "    fitness <- sapply(population, fitness_function)\n",
    "    current_best_fitness <- min(fitness)\n",
    "    if (current_best_fitness < best_fitness) {\n",
    "      best_fitness <- current_best_fitness\n",
    "      best_individual <- population[[which.min(fitness)]]\n",
    "    }\n",
    "    best_fitness_over_time[gen] <- best_fitness\n",
    "    population_fitness_over_time[, gen] <- fitness\n",
    "    average_fitness_over_time[gen] <- mean(fitness)\n",
    "    diversity_over_time[gen] <- length(unique(fitness))\n",
    "  }\n",
    "\n",
    "  return(list(best_individual = best_individual, best_fitness = best_fitness, best_fitness_over_time = best_fitness_over_time, population_fitness_over_time = population_fitness_over_time, average_fitness_over_time = average_fitness_over_time, diversity_over_time = diversity_over_time))\n",
    "}\n"
   ]
  },
  {
   "cell_type": "code",
   "execution_count": 25,
   "metadata": {
    "vscode": {
     "languageId": "r"
    }
   },
   "outputs": [],
   "source": [
    "run_ga_multiple_times <- function(bp, num_runs = 11, population_size = 100, mutation_rate = 0.01, generations = 100) {\n",
    "  results <- list()\n",
    "  \n",
    "  for (run in 1:num_runs) {\n",
    "    execution_time <- system.time({\n",
    "      result <- GA(bp, population_size, mutation_rate, generations)\n",
    "    })\n",
    "    \n",
    "    best_individual <- result$best_individual\n",
    "    best_fitness <- result$best_fitness\n",
    "    best_fitness_over_time <- result$best_fitness_over_time\n",
    "    population_fitness_over_time <- result$population_fitness_over_time\n",
    "    average_fitness_over_time <- result$average_fitness_over_time\n",
    "    diversity_over_time <- result$diversity_over_time\n",
    "    \n",
    "    results[[run]] <- list(\n",
    "      best_individual = best_individual,\n",
    "      best_fitness = best_fitness,\n",
    "      best_fitness_over_time = best_fitness_over_time,\n",
    "      population_fitness_over_time = population_fitness_over_time,\n",
    "      average_fitness_over_time = average_fitness_over_time,\n",
    "      diversity_over_time = diversity_over_time,\n",
    "      execution_time = execution_time[\"elapsed\"]\n",
    "    )\n",
    "    \n",
    "    message(\"Finished run \", run, \" for GA with population size \", population_size, \", mutation rate \", mutation_rate, \", and \", generations, \" generations. Best fitness: \", best_fitness)\n",
    "    flush.console()\n",
    "  }\n",
    "  \n",
    "  message(\"Finished running GA with population size \", population_size, \", mutation rate \", mutation_rate, \", and \", generations, \" generations.\")\n",
    "  flush.console()\n",
    "  \n",
    "  return(results)\n",
    "}\n"
   ]
  },
  {
   "cell_type": "code",
   "execution_count": 27,
   "metadata": {
    "vscode": {
     "languageId": "r"
    }
   },
   "outputs": [
    {
     "name": "stderr",
     "output_type": "stream",
     "text": [
      "\n",
      "Adjuntando el paquete: 'dplyr'\n",
      "\n",
      "\n",
      "The following objects are masked from 'package:stats':\n",
      "\n",
      "    filter, lag\n",
      "\n",
      "\n",
      "The following objects are masked from 'package:base':\n",
      "\n",
      "    intersect, setdiff, setequal, union\n",
      "\n",
      "\n"
     ]
    }
   ],
   "source": [
    "library(dplyr)"
   ]
  },
  {
   "cell_type": "code",
   "execution_count": 57,
   "metadata": {
    "vscode": {
     "languageId": "r"
    }
   },
   "outputs": [],
   "source": [
    "analyze_ga_results_df <- function(df) {\n",
    "  # Extraer y verificar los datos\n",
    "  best_fitnesses <- df$best_fitness\n",
    "  execution_times <- df$execution_time\n",
    "  \n",
    "  # Calcular estadísticas\n",
    "  summary_stats <- list(\n",
    "    best_fitness = list(\n",
    "      mean = mean(best_fitnesses),\n",
    "      sd = sd(best_fitnesses),\n",
    "      min = min(best_fitnesses),\n",
    "      max = max(best_fitnesses)\n",
    "    ),\n",
    "    execution_time = list(\n",
    "      mean = mean(execution_times),\n",
    "      sd = sd(execution_times),\n",
    "      min = min(execution_times),\n",
    "      max = max(execution_times)\n",
    "    )\n",
    "  )\n",
    "  \n",
    "  return(summary_stats)\n",
    "}\n"
   ]
  },
  {
   "cell_type": "code",
   "execution_count": 59,
   "metadata": {
    "vscode": {
     "languageId": "r"
    }
   },
   "outputs": [],
   "source": [
    "convert_to_dataframe <- function(results) {\n",
    "  data_frames <- lapply(results, function(result) {\n",
    "    data.frame(\n",
    "      best_individual = I(list(result$best_individual)), # I() para almacenar listas dentro de data.frames\n",
    "      best_fitness = result$best_fitness,\n",
    "      best_fitness_over_time = I(list(result$best_fitness_over_time)),\n",
    "      population_fitness_over_time = I(list(result$population_fitness_over_time)),\n",
    "      average_fitness_over_time = I(list(result$average_fitness_over_time)),\n",
    "      diversity_over_time = I(list(result$diversity_over_time)),\n",
    "      execution_time = result$execution_time\n",
    "    )\n",
    "  })\n",
    "  \n",
    "  combined_df <- bind_rows(data_frames)\n",
    "  return(combined_df)\n",
    "}"
   ]
  },
  {
   "cell_type": "markdown",
   "metadata": {},
   "source": [
    "## Comienzo de pruebas"
   ]
  },
  {
   "cell_type": "code",
   "execution_count": 22,
   "metadata": {
    "vscode": {
     "languageId": "r"
    }
   },
   "outputs": [
    {
     "name": "stderr",
     "output_type": "stream",
     "text": [
      "Warning message in readLines(filename):\n",
      "\"incomplete final line found on './instances/binpack1.txt'\"\n"
     ]
    }
   ],
   "source": [
    "file_path <- \"./instances/binpack1.txt\"\n",
    "instances <- read_bin_packing_instance(file_path)\n"
   ]
  },
  {
   "cell_type": "code",
   "execution_count": 23,
   "metadata": {
    "vscode": {
     "languageId": "r"
    }
   },
   "outputs": [
    {
     "name": "stdout",
     "output_type": "stream",
     "text": [
      "$problem_id\n",
      "[1] \"u120_00\"\n",
      "\n",
      "$bin_capacity\n",
      "[1] 150\n",
      "\n",
      "$num_items\n",
      "[1] 120\n",
      "\n",
      "$best_known_solution\n",
      "[1] 48\n",
      "\n",
      "$items\n",
      "  [1] 42 69 67 57 93 90 38 36 45 42 33 79 27 57 44 84 86 92 46 38 85 33 82 73 49\n",
      " [26] 70 59 23 57 72 74 69 33 42 28 46 30 64 29 74 41 49 55 98 80 32 25 38 82 30\n",
      " [51] 35 39 57 84 62 50 55 27 30 36 20 78 47 26 45 41 58 98 91 96 73 84 37 93 91\n",
      " [76] 43 73 85 81 79 71 80 76 83 41 78 70 23 42 87 43 84 60 55 49 78 73 62 36 44\n",
      "[101] 94 69 32 96 70 84 58 78 25 80 58 66 83 24 98 60 42 43 43 39\n",
      "\n"
     ]
    }
   ],
   "source": [
    "instance <- instances[[1]]\n",
    "print(instance)"
   ]
  },
  {
   "cell_type": "code",
   "execution_count": 30,
   "metadata": {
    "vscode": {
     "languageId": "r"
    }
   },
   "outputs": [
    {
     "name": "stderr",
     "output_type": "stream",
     "text": [
      "Finished run 1 for GA with population size 100, mutation rate 0.01, and 1000 generations. Best fitness: 52\n",
      "\n",
      "Finished run 2 for GA with population size 100, mutation rate 0.01, and 1000 generations. Best fitness: 51\n",
      "\n",
      "Finished run 3 for GA with population size 100, mutation rate 0.01, and 1000 generations. Best fitness: 52\n",
      "\n",
      "Finished run 4 for GA with population size 100, mutation rate 0.01, and 1000 generations. Best fitness: 52\n",
      "\n",
      "Finished run 5 for GA with population size 100, mutation rate 0.01, and 1000 generations. Best fitness: 52\n",
      "\n",
      "Finished run 6 for GA with population size 100, mutation rate 0.01, and 1000 generations. Best fitness: 51\n",
      "\n",
      "Finished run 7 for GA with population size 100, mutation rate 0.01, and 1000 generations. Best fitness: 51\n",
      "\n",
      "Finished run 8 for GA with population size 100, mutation rate 0.01, and 1000 generations. Best fitness: 52\n",
      "\n",
      "Finished run 9 for GA with population size 100, mutation rate 0.01, and 1000 generations. Best fitness: 52\n",
      "\n",
      "Finished run 10 for GA with population size 100, mutation rate 0.01, and 1000 generations. Best fitness: 52\n",
      "\n",
      "Finished run 11 for GA with population size 100, mutation rate 0.01, and 1000 generations. Best fitness: 51\n",
      "\n",
      "Finished running GA with population size 100, mutation rate 0.01, and 1000 generations.\n",
      "\n"
     ]
    }
   ],
   "source": [
    "file_path <- \"./instances/binpack1.txt\"\n",
    "instances <- read_bin_packing_instance(file_path)\n",
    "instance <- instances[[1]]\n",
    "generationsNumber <- 1000;\n",
    "bp <- BinPacking$new(item_sizes = instance$items, bin_capacity = instance$bin_capacity)\n",
    "\n",
    "instance_results = run_ga_multiple_times(bp = bp, num_runs = 11, generations = generationsNumber)"
   ]
  },
  {
   "cell_type": "code",
   "execution_count": 60,
   "metadata": {
    "vscode": {
     "languageId": "r"
    }
   },
   "outputs": [
    {
     "name": "stdout",
     "output_type": "stream",
     "text": [
      "$best_fitness\n",
      "$best_fitness$mean\n",
      "[1] 51.63636\n",
      "\n",
      "$best_fitness$sd\n",
      "[1] 0.504525\n",
      "\n",
      "$best_fitness$min\n",
      "[1] 51\n",
      "\n",
      "$best_fitness$max\n",
      "[1] 52\n",
      "\n",
      "\n",
      "$execution_time\n",
      "$execution_time$mean\n",
      "[1] 67.17973\n",
      "\n",
      "$execution_time$sd\n",
      "[1] 2.896411\n",
      "\n",
      "$execution_time$min\n",
      "[1] 62.441\n",
      "\n",
      "$execution_time$max\n",
      "[1] 71.638\n",
      "\n",
      "\n"
     ]
    }
   ],
   "source": [
    "instance_results_df <- convert_to_dataframe(instance_results)\n",
    "summary_stats <- analyze_ga_results_df(instance_results_df)\n",
    "print(summary_stats)"
   ]
  },
  {
   "cell_type": "code",
   "execution_count": 61,
   "metadata": {
    "vscode": {
     "languageId": "r"
    }
   },
   "outputs": [
    {
     "name": "stderr",
     "output_type": "stream",
     "text": [
      "Finished run 1 for GA with population size 100, mutation rate 0.01, and 1000 generations. Best fitness: 22\n",
      "\n",
      "Finished run 2 for GA with population size 100, mutation rate 0.01, and 1000 generations. Best fitness: 22\n",
      "\n",
      "Finished run 3 for GA with population size 100, mutation rate 0.01, and 1000 generations. Best fitness: 22\n",
      "\n",
      "Finished run 4 for GA with population size 100, mutation rate 0.01, and 1000 generations. Best fitness: 21\n",
      "\n",
      "Finished run 5 for GA with population size 100, mutation rate 0.01, and 1000 generations. Best fitness: 21\n",
      "\n",
      "Finished run 6 for GA with population size 100, mutation rate 0.01, and 1000 generations. Best fitness: 22\n",
      "\n",
      "Finished run 7 for GA with population size 100, mutation rate 0.01, and 1000 generations. Best fitness: 22\n",
      "\n",
      "Finished run 8 for GA with population size 100, mutation rate 0.01, and 1000 generations. Best fitness: 22\n",
      "\n",
      "Finished run 9 for GA with population size 100, mutation rate 0.01, and 1000 generations. Best fitness: 22\n",
      "\n",
      "Finished run 10 for GA with population size 100, mutation rate 0.01, and 1000 generations. Best fitness: 22\n",
      "\n",
      "Finished run 11 for GA with population size 100, mutation rate 0.01, and 1000 generations. Best fitness: 21\n",
      "\n",
      "Finished running GA with population size 100, mutation rate 0.01, and 1000 generations.\n",
      "\n"
     ]
    },
    {
     "name": "stdout",
     "output_type": "stream",
     "text": [
      "$best_fitness\n",
      "$best_fitness$mean\n",
      "[1] 21.72727\n",
      "\n",
      "$best_fitness$sd\n",
      "[1] 0.4670994\n",
      "\n",
      "$best_fitness$min\n",
      "[1] 21\n",
      "\n",
      "$best_fitness$max\n",
      "[1] 22\n",
      "\n",
      "\n",
      "$execution_time\n",
      "$execution_time$mean\n",
      "[1] 28.65782\n",
      "\n",
      "$execution_time$sd\n",
      "[1] 3.255266\n",
      "\n",
      "$execution_time$min\n",
      "[1] 24.134\n",
      "\n",
      "$execution_time$max\n",
      "[1] 32.775\n",
      "\n",
      "\n"
     ]
    }
   ],
   "source": [
    "file_path <- \"./instances/binpack5.txt\"\n",
    "instances <- read_bin_packing_instance(file_path)\n",
    "instance <- instances[[1]]\n",
    "generationsNumber <- 1000;\n",
    "bp <- BinPacking$new(item_sizes = instance$items, bin_capacity = instance$bin_capacity)\n",
    "\n",
    "instance_results = run_ga_multiple_times(bp = bp, num_runs = 11, generations = generationsNumber)\n",
    "instance_results_df <- convert_to_dataframe(instance_results)\n",
    "summary_stats <- analyze_ga_results_df(instance_results_df)\n",
    "print(summary_stats)"
   ]
  },
  {
   "cell_type": "code",
   "execution_count": 62,
   "metadata": {
    "vscode": {
     "languageId": "r"
    }
   },
   "outputs": [
    {
     "name": "stderr",
     "output_type": "stream",
     "text": [
      "Finished run 1 for GA with population size 100, mutation rate 0.01, and 1000 generations. Best fitness: 7\n",
      "\n",
      "Finished run 2 for GA with population size 100, mutation rate 0.01, and 1000 generations. Best fitness: 7\n",
      "\n",
      "Finished run 3 for GA with population size 100, mutation rate 0.01, and 1000 generations. Best fitness: 7\n",
      "\n",
      "Finished run 4 for GA with population size 100, mutation rate 0.01, and 1000 generations. Best fitness: 7\n",
      "\n",
      "Finished run 5 for GA with population size 100, mutation rate 0.01, and 1000 generations. Best fitness: 7\n",
      "\n",
      "Finished run 6 for GA with population size 100, mutation rate 0.01, and 1000 generations. Best fitness: 7\n",
      "\n",
      "Finished run 7 for GA with population size 100, mutation rate 0.01, and 1000 generations. Best fitness: 7\n",
      "\n",
      "Finished run 8 for GA with population size 100, mutation rate 0.01, and 1000 generations. Best fitness: 7\n",
      "\n",
      "Finished run 9 for GA with population size 100, mutation rate 0.01, and 1000 generations. Best fitness: 7\n",
      "\n",
      "Finished run 10 for GA with population size 100, mutation rate 0.01, and 1000 generations. Best fitness: 7\n",
      "\n",
      "Finished run 11 for GA with population size 100, mutation rate 0.01, and 1000 generations. Best fitness: 7\n",
      "\n",
      "Finished running GA with population size 100, mutation rate 0.01, and 1000 generations.\n",
      "\n"
     ]
    },
    {
     "name": "stdout",
     "output_type": "stream",
     "text": [
      "$best_fitness\n",
      "$best_fitness$mean\n",
      "[1] 7\n",
      "\n",
      "$best_fitness$sd\n",
      "[1] 0\n",
      "\n",
      "$best_fitness$min\n",
      "[1] 7\n",
      "\n",
      "$best_fitness$max\n",
      "[1] 7\n",
      "\n",
      "\n",
      "$execution_time\n",
      "$execution_time$mean\n",
      "[1] 12.05109\n",
      "\n",
      "$execution_time$sd\n",
      "[1] 1.399522\n",
      "\n",
      "$execution_time$min\n",
      "[1] 10.797\n",
      "\n",
      "$execution_time$max\n",
      "[1] 15.252\n",
      "\n",
      "\n"
     ]
    }
   ],
   "source": [
    "file_path <- \"./instances/instances1.txt\"\n",
    "instances <- read_bin_packing_instance(file_path)\n",
    "instance <- instances[[1]]\n",
    "generationsNumber <- 1000;\n",
    "bp <- BinPacking$new(item_sizes = instance$items, bin_capacity = instance$bin_capacity)\n",
    "\n",
    "instance_results = run_ga_multiple_times(bp = bp, num_runs = 11, generations = generationsNumber)\n",
    "instance_results_df <- convert_to_dataframe(instance_results)\n",
    "summary_stats <- analyze_ga_results_df(instance_results_df)\n",
    "print(summary_stats)"
   ]
  },
  {
   "cell_type": "code",
   "execution_count": 63,
   "metadata": {
    "vscode": {
     "languageId": "r"
    }
   },
   "outputs": [
    {
     "name": "stderr",
     "output_type": "stream",
     "text": [
      "Finished run 1 for GA with population size 100, mutation rate 0.01, and 1000 generations. Best fitness: 2\n",
      "\n",
      "Finished run 2 for GA with population size 100, mutation rate 0.01, and 1000 generations. Best fitness: 2\n",
      "\n",
      "Finished run 3 for GA with population size 100, mutation rate 0.01, and 1000 generations. Best fitness: 2\n",
      "\n",
      "Finished run 4 for GA with population size 100, mutation rate 0.01, and 1000 generations. Best fitness: 2\n",
      "\n",
      "Finished run 5 for GA with population size 100, mutation rate 0.01, and 1000 generations. Best fitness: 2\n",
      "\n",
      "Finished run 6 for GA with population size 100, mutation rate 0.01, and 1000 generations. Best fitness: 2\n",
      "\n",
      "Finished run 7 for GA with population size 100, mutation rate 0.01, and 1000 generations. Best fitness: 2\n",
      "\n",
      "Finished run 8 for GA with population size 100, mutation rate 0.01, and 1000 generations. Best fitness: 2\n",
      "\n",
      "Finished run 9 for GA with population size 100, mutation rate 0.01, and 1000 generations. Best fitness: 2\n",
      "\n",
      "Finished run 10 for GA with population size 100, mutation rate 0.01, and 1000 generations. Best fitness: 2\n",
      "\n",
      "Finished run 11 for GA with population size 100, mutation rate 0.01, and 1000 generations. Best fitness: 2\n",
      "\n",
      "Finished running GA with population size 100, mutation rate 0.01, and 1000 generations.\n",
      "\n"
     ]
    },
    {
     "name": "stdout",
     "output_type": "stream",
     "text": [
      "$best_fitness\n",
      "$best_fitness$mean\n",
      "[1] 2\n",
      "\n",
      "$best_fitness$sd\n",
      "[1] 0\n",
      "\n",
      "$best_fitness$min\n",
      "[1] 2\n",
      "\n",
      "$best_fitness$max\n",
      "[1] 2\n",
      "\n",
      "\n",
      "$execution_time\n",
      "$execution_time$mean\n",
      "[1] 8.075182\n",
      "\n",
      "$execution_time$sd\n",
      "[1] 0.6002707\n",
      "\n",
      "$execution_time$min\n",
      "[1] 7.167\n",
      "\n",
      "$execution_time$max\n",
      "[1] 8.811\n",
      "\n",
      "\n"
     ]
    }
   ],
   "source": [
    "file_path <- \"./instances/triplets.txt\"\n",
    "instances <- read_bin_packing_instance(file_path)\n",
    "instance <- instances[[1]]\n",
    "generationsNumber <- 1000;\n",
    "bp <- BinPacking$new(item_sizes = instance$items, bin_capacity = instance$bin_capacity)\n",
    "\n",
    "instance_results = run_ga_multiple_times(bp = bp, num_runs = 11, generations = generationsNumber)\n",
    "instance_results_df <- convert_to_dataframe(instance_results)\n",
    "summary_stats <- analyze_ga_results_df(instance_results_df)\n",
    "print(summary_stats)"
   ]
  },
  {
   "cell_type": "code",
   "execution_count": 64,
   "metadata": {
    "vscode": {
     "languageId": "r"
    }
   },
   "outputs": [
    {
     "name": "stderr",
     "output_type": "stream",
     "text": [
      "Finished run 1 for GA with population size 100, mutation rate 0.01, and 1000 generations. Best fitness: 10\n",
      "\n",
      "Finished run 2 for GA with population size 100, mutation rate 0.01, and 1000 generations. Best fitness: 10\n",
      "\n",
      "Finished run 3 for GA with population size 100, mutation rate 0.01, and 1000 generations. Best fitness: 10\n",
      "\n",
      "Finished run 4 for GA with population size 100, mutation rate 0.01, and 1000 generations. Best fitness: 10\n",
      "\n",
      "Finished run 5 for GA with population size 100, mutation rate 0.01, and 1000 generations. Best fitness: 10\n",
      "\n",
      "Finished run 6 for GA with population size 100, mutation rate 0.01, and 1000 generations. Best fitness: 10\n",
      "\n",
      "Finished run 7 for GA with population size 100, mutation rate 0.01, and 1000 generations. Best fitness: 10\n",
      "\n",
      "Finished run 8 for GA with population size 100, mutation rate 0.01, and 1000 generations. Best fitness: 10\n",
      "\n",
      "Finished run 9 for GA with population size 100, mutation rate 0.01, and 1000 generations. Best fitness: 10\n",
      "\n",
      "Finished run 10 for GA with population size 100, mutation rate 0.01, and 1000 generations. Best fitness: 10\n",
      "\n",
      "Finished run 11 for GA with population size 100, mutation rate 0.01, and 1000 generations. Best fitness: 10\n",
      "\n",
      "Finished running GA with population size 100, mutation rate 0.01, and 1000 generations.\n",
      "\n"
     ]
    },
    {
     "name": "stdout",
     "output_type": "stream",
     "text": [
      "$best_fitness\n",
      "$best_fitness$mean\n",
      "[1] 10\n",
      "\n",
      "$best_fitness$sd\n",
      "[1] 0\n",
      "\n",
      "$best_fitness$min\n",
      "[1] 10\n",
      "\n",
      "$best_fitness$max\n",
      "[1] 10\n",
      "\n",
      "\n",
      "$execution_time\n",
      "$execution_time$mean\n",
      "[1] 13.87555\n",
      "\n",
      "$execution_time$sd\n",
      "[1] 0.3876664\n",
      "\n",
      "$execution_time$min\n",
      "[1] 13.463\n",
      "\n",
      "$execution_time$max\n",
      "[1] 14.763\n",
      "\n",
      "\n"
     ]
    }
   ],
   "source": [
    "file_path <- \"./instances/instances2.txt\"\n",
    "instances <- read_bin_packing_instance(file_path)\n",
    "instance <- instances[[1]]\n",
    "generationsNumber <- 1000;\n",
    "bp <- BinPacking$new(item_sizes = instance$items, bin_capacity = instance$bin_capacity)\n",
    "\n",
    "instance_results = run_ga_multiple_times(bp = bp, num_runs = 11, generations = generationsNumber)\n",
    "instance_results_df <- convert_to_dataframe(instance_results)\n",
    "summary_stats <- analyze_ga_results_df(instance_results_df)\n",
    "print(summary_stats)"
   ]
  }
 ],
 "metadata": {
  "kernelspec": {
   "display_name": "R",
   "language": "R",
   "name": "ir"
  },
  "language_info": {
   "codemirror_mode": "r",
   "file_extension": ".r",
   "mimetype": "text/x-r-source",
   "name": "R",
   "pygments_lexer": "r",
   "version": "4.4.0"
  }
 },
 "nbformat": 4,
 "nbformat_minor": 2
}
