{
 "cells": [
  {
   "cell_type": "markdown",
   "metadata": {},
   "source": [
    "### Julia + JuMP para optimización matemática\n",
    "\n",
    "\n",
    "\n",
    "#### Instalar JuMP y GLPK\n",
    "\n",
    "En primer lugar se agregará el paquete JuMP ejecutando el siguiente código en el Notebook, nótese que el simbolo # inicia un comentario en Julia."
   ]
  },
  {
   "cell_type": "code",
   "execution_count": 1,
   "metadata": {
    "scrolled": true
   },
   "outputs": [
    {
     "name": "stderr",
     "output_type": "stream",
     "text": [
      "\u001b[32m\u001b[1m    Updating\u001b[22m\u001b[39m registry at `~/.julia/registries/General.toml`\n",
      "\u001b[32m\u001b[1m   Resolving\u001b[22m\u001b[39m package versions...\n",
      "\u001b[32m\u001b[1m  No Changes\u001b[22m\u001b[39m to `~/.julia/environments/v1.10/Project.toml`\n",
      "\u001b[32m\u001b[1m  No Changes\u001b[22m\u001b[39m to `~/.julia/environments/v1.10/Manifest.toml`\n"
     ]
    }
   ],
   "source": [
    "# import Pkg # Importa el administrador de paquetes Pkg\n",
    "# Pkg.add(\"JuMP\") # Instala el paquete JuMP"
   ]
  },
  {
   "cell_type": "markdown",
   "metadata": {},
   "source": [
    "Es necesario instalar un Solver (paquete con métodos de optimización implementados, por ejemplo Simplex). Se instalará el Solver open source GLPK (pueden encontrar info en https://www.gnu.org/software/glpk/) escribiendo el siguiente comando."
   ]
  },
  {
   "cell_type": "code",
   "execution_count": 2,
   "metadata": {},
   "outputs": [
    {
     "name": "stderr",
     "output_type": "stream",
     "text": [
      "\u001b[32m\u001b[1m   Resolving\u001b[22m\u001b[39m package versions...\n",
      "\u001b[32m\u001b[1m  No Changes\u001b[22m\u001b[39m to `~/.julia/environments/v1.10/Project.toml`\n",
      "\u001b[32m\u001b[1m  No Changes\u001b[22m\u001b[39m to `~/.julia/environments/v1.10/Manifest.toml`\n"
     ]
    }
   ],
   "source": [
    "# Pkg.add(\"GLPK\") # Instala el paquete GLPK"
   ]
  },
  {
   "cell_type": "markdown",
   "metadata": {},
   "source": [
    "#### Ejemplo nro. 1 \n",
    "Se resuelve el siguiente problema de programación lineal utilizando JuMP para verificar su funcionamiento."
   ]
  },
  {
   "cell_type": "markdown",
   "metadata": {},
   "source": [
    "$$ maximizar \\quad 3x_{1} + 2x_{2} $$\n",
    "$$ s.a. \\quad 2x_{1} + x_{2} \\leq 100 $$ \n",
    "$$ x_{1} + x_{2} \\leq 80  $$\n",
    "$$ x_{1} \\geq 0, x_{2} \\geq 0 $$ "
   ]
  },
  {
   "cell_type": "code",
   "execution_count": null,
   "metadata": {},
   "outputs": [],
   "source": [
    "using JuMP # Importa el módulo JuMP.\n",
    "using GLPK # Importa el módulo GLPK para utilizar el solver.\n",
    "\n",
    "# CONSTRUCCIÓN DEL MODELO\n",
    "#modeloUno = Model(with_optimizer(GLPK.Optimizer)) # Instancia un modelo. Las variables y restricciones son asociadas con un modelo.\n",
    "# El modelo creado se encuentra asociado a un solver, en este caso GLPK. \n",
    "\n",
    "modeloUno = Model(GLPK.Optimizer)\n",
    "\n",
    "# VARIABLES DE DECISIÓN\n",
    "# Una variable es modelada utilizando @variable(nombre del modelo, nombre de la variable y límites, tipo de la variable). \n",
    "# El límite puede ser superior, inferior o ambos. Si no se define un tipo, entonces la variable es tratada como real. \n",
    "# Para variables enteras se utiliza Int y para variables binarias Bin.  \n",
    "@variable(modeloUno, x >= 0) # Modela la variable continua x.\n",
    "@variable(modeloUno, y >= 0) # Modela la variable continua y.\n",
    "\n",
    "# Agunos ejemplos:\n",
    "# @variable(nombre modelo, x, Bin) # Modela la variable binaria x, nótese que no se utiliza límites.\n",
    "# @variable(myModel, x <= 10) # Modela una variable continua con límite suprior. \n",
    "# @variable(myModel, 0 <= x <= 10, Int) # Modela una variable entera con límite superior e inferior.\n",
    "\n",
    "\n",
    "# FUNCIÓN OBJETIVO\n",
    "@objective(modeloUno, Max, 3x + 2y) # Establece la maximización de la función objetivo. Para minimizar, utilizar Min.\n",
    "\n",
    "# RESTRICCIONES\n",
    "@constraint(modeloUno, 2x + y <= 100) # Agrega una restriccción al modelo.\n",
    "@constraint(modeloUno, x + y <= 80) # Agrega una restriccción al modelo.\n",
    "\n",
    "optimize!(modeloUno) # Resuelve el  modelo\n",
    "objective_value(modeloUno) # Entrega el valor objetivo óptimo"
   ]
  },
  {
   "cell_type": "code",
   "execution_count": null,
   "metadata": {},
   "outputs": [],
   "source": [
    "termination_status(modeloUno) # Entrega valor de estado de término del modelo. 1 = óptimo; 2 = infactible."
   ]
  },
  {
   "cell_type": "code",
   "execution_count": null,
   "metadata": {},
   "outputs": [],
   "source": [
    "value(x) # Entrega el valor de la variable de decisión x."
   ]
  },
  {
   "cell_type": "code",
   "execution_count": null,
   "metadata": {},
   "outputs": [],
   "source": [
    "value(y) # Entrega el valor de la variable de decisión y."
   ]
  },
  {
   "cell_type": "markdown",
   "metadata": {},
   "source": [
    "#### Ejemplo nro. 1 de otra forma\n",
    "Se resuelve el mismo problema utilizando vectores para los parámetros (costos, lado derecho, coeficientes tecnológicos) y para las variables de decisión.  \n",
    "$$ maximizar \\quad 3x_{1} + 2x_{2} $$ \n",
    "$$ s.a. \\quad 2x_{1} + x_{2} \\leq 100 $$\n",
    "$$ x_{1} + x_{2} \\leq 80  $$\n",
    "$$ x_{1} \\geq 0, x_{2} \\geq 0 $$"
   ]
  },
  {
   "cell_type": "code",
   "execution_count": null,
   "metadata": {},
   "outputs": [],
   "source": [
    "using JuMP # Importa el módulo JuMP.\n",
    "using GLPK # Importa el módulo GLPK para utilizar el solver.\n",
    "\n",
    "# CONSTRUCCIÓN DEL MODELO\n",
    "modeloDos = Model(GLPK.Optimizer) # Instancia un modelo.\n",
    "\n",
    "# PARÁMETROS DE PROBLEMA\n",
    "c = [3; 2] # Construye un arreglo de dimensiones 2 (fila) x 1 (columna).\n",
    "A = [2 1; # Construye un arreglo de dimensiones 2 (fila) x 2 (columna).\n",
    "     1 1]\n",
    "b = [100; 80] # Construye un vector de dimensiones 2 (fila) x 1 (columna).\n",
    "\n",
    "m,n = size(A) # Entrega las dimensiones del arreglo\n",
    "# VARIABLES DE DECISIÓN\n",
    "@variable(modeloDos, x[1:n] >= 0) # Modela un arreglo de variables x de dimensiones 1 (fila) x 2 (columna).\n",
    "\n",
    "# FUNCIÓN OBJETIVO\n",
    "@objective(modeloDos, Max, sum(c[i]*x[i] for i in 1:n)) # Establece la maximización de la función objetivo.\n",
    "# Utiliza la función sum() para definir la función objetivo mediante una sumatoria.\n",
    "\n",
    "# RESTRICCIONES\n",
    "for i in 1:m\n",
    "    @constraint(modeloDos, sum(A[i,j]*x[j] for j in 1:n) <= b[i]) # Agrega dos restriccción al modelo.\n",
    "end\n",
    "    \n",
    "optimize!(modeloDos) # Resuelve el  modelo\n",
    "objective_value(modeloDos) # Entrega el valor objetivo óptimo"
   ]
  },
  {
   "cell_type": "code",
   "execution_count": null,
   "metadata": {},
   "outputs": [],
   "source": [
    "for i in 1:n\n",
    "    println(\"Variable X\",i,\": \",value(x[i]))\n",
    "end"
   ]
  },
  {
   "cell_type": "markdown",
   "metadata": {},
   "source": [
    "#### Ejemplo nro. 2\n",
    "Un fabricante mantiene tres centros de distribución: Cerrillos, Peñalolén y Quilicura. Estos centros tienen disponibilidades de: 2000, 4000 y 4000 unidades respectivamente. Sus detallistas requieren las siguientes cantidades: Maipú 2500, Estación Central 1000, Santiago 2000, Providencia 3000 y La Reina 1500. El costo de transporte por unidad en pesos entre cada centro de distribución y las comunas de los detallistas se dan en la tabla:\n",
    "\n",
    " _   |Maipú |Est. Central |Santiago |Providencia |La Reina\n",
    "-----|-----|-----|-----|-----|-----\n",
    "Cerrillos|55|30|40|50|40\n",
    "Peñalolén|35|30|100|45|60\n",
    "Quilicura|40|60|95|35|30\n",
    "\n",
    "Formule un modelo para determinar el número de unidades que debe enviar el fabricante desde cada centro de distribución a cada detallista, de manera que los costos totales de transporte sean mínimos.\n",
    "\n",
    "=============================================================================================================================\n",
    "\n",
    "Modelo:\n",
    "\n",
    "\n",
    "Variables de decisión:\n",
    "\n",
    "$x_{ij}:$ cantidad de unidades enviadas desde el centro i-ésimo al detallista j-ésimo; con i = 1,2,3 y j = 1,...,5\n",
    "\n",
    "Función objetivo:\n",
    "\n",
    "$minimizar\\, \\sum_{i=1}^{3}\\sum_{j=1}^{5}c_{ij}x_{ij}$\n",
    "\n",
    "Restricciones:\n",
    "\n",
    "$o_{i}:$ oferta del punto de distribución i-ésimo\n",
    "\n",
    "$d_{j}:$ demanda del punto detallista j-ésimo\n",
    "\n",
    "$\\sum_{j=1}^{5}x_{ij} \\leq o_{i}$; con i = 1,2,3 \n",
    "\n",
    "$\\sum_{i=1}^{3}x_{ij} \\geq d_{j}$; con j = 1,...,5\n",
    "\n",
    "Restricciones de no negatividad:\n",
    "\n",
    "$x_{ij} \\geq 0$; con i = 1,2,3 y j = 1,...,5\n",
    "\n"
   ]
  },
  {
   "cell_type": "code",
   "execution_count": null,
   "metadata": {},
   "outputs": [],
   "source": [
    "using JuMP\n",
    "using GLPK\n",
    "\n",
    "# CONSTRUCCIÓN DEL MODELO\n",
    "modeloTres = Model(GLPK.Optimizer)\n",
    "\n",
    "# PARÁMETROS DE PROBLEMA\n",
    "c = [55 30 40 50 40; \n",
    "    35 30 100 45 60; \n",
    "    40 60 95 35 30]\n",
    "\n",
    "\n",
    "A = [1 1 1 1 1 0 0 0 0 0 0 0 0 0 0;\n",
    "     0 0 0 0 0 1 1 1 1 1 0 0 0 0 0;\n",
    "     0 0 0 0 0 0 0 0 0 0 1 1 1 1 1;\n",
    "     1 0 0 0 0 1 0 0 0 0 1 0 0 0 0;\n",
    "     0 1 0 0 0 0 1 0 0 0 0 1 0 0 0;\n",
    "     0 0 1 0 0 0 0 1 0 0 0 0 1 0 0;\n",
    "     0 0 0 1 0 0 0 0 1 0 0 0 0 1 0;\n",
    "     0 0 0 0 1 0 0 0 0 1 0 0 0 0 1]\n",
    "\n",
    "b = [2000; 4000; 4000; 2500; 1000; 2000; 3000; 1500]\n",
    "\n",
    "m,n = size(A)\n",
    "\n",
    "# VARIABLES DE DECISIÓN\n",
    "@variable(modeloTres, x[1:3, 1:5] >= 0)\n",
    "\n",
    "# FUNCIÓN OBJETIVO\n",
    "@objective(modeloTres, Min, sum(c[i,j]*x[i,j] for i in 1:3, j in 1:5))\n",
    "\n",
    "# RESTRICCIONES\n",
    "for i in 1:m\n",
    "    @constraint(modeloTres, sum(A[i, (j * 5 + k)]*x[(j + 1),k] for j in 0:2, k in 1:5) == b[i])\n",
    "end\n",
    "\n",
    " \n",
    "optimize!(modeloTres)\n",
    "objective_value(modeloTres)"
   ]
  },
  {
   "cell_type": "code",
   "execution_count": null,
   "metadata": {},
   "outputs": [],
   "source": [
    "for i in 1:3\n",
    "    for j in 1:5\n",
    "        println(\"Variable X\",i,j,\" = \",value(x[i,j]))\n",
    "    end\n",
    "end"
   ]
  },
  {
   "cell_type": "markdown",
   "metadata": {
    "tags": []
   },
   "source": [
    "#### Ejemplo nro. 3\n",
    "La industria papelera DIMAR que fabrica papel y lo distribuye en rollos debe determinar la mejor forma de realizar el proceso de corte. Los rollos de papel que se producen tienen un ancho de 100 cm; sin embargo, algunas librerías demandan rollos de 30 cm, 45 cm y 50 cm de ancho. Por lo tanto, al cortar los rollos de 100 cm se incurre en una pérdida de material que depende de la forma en que se corten los rollos originales. \n",
    "\n",
    "Se desea determinar la forma de efectuar el corte de manera que se satisfaga la demanda y se minimice la pérdida total de material. Se tiene un pedido de 800 rollos de 30 cm de ancho, 500 rollos de 45 cm y 1.000 rollos de 50 cm. Plantee un modelo de PL que minimice las perdidas.\n",
    "\n",
    "=============================================================================================================================\n",
    "\n",
    "Modelo:\n",
    "\n",
    "-|Esquema de corte | pérdida \n",
    "-----|-----|-----\n",
    "1|30-30-30|10\n",
    "2|30-45|25\n",
    "3|30-50|20\n",
    "4|45-45|10\n",
    "5|45-50|5\n",
    "6|50-50|0\n",
    "\n",
    "\n",
    "\n",
    "\n",
    "Variables de decisión:\n",
    "\n",
    "$x_{i}:$ número de rollos cortados según el esquema i; con $i = 1,2,3,4,5,6$\n",
    "\n",
    "Función objetivo:\n",
    "\n",
    "$minimizar\\, 10x_{1}+25x_{2}+20x_{3}+10x_{4}+5x_{5}$\n",
    "\n",
    "Restricciones:\n",
    "\n",
    "$3x_{1}+x_{2}+x_{3} \\geq 800$\n",
    "\n",
    "$x_{2}+2x_{4}+x_{5} \\geq 500$\n",
    "\n",
    "$x_{3}+x_{4}+2x_{6} \\geq 1000$\n",
    "\n",
    "Restricciones de no negatividad:\n",
    "\n",
    "$x_{1},x_{2},x_{3},x_{4},x_{5},x_{6} \\geq 0$"
   ]
  },
  {
   "cell_type": "code",
   "execution_count": null,
   "metadata": {},
   "outputs": [],
   "source": [
    "using JuMP\n",
    "using GLPK\n",
    "\n",
    "# CONSTRUCCIÓN DEL MODELO\n",
    "modeloCuatro = Model(GLPK.Optimizer)\n",
    "\n",
    "# PARÁMETROS DE PROBLEMA\n",
    "c = [10 25 20 10 5 0]\n",
    "\n",
    "\n",
    "A = [3 1 1 0 0 0;\n",
    "     0 1 0 2 1 0;\n",
    "     0 0 1 1 0 2]\n",
    "\n",
    "b = [800; 500; 1000]\n",
    "\n",
    "\n",
    "# VARIABLES DE DECISIÓN\n",
    "@variable(modeloCuatro, x[1:6] >= 0, Int)\n",
    "\n",
    "# FUNCIÓN OBJETIVO\n",
    "@objective(modeloCuatro, Min, sum(c[i]*x[i] for i in 1:6))\n",
    "\n",
    "# RESTRICCIONES\n",
    "for i in 1:3\n",
    "    @constraint(modeloCuatro, sum(A[i,j]*x[j] for j in 1:6) >= b[i])\n",
    "end\n",
    "\n",
    " \n",
    "optimize!(modeloCuatro)\n",
    "objective_value(modeloCuatro)"
   ]
  },
  {
   "cell_type": "code",
   "execution_count": null,
   "metadata": {},
   "outputs": [],
   "source": [
    "for j in 1:6\n",
    "    println(\"Variable X\",j,\" = \",value(x[j]))\n",
    "end"
   ]
  },
  {
   "cell_type": "markdown",
   "metadata": {
    "tags": []
   },
   "source": [
    "#### Ejemplo nro. 4\n",
    "Una empresa siderúrgica ha recibido un pedido de 500 toneladas de acero destinado a la\n",
    "construcción naval. El acero, debe cumplir con los siguientes requisitos porcentuales en su\n",
    "composición:"
   ]
  },
  {
   "cell_type": "markdown",
   "metadata": {},
   "source": [
    "<center>Tabla 2: Requisitos porcentuales.</center>\n",
    "\n",
    "| Elemento químico \t| Mínimo Porcentual (%)  | Máximo Porcentual (%) |\n",
    "|:-----------------:|:-----------------:|:-----------------:|\n",
    "| Carbón (C)     \t| 2            \t    | 3         \t    |\n",
    "| Cobre (Cu)      \t| 0.4 \t            | 0.6         \t    |\n",
    "| Manganeso (Mn)    | 1.2     \t        | 1.65              |"
   ]
  },
  {
   "cell_type": "markdown",
   "metadata": {},
   "source": [
    "La empresa cuenta con siete materias primas diferentes en stock que pueden ser utilizadas\n",
    "para la producción del acero. En tabla nro. 3 se enumeran los porcentajes, las cantidades\n",
    "disponibles y los precios de todas las materias primas:"
   ]
  },
  {
   "cell_type": "markdown",
   "metadata": {},
   "source": [
    "<center>Tabla 3: Materias prima y costos.</center>\n",
    "\n",
    "| Materia prima     | C %  | Cu % | Mn % | Disponibilidad en t | Costo en €/t\n",
    "|:-----------------:|:----:|:----:|:----:|:-------------------:|:-----------:\n",
    "| Hierro 1          | 2.5  | 0    | 1.3  | 400                 | 200\n",
    "| Hierro 2          | 3    | 0    | 0.8  | 300                 | 250\n",
    "| Hierro 3          | 0    | 0.3  | 0    | 600                 | 150\n",
    "| Cobre 1           | 0    | 90   | 0    | 500                 | 220\n",
    "| Cobre 2           | 0    | 96   | 4    | 200                 | 240\n",
    "| Aluminio 1        | 0    | 0.4  | 1.2  | 300                 | 200\n",
    "| Aluminio 2        | 0    | 0.6  | 0    | 250                 | 165"
   ]
  },
  {
   "cell_type": "markdown",
   "metadata": {},
   "source": [
    "El objetivo es determinar la composición de la aleación de acero que minimice el costo de\n",
    "producción."
   ]
  },
  {
   "cell_type": "markdown",
   "metadata": {},
   "source": [
    "=============================================================================================================================\n",
    "\n",
    "Modelo:\n",
    "\n",
    "Variables de decisión:\n",
    "\n",
    "$x_{i}:$ cantidad de materia prima tipo $\\textit{i}$ utilizada en la aleación; con i = 1,...,7\n",
    "\n",
    "Función objetivo: (minimizar costos)\n",
    "\n",
    "$minimizar\\,200x_{1}+250x_{2}+150x_{3}+220x_{4}+240x_{5}+200x_{6}+165x_{7}$\n",
    "\n",
    "Restricciones:\n",
    "\n",
    "$0.025x_{1}+0.03x_{2} \\geq 0.02 \\cdot 500$\n",
    "\n",
    "$0.003x_{3}+0.9x_{4}+0.96x_{5}+0.004x_{6}+0.006x_{7} \\geq 0.004 \\cdot 500$\n",
    "\n",
    "$0.013x_{1}+0.008x_{2}+0.04x_{5}+0.012x_{6} \\geq 0.012 \\cdot 500$\n",
    "\n",
    "$0.025x_{1}+0.03x_{2} \\leq 0.03 \\cdot 500$\n",
    "\n",
    "$0.003x_{3}+0.9x_{4}+0.96x_{5}+0.004x_{6}+0.006x_{7} \\leq 0.006 \\cdot 500$\n",
    "\n",
    "$0.013x_{1}+0.008x_{2}+0.04x_{5}+0.012x_{6} \\leq 0.0165 \\cdot 500$\n",
    "\n",
    "$x_{1}+x_{2}+x_{3}+x_{4}+x_{5}+x_{6}+x_{7}=500$\n",
    "\n",
    "\n",
    "Restricciones de disponibilidad:\n",
    "\n",
    "$x_{1} \\leq 400 ,x_{2} \\leq 300,x_{3} \\leq 600,x_{4} \\leq 500,x_{5} \\leq 200,x_{6} \\leq 300,x_{7} \\leq 250$\n",
    "\n",
    "Restricciones de no negatividad:\n",
    "\n",
    "$x_{1},x_{2},x_{3},x_{4},x_{5},x_{6},x_{7} \\geq 0$\n",
    "\n",
    "\n",
    "\n"
   ]
  },
  {
   "cell_type": "code",
   "execution_count": null,
   "metadata": {},
   "outputs": [],
   "source": [
    "using JuMP # Importa el módulo JuMP.\n",
    "using GLPK # Importa el módulo GLPK para utilizar el solver.\n",
    "\n",
    "# CONSTRUCCIÓN DEL MODELO\n",
    "modeloCinco = Model(GLPK.Optimizer) # Instancia un modelo.\n",
    "\n",
    "# PARÁMETROS DE PROBLEMA\n",
    "porcentual = [0.02 0.03; 0.004 0.006; 0.012 0.0165] \n",
    "\n",
    "materiaPrima = [0.025 0 0.013 400 200;\n",
    "0.03 0 0.008 300 250;\n",
    "0 0.003 0 600 150;\n",
    "0 0.9 0 500 220;\n",
    "0 0.96 0.04 200 240;\n",
    "0 0.004 0.012 300 200;\n",
    "0 0.006 0 250 165]\n",
    "\n",
    "\n",
    "m,n = size(materiaPrima) # Entrega las dimensiones del arreglo\n",
    "# VARIABLES DE DECISIÓN\n",
    "@variable(modeloCinco, x[1:m] >= 0) # Modela un arreglo de variables x de dimensiones 1 x m.\n",
    "\n",
    "# FUNCIÓN OBJETIVO\n",
    "@objective(modeloCinco, Min, sum(materiaPrima[i, 5] * x[i] for i in 1:m)) # Establece la minimización de la función objetivo.\n",
    "# Utiliza la función sum() para definir la función objetivo mediante una sumatoria.\n",
    "\n",
    "# RESTRICCIONES\n",
    "for j in 1:3\n",
    "    @constraint(modeloCinco, sum(materiaPrima[i, j] * x[i] for i in 1:m) >= 500 * porcentual[j, 1]) # Agrega tres restriccción al modelo    \n",
    "end\n",
    "\n",
    "for j in 1:3\n",
    "    @constraint(modeloCinco, sum(materiaPrima[i, j] * x[i] for i in 1:m) <= 500 * porcentual[j, 2]) # Agrega tres restriccción al modelo    \n",
    "end\n",
    "\n",
    "for i in 1:m\n",
    "    @constraint(modeloCinco, x[i] <= materiaPrima[i, 4])\n",
    "end\n",
    "\n",
    "\n",
    "@constraint(modeloCinco, sum(x[i] for i in 1:m) >= 500)  \n",
    "\n",
    "\n",
    "optimize!(modeloCinco) # Resuelve el  modelo\n",
    "println(\"Valor objetivo = \", objective_value(modeloCinco)) # Entrega el valor objetivo óptimo"
   ]
  },
  {
   "cell_type": "code",
   "execution_count": null,
   "metadata": {
    "scrolled": true
   },
   "outputs": [],
   "source": [
    "for j in 1:m\n",
    "    println(\"Variable X\",j,\" = \",value(x[j]))\n",
    "end"
   ]
  },
  {
   "cell_type": "markdown",
   "metadata": {},
   "source": [
    "#### Ejemplo nro. 5 \n",
    "Problema nro. 3 de la guía nro. 1."
   ]
  },
  {
   "attachments": {},
   "cell_type": "markdown",
   "metadata": {},
   "source": [
    "=============================================================================================================================\n",
    "\n",
    "Modelo:\n",
    "\n",
    "Variables de decisión:\n",
    "\n",
    "$x_{i}:$ 1 se extrae el bloque. 0 no se extrae el bloque. Con i = 1,...,18\n",
    "\n",
    "Función objetivo: (minimizar costos)\n",
    "\n",
    "$$ minimizar \\quad \\sum_{t=1}^{18}(v_{t}- c_{t}) * x_{tp} $$ \n",
    "\n",
    "Restricciones:\n",
    "\n",
    "$$ \\quad x_{a}-x_{b} \\leq 0 \\quad \\forall (a, b) \\in A  $$ "
   ]
  },
  {
   "cell_type": "code",
   "execution_count": null,
   "metadata": {},
   "outputs": [],
   "source": [
    "########### lectura de parámetros desde un archivo ###########\n",
    "\n",
    "f =open(\"data_problema_5.csv\") \n",
    "# Costo_extraccion \n",
    "costoExtraccion = parse.(Int, split(chop(readline(f)), ' '))\n",
    "# Valor de cada bloque\n",
    "valorBloque = parse.(Int, split(chop(readline(f)), ' '))\n",
    "g = readline(f)\n",
    "# Grafo como matriz de adyacencia\n",
    "G = [parse(Int, ss) for ss in split(g)]\n",
    "while ! eof(f) \n",
    "\ts = readline(f)\t\n",
    "    r = [parse(Int, ss) for ss in split(s)]\n",
    "    G = vcat(G, r) \n",
    "end\n",
    "G = transpose(reshape(G, (18, 18)))\n",
    "\n",
    "########### Fin lectura archivo ###########\n",
    "# CONSTRUCCIÓN DEL MODELO\n",
    "\n",
    "modeloSeis = Model(GLPK.Optimizer)\n",
    "\n",
    "# VARIABLES DE DECISIÓN\n",
    "@variable(modeloSeis, x[1:18], Bin) # Por cada bloque, 1 si es extraído y 0 si no\n",
    "\n",
    "# FUNCIÓN OBJETIVO\n",
    "\n",
    "# Para cada bloque a extraer, se suma la diferencia entre el valor de cada bloque y el costo de extracción\n",
    "@objective(modeloSeis, Max, sum((valorBloque[i] - costoExtraccion[i]) * x[i] * 10000 for i in 1:18)) \n",
    "\n",
    "# RESTRICCIONES\n",
    "# Se Recorre el grafo de dependencias\n",
    "for i in 1:18\n",
    "    for j in 1:18\n",
    "        if G[i, j] == 1\n",
    "        # Se aplican las dependencias de extracción de bloques        \n",
    "            @constraint(modeloSeis, (x[i] - x[j]) <= 0)\n",
    "        end\n",
    "    end\n",
    "end\n",
    "\n",
    "# SOLUCIÖN DEL MODELO\n",
    "optimize!(modeloSeis)\n",
    "println(\"Valor objetivo = \", objective_value(modeloSeis))\n",
    "for i in 1:18\n",
    "    println(\"Variable X\",i,\" = \",value(x[i]))\n",
    "end"
   ]
  },
  {
   "cell_type": "code",
   "execution_count": null,
   "metadata": {},
   "outputs": [],
   "source": []
  }
 ],
 "metadata": {
  "kernelspec": {
   "display_name": "Julia 1.10.2",
   "language": "julia",
   "name": "julia-1.10"
  },
  "language_info": {
   "file_extension": ".jl",
   "mimetype": "application/julia",
   "name": "julia",
   "version": "1.10.2"
  }
 },
 "nbformat": 4,
 "nbformat_minor": 4
}
