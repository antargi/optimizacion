{
 "cells": [
  {
   "cell_type": "code",
   "execution_count": 1,
   "id": "97b2c68e-3727-4252-9117-e8d29b3fbb6f",
   "metadata": {},
   "outputs": [
    {
     "name": "stderr",
     "output_type": "stream",
     "text": [
      "\u001b[32m\u001b[1m    Updating\u001b[22m\u001b[39m registry at `C:\\Users\\Francisco Moreno\\.julia\\registries\\General.toml`\n",
      "\u001b[32m\u001b[1m   Resolving\u001b[22m\u001b[39m package versions...\n",
      "\u001b[32m\u001b[1m  No Changes\u001b[22m\u001b[39m to `C:\\Users\\Francisco Moreno\\.julia\\environments\\v1.10\\Project.toml`\n",
      "\u001b[32m\u001b[1m  No Changes\u001b[22m\u001b[39m to `C:\\Users\\Francisco Moreno\\.julia\\environments\\v1.10\\Manifest.toml`\n",
      "\u001b[32m\u001b[1m   Resolving\u001b[22m\u001b[39m package versions...\n",
      "\u001b[32m\u001b[1m  No Changes\u001b[22m\u001b[39m to `C:\\Users\\Francisco Moreno\\.julia\\environments\\v1.10\\Project.toml`\n",
      "\u001b[32m\u001b[1m  No Changes\u001b[22m\u001b[39m to `C:\\Users\\Francisco Moreno\\.julia\\environments\\v1.10\\Manifest.toml`\n"
     ]
    }
   ],
   "source": [
    "import Pkg # Importa el administrador de paquetes Pkg\n",
    "Pkg.add(\"JuMP\") # Instala el paquete JuMP\n",
    "Pkg.add(\"GLPK\") # Instala el paquete GLPK\n"
   ]
  },
  {
   "cell_type": "markdown",
   "id": "8b34e8b2-cbcf-4ea8-8ab5-337a635f1e0e",
   "metadata": {},
   "source": [
    "#### Ejercicio numero 2\n"
   ]
  },
  {
   "cell_type": "markdown",
   "id": "211c83f3-196e-40ac-96e5-ef7fdcd7e689",
   "metadata": {},
   "source": [
    "\n",
    "Modelo:\n",
    "\n",
    "Definiciones:\n",
    "\n",
    "TAREAS = {1,.....,N} conjunto de tareas, con la n-esima tarea ficticia final\n",
    "\n",
    "DURACION_{i}: duracion de la tarea i\n",
    "\n",
    "Variables de decisión:\n",
    "\n",
    "$x_{i}:$ tiempo de inicio de la tarea i. Con i = 1,...,18, con i perteneciente a TAREAS\n",
    "\n",
    "Función objetivo: (minimizar costos)\n",
    "\n",
    "$$ minimizar \\ x_{n} $$ \n",
    "\n",
    "Restricciones:\n",
    "\n",
    "$$ x_{i} \\ >= \\ 0  $$ \n",
    "\n",
    "$$ G(TAREAS, ARCOS) \\ grafo \\ dirigido $$ \n",
    "\n",
    "$$ ARCOS \\ =  \\ {(i,j) \\ pertenecen \\ TAREASxTAREAS: \\ si \\ tarea \\ i \\ precede \\ a \\ la \\ tarea \\ j} $$ \n",
    "\n",
    "$$ para \\ todo \\ (i,j) \\ pertenecientes \\ a \\ ARCOS: \\ x_{i} + DURACION_{i} \\leq x_{j} $$ "
   ]
  },
  {
   "cell_type": "code",
   "execution_count": 2,
   "id": "441a81c3-5d2e-4a78-b4e9-86699b7c28eb",
   "metadata": {},
   "outputs": [
    {
     "name": "stdout",
     "output_type": "stream",
     "text": [
      "Valor objetivo = 64.0\n",
      "Variable X1 = 0.0\n",
      "Variable X2 = 2.0\n",
      "Variable X3 = 18.0\n",
      "Variable X4 = 18.0\n",
      "Variable X5 = 27.0\n",
      "Variable X6 = 37.0\n",
      "Variable X7 = 26.0\n",
      "Variable X8 = 43.0\n",
      "Variable X9 = 43.0\n",
      "Variable X10 = 26.0\n",
      "Variable X11 = 43.0\n",
      "Variable X12 = 52.0\n",
      "Variable X13 = 28.0\n",
      "Variable X14 = 18.0\n",
      "Variable X15 = 26.0\n",
      "Variable X16 = 46.0\n",
      "Variable X17 = 54.0\n",
      "Variable X18 = 63.0\n",
      "Variable X19 = 64.0\n"
     ]
    }
   ],
   "source": [
    "using JuMP # Importa el módulo JuMP.\n",
    "using GLPK # Importa el módulo GLPK para utilizar el solver.\n",
    "\n",
    "\n",
    "# Grafo como matriz de adyacencia la cual es 19 x 19, creando una tarea 19 ficticia que depende de todas las tareas anteriores\n",
    "#para corroborar que el tiempo final sea el correcto\n",
    "\n",
    "G = [0 0 0 0 0 0 0 0 0 0 0 0 0 0 0 0 0 0 0; #1\n",
    "     1 0 0 0 0 0 0 0 0 0 0 0 0 0 0 0 0 0 0; #2\n",
    "     0 1 0 0 0 0 0 0 0 0 0 0 0 0 0 0 0 0 0; #3\n",
    "     0 1 0 0 0 0 0 0 0 0 0 0 0 0 0 0 0 0 0; #4\n",
    "     0 0 1 0 0 0 0 0 0 0 0 0 0 0 0 0 0 0 0; #5\n",
    "     0 0 0 1 1 0 0 0 0 0 0 0 0 0 0 0 0 0 0; #6\n",
    "     0 0 0 1 0 0 0 0 0 0 0 0 0 0 0 0 0 0 0; #7\n",
    "     0 0 0 0 0 1 0 0 0 0 0 0 0 0 0 0 0 0 0; #8\n",
    "     0 0 0 1 0 1 0 0 0 0 0 0 0 0 0 0 0 0 0; #9\n",
    "     0 0 0 1 0 0 0 0 0 0 0 0 0 0 0 0 0 0 0; #10\n",
    "     0 0 0 0 0 1 0 0 0 0 0 0 0 0 0 0 0 0 0; #11\n",
    "     0 0 0 0 0 0 0 0 1 0 0 0 0 0 0 0 0 0 0; #12\n",
    "     0 0 0 0 0 0 1 0 0 0 0 0 0 0 0 0 0 0 0; #13\n",
    "     0 1 0 0 0 0 0 0 0 0 0 0 0 0 0 0 0 0 0; #14\n",
    "     0 0 0 1 0 0 0 0 0 0 0 0 0 1 0 0 0 0 0; #15\n",
    "     0 0 0 0 0 0 0 1 0 0 1 0 0 1 0 0 0 0 0; #16\n",
    "     0 0 0 0 0 0 0 0 0 0 0 1 0 0 0 0 0 0 0; #17\n",
    "     0 0 0 0 0 0 0 0 0 0 0 0 0 0 0 0 1 0 0; #18\n",
    "     1 1 1 1 1 1 1 1 1 1 1 1 1 1 1 1 1 1 1] #19\n",
    "\n",
    "DURACION = [2 16 9 8 10 6 2 2 9 5 3 2 1 7 4 3 9 1 0] # variable de la duracion de cada tarea (tarea ficticia con duracion 0)\n",
    "\n",
    "# CONSTRUCCIÓN DEL MODELO\n",
    "\n",
    "modelo2 = Model(GLPK.Optimizer)\n",
    "\n",
    "# VARIABLES DE DECISIÓN\n",
    "@variable(modelo2, x[1:19] >= 0) # tiempo de inicio de la tarea i. Con i = 1,...,19\n",
    "\n",
    "# FUNCIÓN OBJETIVO\n",
    "\n",
    "# el objetivo es minimizar el tiempo para empezar ( el resultado que da seria terminar), todas las tareas\n",
    "@objective(modelo2, Min, x[19] ) \n",
    "\n",
    "# RESTRICCIONES\n",
    "# Se Recorre el grafo de dependencias\n",
    "for i in 1:19\n",
    "    for j in 1:19\n",
    "        if G[i, j] == 1\n",
    "        # Se aplican las dependencias de las tareas        \n",
    "            @constraint(modelo2, (x[j] + DURACION[j] <= x[i]))\n",
    "            \n",
    "            \n",
    "        end\n",
    "    end\n",
    "end\n",
    "\n",
    "\n",
    "# SOLUCIÖN DEL MODELO\n",
    "optimize!(modelo2)\n",
    "println(\"Valor objetivo = \", objective_value(modelo2))\n",
    "for i in 1:19\n",
    "    println(\"Variable X\",i,\" = \",value(x[i]))\n",
    "end"
   ]
  },
  {
   "cell_type": "code",
   "execution_count": null,
   "id": "d502bcfe-947e-4681-8343-6e58dd163f9f",
   "metadata": {},
   "outputs": [],
   "source": []
  }
 ],
 "metadata": {
  "kernelspec": {
   "display_name": "Julia 1.10.2",
   "language": "julia",
   "name": "julia-1.10"
  },
  "language_info": {
   "file_extension": ".jl",
   "mimetype": "application/julia",
   "name": "julia",
   "version": "1.10.2"
  }
 },
 "nbformat": 4,
 "nbformat_minor": 5
}
