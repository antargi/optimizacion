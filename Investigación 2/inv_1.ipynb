{
 "cells": [
  {
   "cell_type": "code",
   "execution_count": 10,
   "metadata": {
    "vscode": {
     "languageId": "r"
    }
   },
   "outputs": [
    {
     "name": "stderr",
     "output_type": "stream",
     "text": [
      "Cargando paquete requerido: foreach\n",
      "\n",
      "Cargando paquete requerido: iterators\n",
      "\n",
      "Package 'GA' version 3.2.4\n",
      "Type 'citation(\"GA\")' for citing this R package in publications.\n",
      "\n",
      "\n",
      "Adjuntando el paquete: 'GA'\n",
      "\n",
      "\n",
      "The following object is masked from 'package:utils':\n",
      "\n",
      "    de\n",
      "\n",
      "\n"
     ]
    }
   ],
   "source": [
    "library(GA)"
   ]
  },
  {
   "cell_type": "code",
   "execution_count": 15,
   "metadata": {
    "vscode": {
     "languageId": "r"
    }
   },
   "outputs": [],
   "source": [
    "fitness_function_instance <- function(chromosome, instance) {\n",
    "  items <- instance$items\n",
    "  bin_capacity <- instance$bin_capacity\n",
    "  bins <- list()\n",
    "  current_bin <- 1\n",
    "  bins[[current_bin]] <- 0\n",
    "\n",
    "  for (i in seq_along(chromosome)) {\n",
    "    item_index <- chromosome[i]\n",
    "    item <- items[item_index]\n",
    "    if (bins[[current_bin]] + item <= bin_capacity) {\n",
    "      bins[[current_bin]] <- bins[[current_bin]] + item\n",
    "    } else {\n",
    "      current_bin <- current_bin + 1\n",
    "      bins[[current_bin]] <- item\n",
    "    }\n",
    "  }\n",
    "\n",
    "  total_space_used <- sum(unlist(bins))\n",
    "  total_items <- sum(items)\n",
    "  unused_space_penalty <- (total_space_used - total_items) / bin_capacity\n",
    "  num_bins <- length(bins)\n",
    "  \n",
    "  return(-num_bins - unused_space_penalty)  # Ajuste para penalizar espacio no utilizado\n",
    "}\n"
   ]
  },
  {
   "cell_type": "code",
   "execution_count": 3,
   "metadata": {
    "vscode": {
     "languageId": "r"
    }
   },
   "outputs": [],
   "source": [
    "fitness <- function(solution) {\n",
    "  return(-bin_packing_fitness(solution, item_sizes, bin_capacity))\n",
    "}"
   ]
  },
  {
   "cell_type": "code",
   "execution_count": 4,
   "metadata": {
    "vscode": {
     "languageId": "r"
    }
   },
   "outputs": [],
   "source": [
    "read_bin_packing_instance <- function(filename) {\n",
    "  lines <- readLines(filename)\n",
    "  P <- as.integer(lines[1])  # Número de instancias de problemas\n",
    "  problems <- list()\n",
    "  index <- 2\n",
    "  for (i in 1:P) {\n",
    "    problem_id <- trimws(lines[index])\n",
    "    index <- index + 1\n",
    "    bin_info <- strsplit(trimws(lines[index]), \"\\\\s+\")[[1]]\n",
    "    bin_capacity <- as.numeric(bin_info[1])\n",
    "    num_items <- as.integer(bin_info[2])\n",
    "    best_known_solution <- as.integer(bin_info[3])\n",
    "    index <- index + 1\n",
    "    items <- numeric(num_items)\n",
    "    for (j in 1:num_items) {\n",
    "      items[j] <- as.numeric(trimws(lines[index]))\n",
    "      index <- index + 1\n",
    "    }\n",
    "    problems[[i]] <- list(\n",
    "      problem_id = problem_id,\n",
    "      bin_capacity = bin_capacity,\n",
    "      num_items = num_items,\n",
    "      best_known_solution = best_known_solution,\n",
    "      items = items\n",
    "    )\n",
    "  }\n",
    "  return(problems)\n",
    "}"
   ]
  },
  {
   "cell_type": "code",
   "execution_count": 5,
   "metadata": {
    "vscode": {
     "languageId": "r"
    }
   },
   "outputs": [
    {
     "name": "stderr",
     "output_type": "stream",
     "text": [
      "Warning message in readLines(filename):\n",
      "\"incomplete final line found on './instances/binpack1.txt'\"\n"
     ]
    }
   ],
   "source": [
    "file_path <- \"./instances/binpack1.txt\"\n",
    "instances <- read_bin_packing_instance(file_path)"
   ]
  },
  {
   "cell_type": "code",
   "execution_count": 6,
   "metadata": {
    "vscode": {
     "languageId": "r"
    }
   },
   "outputs": [
    {
     "data": {
      "text/html": [
       "<ol>\n",
       "\t<li><dl>\n",
       "\t<dt>$problem_id</dt>\n",
       "\t\t<dd>'u120_00'</dd>\n",
       "\t<dt>$bin_capacity</dt>\n",
       "\t\t<dd>150</dd>\n",
       "\t<dt>$num_items</dt>\n",
       "\t\t<dd>120</dd>\n",
       "\t<dt>$best_known_solution</dt>\n",
       "\t\t<dd>48</dd>\n",
       "\t<dt>$items</dt>\n",
       "\t\t<dd><style>\n",
       ".list-inline {list-style: none; margin:0; padding: 0}\n",
       ".list-inline>li {display: inline-block}\n",
       ".list-inline>li:not(:last-child)::after {content: \"\\00b7\"; padding: 0 .5ex}\n",
       "</style>\n",
       "<ol class=list-inline><li>42</li><li>69</li><li>67</li><li>57</li><li>93</li><li>90</li><li>38</li><li>36</li><li>45</li><li>42</li><li>33</li><li>79</li><li>27</li><li>57</li><li>44</li><li>84</li><li>86</li><li>92</li><li>46</li><li>38</li><li>85</li><li>33</li><li>82</li><li>73</li><li>49</li><li>70</li><li>59</li><li>23</li><li>57</li><li>72</li><li>74</li><li>69</li><li>33</li><li>42</li><li>28</li><li>46</li><li>30</li><li>64</li><li>29</li><li>74</li><li>41</li><li>49</li><li>55</li><li>98</li><li>80</li><li>32</li><li>25</li><li>38</li><li>82</li><li>30</li><li>35</li><li>39</li><li>57</li><li>84</li><li>62</li><li>50</li><li>55</li><li>27</li><li>30</li><li>36</li><li>20</li><li>78</li><li>47</li><li>26</li><li>45</li><li>41</li><li>58</li><li>98</li><li>91</li><li>96</li><li>73</li><li>84</li><li>37</li><li>93</li><li>91</li><li>43</li><li>73</li><li>85</li><li>81</li><li>79</li><li>71</li><li>80</li><li>76</li><li>83</li><li>41</li><li>78</li><li>70</li><li>23</li><li>42</li><li>87</li><li>43</li><li>84</li><li>60</li><li>55</li><li>49</li><li>78</li><li>73</li><li>62</li><li>36</li><li>44</li><li>94</li><li>69</li><li>32</li><li>96</li><li>70</li><li>84</li><li>58</li><li>78</li><li>25</li><li>80</li><li>58</li><li>66</li><li>83</li><li>24</li><li>98</li><li>60</li><li>42</li><li>43</li><li>43</li><li>39</li></ol>\n",
       "</dd>\n",
       "</dl>\n",
       "</li>\n",
       "</ol>\n"
      ],
      "text/latex": [
       "\\begin{enumerate}\n",
       "\\item \\begin{description}\n",
       "\\item[\\$problem\\_id] 'u120\\_00'\n",
       "\\item[\\$bin\\_capacity] 150\n",
       "\\item[\\$num\\_items] 120\n",
       "\\item[\\$best\\_known\\_solution] 48\n",
       "\\item[\\$items] \\begin{enumerate*}\n",
       "\\item 42\n",
       "\\item 69\n",
       "\\item 67\n",
       "\\item 57\n",
       "\\item 93\n",
       "\\item 90\n",
       "\\item 38\n",
       "\\item 36\n",
       "\\item 45\n",
       "\\item 42\n",
       "\\item 33\n",
       "\\item 79\n",
       "\\item 27\n",
       "\\item 57\n",
       "\\item 44\n",
       "\\item 84\n",
       "\\item 86\n",
       "\\item 92\n",
       "\\item 46\n",
       "\\item 38\n",
       "\\item 85\n",
       "\\item 33\n",
       "\\item 82\n",
       "\\item 73\n",
       "\\item 49\n",
       "\\item 70\n",
       "\\item 59\n",
       "\\item 23\n",
       "\\item 57\n",
       "\\item 72\n",
       "\\item 74\n",
       "\\item 69\n",
       "\\item 33\n",
       "\\item 42\n",
       "\\item 28\n",
       "\\item 46\n",
       "\\item 30\n",
       "\\item 64\n",
       "\\item 29\n",
       "\\item 74\n",
       "\\item 41\n",
       "\\item 49\n",
       "\\item 55\n",
       "\\item 98\n",
       "\\item 80\n",
       "\\item 32\n",
       "\\item 25\n",
       "\\item 38\n",
       "\\item 82\n",
       "\\item 30\n",
       "\\item 35\n",
       "\\item 39\n",
       "\\item 57\n",
       "\\item 84\n",
       "\\item 62\n",
       "\\item 50\n",
       "\\item 55\n",
       "\\item 27\n",
       "\\item 30\n",
       "\\item 36\n",
       "\\item 20\n",
       "\\item 78\n",
       "\\item 47\n",
       "\\item 26\n",
       "\\item 45\n",
       "\\item 41\n",
       "\\item 58\n",
       "\\item 98\n",
       "\\item 91\n",
       "\\item 96\n",
       "\\item 73\n",
       "\\item 84\n",
       "\\item 37\n",
       "\\item 93\n",
       "\\item 91\n",
       "\\item 43\n",
       "\\item 73\n",
       "\\item 85\n",
       "\\item 81\n",
       "\\item 79\n",
       "\\item 71\n",
       "\\item 80\n",
       "\\item 76\n",
       "\\item 83\n",
       "\\item 41\n",
       "\\item 78\n",
       "\\item 70\n",
       "\\item 23\n",
       "\\item 42\n",
       "\\item 87\n",
       "\\item 43\n",
       "\\item 84\n",
       "\\item 60\n",
       "\\item 55\n",
       "\\item 49\n",
       "\\item 78\n",
       "\\item 73\n",
       "\\item 62\n",
       "\\item 36\n",
       "\\item 44\n",
       "\\item 94\n",
       "\\item 69\n",
       "\\item 32\n",
       "\\item 96\n",
       "\\item 70\n",
       "\\item 84\n",
       "\\item 58\n",
       "\\item 78\n",
       "\\item 25\n",
       "\\item 80\n",
       "\\item 58\n",
       "\\item 66\n",
       "\\item 83\n",
       "\\item 24\n",
       "\\item 98\n",
       "\\item 60\n",
       "\\item 42\n",
       "\\item 43\n",
       "\\item 43\n",
       "\\item 39\n",
       "\\end{enumerate*}\n",
       "\n",
       "\\end{description}\n",
       "\n",
       "\\end{enumerate}\n"
      ],
      "text/markdown": [
       "1. $problem_id\n",
       ":   'u120_00'\n",
       "$bin_capacity\n",
       ":   150\n",
       "$num_items\n",
       ":   120\n",
       "$best_known_solution\n",
       ":   48\n",
       "$items\n",
       ":   1. 42\n",
       "2. 69\n",
       "3. 67\n",
       "4. 57\n",
       "5. 93\n",
       "6. 90\n",
       "7. 38\n",
       "8. 36\n",
       "9. 45\n",
       "10. 42\n",
       "11. 33\n",
       "12. 79\n",
       "13. 27\n",
       "14. 57\n",
       "15. 44\n",
       "16. 84\n",
       "17. 86\n",
       "18. 92\n",
       "19. 46\n",
       "20. 38\n",
       "21. 85\n",
       "22. 33\n",
       "23. 82\n",
       "24. 73\n",
       "25. 49\n",
       "26. 70\n",
       "27. 59\n",
       "28. 23\n",
       "29. 57\n",
       "30. 72\n",
       "31. 74\n",
       "32. 69\n",
       "33. 33\n",
       "34. 42\n",
       "35. 28\n",
       "36. 46\n",
       "37. 30\n",
       "38. 64\n",
       "39. 29\n",
       "40. 74\n",
       "41. 41\n",
       "42. 49\n",
       "43. 55\n",
       "44. 98\n",
       "45. 80\n",
       "46. 32\n",
       "47. 25\n",
       "48. 38\n",
       "49. 82\n",
       "50. 30\n",
       "51. 35\n",
       "52. 39\n",
       "53. 57\n",
       "54. 84\n",
       "55. 62\n",
       "56. 50\n",
       "57. 55\n",
       "58. 27\n",
       "59. 30\n",
       "60. 36\n",
       "61. 20\n",
       "62. 78\n",
       "63. 47\n",
       "64. 26\n",
       "65. 45\n",
       "66. 41\n",
       "67. 58\n",
       "68. 98\n",
       "69. 91\n",
       "70. 96\n",
       "71. 73\n",
       "72. 84\n",
       "73. 37\n",
       "74. 93\n",
       "75. 91\n",
       "76. 43\n",
       "77. 73\n",
       "78. 85\n",
       "79. 81\n",
       "80. 79\n",
       "81. 71\n",
       "82. 80\n",
       "83. 76\n",
       "84. 83\n",
       "85. 41\n",
       "86. 78\n",
       "87. 70\n",
       "88. 23\n",
       "89. 42\n",
       "90. 87\n",
       "91. 43\n",
       "92. 84\n",
       "93. 60\n",
       "94. 55\n",
       "95. 49\n",
       "96. 78\n",
       "97. 73\n",
       "98. 62\n",
       "99. 36\n",
       "100. 44\n",
       "101. 94\n",
       "102. 69\n",
       "103. 32\n",
       "104. 96\n",
       "105. 70\n",
       "106. 84\n",
       "107. 58\n",
       "108. 78\n",
       "109. 25\n",
       "110. 80\n",
       "111. 58\n",
       "112. 66\n",
       "113. 83\n",
       "114. 24\n",
       "115. 98\n",
       "116. 60\n",
       "117. 42\n",
       "118. 43\n",
       "119. 43\n",
       "120. 39\n",
       "\n",
       "\n",
       "\n",
       "\n",
       "\n",
       "\n",
       "\n",
       "\n"
      ],
      "text/plain": [
       "[[1]]\n",
       "[[1]]$problem_id\n",
       "[1] \"u120_00\"\n",
       "\n",
       "[[1]]$bin_capacity\n",
       "[1] 150\n",
       "\n",
       "[[1]]$num_items\n",
       "[1] 120\n",
       "\n",
       "[[1]]$best_known_solution\n",
       "[1] 48\n",
       "\n",
       "[[1]]$items\n",
       "  [1] 42 69 67 57 93 90 38 36 45 42 33 79 27 57 44 84 86 92 46 38 85 33 82 73 49\n",
       " [26] 70 59 23 57 72 74 69 33 42 28 46 30 64 29 74 41 49 55 98 80 32 25 38 82 30\n",
       " [51] 35 39 57 84 62 50 55 27 30 36 20 78 47 26 45 41 58 98 91 96 73 84 37 93 91\n",
       " [76] 43 73 85 81 79 71 80 76 83 41 78 70 23 42 87 43 84 60 55 49 78 73 62 36 44\n",
       "[101] 94 69 32 96 70 84 58 78 25 80 58 66 83 24 98 60 42 43 43 39\n",
       "\n"
      ]
     },
     "metadata": {},
     "output_type": "display_data"
    }
   ],
   "source": [
    "instances[1]"
   ]
  },
  {
   "cell_type": "code",
   "execution_count": 22,
   "metadata": {
    "vscode": {
     "languageId": "r"
    }
   },
   "outputs": [
    {
     "data": {
      "text/plain": [
       "-- \u001b[1mGenetic Algorithm\u001b[22m ------------------- \n",
       "\n",
       "GA settings: \n",
       "Type                  =  permutation \n",
       "Population size       =  100 \n",
       "Number of generations =  10000 \n",
       "Elitism               =  5 \n",
       "Crossover probability =  0.8 \n",
       "Mutation probability  =  0.1 \n",
       "\n",
       "GA results: \n",
       "Iterations             = 264 \n",
       "Fitness function value = -54 \n",
       "Solutions = \n",
       "      x1 x2  x3 x4 x5  x6 x7 x8 x9 x10  ...  x119 x120\n",
       "[1,]   2 26  67 21 63  78 56 12 60  66          4   29\n",
       "[2,]  56 12  60 66 50  91 25 45 33   6         63   78\n",
       "[3,]  58 75 112 72 97  38 35 24 39  18        111   16\n",
       "[4,] 111 16 114 58 75 112 72 97 38  35        113   98\n",
       "[5,]  55 92  54 89 77   1 32 95 11  53        113   98"
      ]
     },
     "metadata": {},
     "output_type": "display_data"
    },
    {
     "name": "stdout",
     "output_type": "stream",
     "text": [
      "Mejor soluci<U+00F3>n encontrada (<U+00ED>ndices de <U+00ED>tems): 2 56 58 111 55 26 12 75 16 92 67 60 112 114 54 21 66 72 58 89 63 50 97 75 77 78 91 38 112 1 56 25 35 72 32 12 45 24 97 95 60 33 39 38 11 66 6 18 35 53 50 108 13 24 76 91 93 117 39 52 31 82 80 18 41 83 116 26 13 57 17 104 29 117 23 69 42 114 80 120 36 109 1 29 71 5 61 32 67 3 27 85 95 21 103 51 9 69 63 106 43 90 67 78 105 13 14 21 56 65 18 8 63 12 64 24 88 78 60 62 39 34 56 66 87 79 99 12 50 115 37 19 60 91 110 73 101 66 25 102 48 48 50 45 101 7 7 91 33 19 119 119 25 6 20 59 59 45 108 40 15 15 33 93 96 49 49 6 82 81 94 102 108 116 99 86 110 53 104 44 46 115 11 85 34 117 87 93 9 47 100 62 82 90 88 118 64 116 14 14 74 65 104 88 90 30 105 85 47 9 55 106 9 34 85 92 103 90 44 104 54 3 14 99 116 89 71 88 81 82 1 120 47 96 93 77 23 34 40 108 32 41 44 20 6 95 52 99 19 33 11 76 81 101 45 53 47 96 102 25 57 44 40 110 91 20 81 20 115 50 40 96 19 87 66 96 40 101 62 60 81 20 102 64 12 44 57 110 65 56 47 53 115 105 78 76 11 87 106 63 52 95 62 103 21 41 32 64 3 67 23 77 65 71 114 120 1 105 120 29 71 89 106 23 80 3 54 103 57 117 103 92 3 41 13 106 55 71 52 18 105 30 120 76 39 65 74 23 53 24 64 118 57 11 35 62 100 41 95 38 87 117 52 32 97 115 46 76 1 72 110 86 77 77 112 102 94 89 89 75 101 73 54 54 58 19 37 92 92 16 99 79 55 55 111 34 39 30 30 30 88 24 59 59 59 8 18 15 15 15 14 13 49 49 49 90 43 94 94 94 9 51 86 86 86 85 27 46 46 46 61 5 119 119 119 109 36 7 7 7 42 69 48 48 48 104 17 73 73 73 116 83 37 37 37 82 31 79 79 79 93 84 43 43 43 108 22 51 51 51 6 35 27 27 27 33 38 28 28 28 45 97 2 5 5 25 72 5 36 36 84 112 36 69 69 22 75 17 17 17 35 58 83 2 2 38 114 31 26 26 97 16 84 83 83 72 111 22 31 31 112 98 74 84 84 75 113 4 22 22 58 10 42 74 74 114 70 109 4 4 16 68 61 42 42 111 107 8 109 109 98 80 100 61 61 113 28 118 8 8 10 4 107 100 100 70 29 68 118 118 68 2 70 107 107 107 26 10 68 68 80 67 113 70 70 28 21 98 10 10 4 63 111 113 113 29 78 16 98 98 \n",
      "N<U+00FA>mero m<U+00ED>nimo de contenedores utilizados: 54 \n"
     ]
    }
   ],
   "source": [
    "instance <- instances[[1]]  # Por ejemplo, la primera instancia\n",
    "items <- instance$items\n",
    "bin_capacity <- instance$bin_capacity\n",
    "n_items <- instance$num_items\n",
    "\n",
    "ga_result <- ga(\n",
    "  type = \"permutation\",\n",
    "  fitness = function(chromosome) fitness_function_instance(chromosome, instance),\n",
    "  lower = 1,\n",
    "  upper = n_items,\n",
    "  popSize = 100,  # Incrementa el tamaño de la población\n",
    "  maxiter = 10000,  # Incrementa el número de generaciones\n",
    "  run = 100       # Incrementa la cantidad de generaciones sin mejora\n",
    ")\n",
    "summary(ga_result)\n",
    "best_solution <- ga_result@solution\n",
    "best_solution_fitness <- -ga_result@fitnessValue\n",
    "cat(\"Mejor solución encontrada (índices de ítems):\", best_solution, \"\\n\")\n",
    "cat(\"Número mínimo de contenedores utilizados:\", best_solution_fitness, \"\\n\")"
   ]
  },
  {
   "cell_type": "code",
   "execution_count": 20,
   "metadata": {
    "vscode": {
     "languageId": "r"
    }
   },
   "outputs": [
    {
     "ename": "ERROR",
     "evalue": "Error in if (bins[[current_bin]] + item <= bin_capacity) {: valor ausente donde TRUE/FALSE es necesario\n",
     "output_type": "error",
     "traceback": [
      "Error in if (bins[[current_bin]] + item <= bin_capacity) {: valor ausente donde TRUE/FALSE es necesario\nTraceback:\n",
      "1. ga(type = \"permutation\", fitness = function(chromosome) fitness_function_instance(chromosome, \n .     instance), lower = 1, upper = n_items, popSize = 100, maxiter = 500, \n .     run = 100, pmutation = 0.2, crossover = gareal_blxCrossover, \n .     selection = gareal_lrSelection)",
      "2. do.call(fitness, c(list(Pop[i, ]), callArgs))",
      "3. (function (chromosome) \n . fitness_function_instance(chromosome, instance))(c(21.1873036352918, \n . NaN, NaN, NaN, NaN, NaN, 0, NaN, 2.38724528756295e-314, NaN, \n . NaN, NaN, NaN, NaN, 56.8988247837413, NaN, NaN, NaN, NaN, NaN, \n . 0, NaN, NaN, 6.94686797351981e-310, NaN, NaN, NaN, 0, NaN, NaN, \n . 6.94686797351981e-310, NaN, NaN, 4.94065645841247e-324, 0, 43.3307585581206, \n . NaN, NaN, NaN, NaN, NaN, NaN, NaN, 2.65249495115482e-315, NaN, \n . NaN, NaN, 4.94065645841247e-324, NaN, 44.0457331656944, NaN, \n . 6.94686797351981e-310, NaN, NaN, NaN, NaN, NaN, NaN, 6.94686797351981e-310, \n . NaN, NaN, NaN, NaN, 98.0311402706429, 2.02620260149637e-314, \n . NaN, NaN, NaN, 4.94065645841247e-324, 0, 101.294216182549, NaN, \n . NaN, NaN, NaN, 4.94065645841247e-324, NaN, 56.0307874507271, \n . NaN, NaN, NaN, NaN, NaN, NaN, NaN, NaN, NaN, NaN, NaN, NaN, 0, \n . 47.250968686305, NaN, NaN, NaN, NaN, NaN, NaN, NaN, NaN, 6.94686797351981e-310, \n . NaN, NaN, NaN, NaN, 33.0882123688934, NaN, NaN, NaN, NaN, NaN, \n . 0, NaN, NaN, 6.94686797351981e-310, NaN, NaN, NaN, NaN, 35.6169059053063\n . ))",
      "4. fitness_function_instance(chromosome, instance)   # at line 3 of file <text>"
     ]
    }
   ],
   "source": [
    "ga_result <- ga(\n",
    "  type = \"permutation\",\n",
    "  fitness = function(chromosome) fitness_function_instance(chromosome, instance),\n",
    "  lower = 1,\n",
    "  upper = n_items,\n",
    "  popSize = 100,\n",
    "  maxiter = 500,\n",
    "  run = 100,\n",
    "  pmutation = 0.2,  # Tasa de mutación\n",
    "  crossover = gareal_blxCrossover,  # Método de cruce\n",
    "  selection = gareal_lrSelection  # Método de selección\n",
    ")\n",
    "summary(ga_result)\n",
    "best_solution <- ga_result@solution\n",
    "best_solution_fitness <- -ga_result@fitnessValue\n",
    "cat(\"Mejor solución encontrada (índices de ítems):\", best_solution, \"\\n\")\n",
    "cat(\"Número mínimo de contenedores utilizados:\", best_solution_fitness, \"\\n\")"
   ]
  },
  {
   "cell_type": "code",
   "execution_count": 19,
   "metadata": {
    "vscode": {
     "languageId": "r"
    }
   },
   "outputs": [
    {
     "name": "stdout",
     "output_type": "stream",
     "text": [
      "Mejor soluci<U+00F3>n encontrada despu<U+00E9>s de m<U+00FA>ltiples ejecuciones: 83 57 70 83 70 61 83 26 101 13 26 13 37 26 65 30 120 65 120 28 65 108 103 55 108 55 87 108 114 105 118 114 118 62 114 115 80 57 115 57 95 115 33 83 101 33 101 111 33 34 26 30 34 30 21 34 117 65 103 117 103 102 117 59 108 105 59 105 31 59 60 114 80 60 80 36 60 61 115 83 61 83 40 61 37 33 26 37 26 74 37 28 34 65 28 65 49 28 87 117 108 87 108 93 87 62 59 114 62 114 47 62 95 60 115 95 115 5 95 111 61 33 111 33 72 111 21 37 34 21 34 73 21 102 28 117 102 117 82 102 31 87 59 31 59 6 31 36 62 60 36 60 89 36 40 95 61 40 61 44 40 74 111 37 74 37 56 74 49 21 28 49 28 20 49 93 102 87 93 87 8 93 47 31 62 47 62 77 47 5 36 95 5 95 3 5 72 40 111 72 111 110 72 73 74 21 73 21 51 73 82 49 102 82 102 68 82 6 93 31 6 31 86 6 89 47 36 89 36 119 89 44 5 40 44 40 99 44 56 72 74 56 74 107 56 20 73 49 20 49 35 20 8 82 93 8 93 64 8 77 6 47 77 47 76 77 3 89 5 3 5 92 3 110 44 72 110 72 91 110 51 56 73 51 73 23 51 68 20 82 68 82 41 68 86 8 6 86 6 18 86 119 77 89 119 89 19 119 99 3 44 99 44 98 99 107 110 56 107 56 10 107 35 51 20 35 20 46 35 64 68 8 64 8 38 64 76 86 77 76 77 84 76 92 119 3 92 3 112 92 81 99 110 113 110 69 81 106 107 106 88 106 39 106 11 35 11 91 11 79 11 94 64 94 23 94 7 94 78 76 78 1 78 2 78 29 92 29 32 29 22 29 46 81 46 15 96 100 96 38 106 38 41 116 85 116 84 11 84 54 45 27 45 112 94 112 18 104 25 104 96 78 96 63 50 42 50 116 29 116 4 52 90 52 45 96 45 109 16 66 16 104 116 104 66 17 109 17 50 45 50 90 9 4 9 52 104 52 42 24 54 24 16 50 16 25 53 15 53 17 52 17 27 19 32 19 9 16 9 85 48 1 48 24 17 24 100 98 88 98 53 9 53 22 10 113 10 19 24 19 2 46 14 46 48 53 48 7 38 63 38 98 19 98 79 84 48 84 10 48 10 39 112 53 112 69 98 69 69 69 24 69 39 10 51 10 51 9 39 79 46 68 98 68 17 79 7 38 86 48 86 16 7 2 84 119 19 119 52 2 22 112 99 53 99 50 22 100 69 107 24 107 104 100 85 39 35 9 35 45 85 27 79 64 17 64 116 27 25 7 76 16 76 96 25 42 2 92 52 92 29 42 90 22 81 50 81 78 90 66 100 39 104 39 94 66 109 85 79 45 79 11 109 4 27 7 116 7 106 4 63 25 2 96 2 81 54 18 42 22 112 22 71 15 54 90 100 84 100 43 32 41 66 85 38 85 12 1 15 109 27 46 27 58 88 32 4 25 29 25 75 113 1 54 42 78 42 67 14 23 15 90 94 90 97 63 91 32 66 11 66 70 18 88 1 109 106 109 13 41 113 88 4 81 4 120 23 71 113 63 71 63 55 91 43 14 18 43 18 118 71 14 63 54 14 54 57 43 12 18 41 12 41 101 12 58 41 15 58 15 30 58 75 23 32 75 32 103 75 67 91 1 67 1 105 67 97 71 23 97 23 80 97 70 43 91 70 91 83 70 13 12 88 13 88 26 13 120 58 113 120 113 65 120 55 75 71 55 71 108 55 118 67 43 118 43 114 118 57 97 14 57 14 115 57 101 70 12 101 12 33 101 30 13 58 30 58 34 30 103 120 75 103 75 117 103 105 55 67 105 67 59 105 80 118 97 80 97 60 80 \n",
      "N<U+00FA>mero m<U+00ED>nimo de contenedores utilizados: 54 \n"
     ]
    }
   ],
   "source": [
    "best_overall_solution <- NULL\n",
    "best_overall_fitness <- Inf\n",
    "\n",
    "for (i in 1:10) {  # Ejecutar el GA 10 veces\n",
    "  ga_result <- ga(\n",
    "    type = \"permutation\",\n",
    "    fitness = function(chromosome) fitness_function_instance(chromosome, instance),\n",
    "    lower = 1,\n",
    "    upper = n_items,\n",
    "    popSize = 100,\n",
    "    maxiter = 500,\n",
    "    run = 100\n",
    "  )\n",
    "  \n",
    "  current_fitness <- -ga_result@fitnessValue\n",
    "  if (current_fitness < best_overall_fitness) {\n",
    "    best_overall_fitness <- current_fitness\n",
    "    best_overall_solution <- ga_result@solution\n",
    "  }\n",
    "}\n",
    "\n",
    "cat(\"Mejor solución encontrada después de múltiples ejecuciones:\", best_overall_solution, \"\\n\")\n",
    "cat(\"Número mínimo de contenedores utilizados:\", best_overall_fitness, \"\\n\")\n"
   ]
  }
 ],
 "metadata": {
  "kernelspec": {
   "display_name": "R",
   "language": "R",
   "name": "ir"
  },
  "language_info": {
   "codemirror_mode": "r",
   "file_extension": ".r",
   "mimetype": "text/x-r-source",
   "name": "R",
   "pygments_lexer": "r",
   "version": "4.4.0"
  }
 },
 "nbformat": 4,
 "nbformat_minor": 2
}
