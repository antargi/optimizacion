{
 "cells": [
  {
   "cell_type": "code",
   "execution_count": 1,
   "metadata": {},
   "outputs": [
    {
     "name": "stderr",
     "output_type": "stream",
     "text": [
      "\u001b[32m\u001b[1m    Updating\u001b[22m\u001b[39m registry at `~/.julia/registries/General.toml`\n",
      "\u001b[32m\u001b[1m   Resolving\u001b[22m\u001b[39m package versions...\n",
      "\u001b[32m\u001b[1m  No Changes\u001b[22m\u001b[39m to `~/.julia/environments/v1.10/Project.toml`\n",
      "\u001b[32m\u001b[1m  No Changes\u001b[22m\u001b[39m to `~/.julia/environments/v1.10/Manifest.toml`\n",
      "\u001b[32m\u001b[1m   Resolving\u001b[22m\u001b[39m package versions...\n",
      "\u001b[32m\u001b[1m  No Changes\u001b[22m\u001b[39m to `~/.julia/environments/v1.10/Project.toml`\n",
      "\u001b[32m\u001b[1m  No Changes\u001b[22m\u001b[39m to `~/.julia/environments/v1.10/Manifest.toml`\n"
     ]
    }
   ],
   "source": [
    "import Pkg\n",
    "Pkg.add(\"JuMP\")\n",
    "Pkg.add(\"GLPK\") \n",
    "using JuMP\n",
    "using GLPK "
   ]
  },
  {
   "cell_type": "code",
   "execution_count": 11,
   "metadata": {},
   "outputs": [
    {
     "name": "stdout",
     "output_type": "stream",
     "text": [
      "Valor objetivo = 682831.0\n",
      "Mes: 1 Componente: AX22-M1 Cantidad: 1490.0 Cantidad en bodega: 0.0\n",
      "Mes: 2 Componente: AX22-M1 Cantidad: 3000.0 Cantidad en bodega: 0.0\n",
      "Mes: 3 Componente: AX22-M1 Cantidad: 2000.0 Cantidad en bodega: 0.0\n",
      "Mes: 4 Componente: AX22-M1 Cantidad: 4000.0 Cantidad en bodega: 0.0\n",
      "Mes: 5 Componente: AX22-M1 Cantidad: 2000.0 Cantidad en bodega: 0.0\n",
      "Mes: 6 Componente: AX22-M1 Cantidad: 2550.0 Cantidad en bodega: 50.0\n",
      "Mes: 1 Componente: AX22-M2 Cantidad: 1300.0 Cantidad en bodega: 0.0\n",
      "Mes: 2 Componente: AX22-M2 Cantidad: 800.0 Cantidad en bodega: 0.0\n",
      "Mes: 3 Componente: AX22-M2 Cantidad: 800.0 Cantidad en bodega: 0.0\n",
      "Mes: 4 Componente: AX22-M2 Cantidad: 1000.0 Cantidad en bodega: 0.0\n",
      "Mes: 5 Componente: AX22-M2 Cantidad: 1100.0 Cantidad en bodega: 0.0\n",
      "Mes: 6 Componente: AX22-M2 Cantidad: 910.0 Cantidad en bodega: 10.0\n",
      "Mes: 1 Componente: CX32-N1 Cantidad: 2200.0 Cantidad en bodega: 0.0\n",
      "Mes: 2 Componente: CX32-N1 Cantidad: 1500.0 Cantidad en bodega: 0.0\n",
      "Mes: 3 Componente: CX32-N1 Cantidad: 2900.0 Cantidad en bodega: 0.0\n",
      "Mes: 4 Componente: CX32-N1 Cantidad: 1800.0 Cantidad en bodega: 0.0\n",
      "Mes: 5 Componente: CX32-N1 Cantidad: 1200.0 Cantidad en bodega: 0.0\n",
      "Mes: 6 Componente: CX32-N1 Cantidad: 2110.0 Cantidad en bodega: 10.0\n",
      "Mes: 1 Componente: CX32-N2 Cantidad: 1400.0 Cantidad en bodega: 0.0\n",
      "Mes: 2 Componente: CX32-N2 Cantidad: 1600.0 Cantidad en bodega: 0.0\n",
      "Mes: 3 Componente: CX32-N2 Cantidad: 1500.0 Cantidad en bodega: 0.0\n",
      "Mes: 4 Componente: CX32-N2 Cantidad: 1000.0 Cantidad en bodega: 0.0\n",
      "Mes: 5 Componente: CX32-N2 Cantidad: 1100.0 Cantidad en bodega: 0.0\n",
      "Mes: 6 Componente: CX32-N2 Cantidad: 1210.0 Cantidad en bodega: 10.0\n"
     ]
    }
   ],
   "source": [
    "# Construcción del modelo\n",
    "\n",
    "modelo = Model(GLPK.Optimizer)\n",
    "\n",
    "# Parámetros del Problema\n",
    "\n",
    "meses = [1, 2, 3, 4, 5, 6]\n",
    "demandas = [[1500, 3000, 2000, 4000, 2000, 2500], \n",
    "            [1300,  800,  800, 1000, 1100,  900],\n",
    "            [2200, 1500, 2900, 1800, 1200, 2100],\n",
    "            [1400, 1600, 1500, 1000, 1100, 1200]]\n",
    "componentes = [\"AX22-M1\", \"AX22-M2\", \"CX32-N1\",  \"CX32-N2\"]\n",
    "costosProduccion = [20, 25, 10, 15] \n",
    "costosBodega = [0.4, 0.5, 0.3, 0.3]\n",
    "stockInicial = [10, 0, 0, 0]  \n",
    "stockFinal = [50, 10, 10, 10]\n",
    "\n",
    "# variable de decisión \n",
    "@variable(modelo, x[c in 1:length(componentes), m in meses] >= 0, Int)\n",
    "@variable(modelo, y[c in 1:length(componentes), m in meses] >= 0, Int)\n",
    "\n",
    "# Restricciones \n",
    "\n",
    "for c in 1:length(componentes)\n",
    "  for m in 1:length(meses)\n",
    "    @constraint(modelo, x[c, m] + stockInicial[c] >= demandas[c][m])\n",
    "    if(m == 1)\n",
    "      @constraint(modelo, y[c, m] == x[c, m] - demandas[c][m] +  stockInicial[c])\n",
    "    end\n",
    "    if(m > 1)\n",
    "      @constraint(modelo, y[c, m] ==  x[c, m] - demandas[c][m] + y[c, m-1]) \n",
    "    end\n",
    "    @constraint(modelo, y[c, 6] == stockFinal[c])\n",
    "  end\n",
    "end\n",
    "\n",
    "\n",
    "#Función objetivo minimiza la suma de los costos de producción y almacenamiento\n",
    "\n",
    "@objective(modelo, Min,\n",
    "    sum(costosProduccion[c] * x[c, m] # costo de producción por la producción\n",
    "          + costosBodega[c] * y[c, m] # por el costo de bodega por la cantidad en bodega\n",
    "    for c in 1:length(componentes), m in meses)\n",
    ")\n",
    "\n",
    "optimize!(modelo)\n",
    "\n",
    "println(\"Valor objetivo = \", objective_value(modelo))\n",
    "\n",
    "\n",
    "for c in 1:length(componentes), m in 1:length(meses)\n",
    "    println( \"Mes: \", meses[m], \" Componente: \", componentes[c], \" Cantidad: \", value(x[c,m]),\" Cantidad en bodega: \", value(y[c,m]))\n",
    "end\n",
    "\n"
   ]
  },
  {
   "cell_type": "code",
   "execution_count": null,
   "metadata": {},
   "outputs": [],
   "source": []
  }
 ],
 "metadata": {
  "kernelspec": {
   "display_name": "Julia 1.10.2",
   "language": "julia",
   "name": "julia-1.10"
  },
  "language_info": {
   "file_extension": ".jl",
   "mimetype": "application/julia",
   "name": "julia",
   "version": "1.10.2"
  }
 },
 "nbformat": 4,
 "nbformat_minor": 2
}
