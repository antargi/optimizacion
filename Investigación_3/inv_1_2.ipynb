{
 "cells": [
  {
   "cell_type": "code",
   "execution_count": 2,
   "metadata": {
    "vscode": {
     "languageId": "r"
    }
   },
   "outputs": [],
   "source": [
    "#install.packages(\"doParallel\")"
   ]
  },
  {
   "cell_type": "code",
   "execution_count": 3,
   "metadata": {
    "vscode": {
     "languageId": "r"
    }
   },
   "outputs": [],
   "source": [
    "library(data.table)\n",
    "library(parallel)\n",
    "library(digest)"
   ]
  },
  {
   "cell_type": "code",
   "execution_count": 4,
   "metadata": {
    "vscode": {
     "languageId": "r"
    }
   },
   "outputs": [],
   "source": [
    "read_bin_packing_instance <- function(filename) {\n",
    "  lines <- readLines(filename)\n",
    "  P <- as.integer(lines[1])  # Número de instancias de problemas\n",
    "  problems <- list()\n",
    "  index <- 2\n",
    "  for (i in 1:P) {\n",
    "    problem_id <- trimws(lines[index])\n",
    "    index <- index + 1\n",
    "    bin_info <- strsplit(trimws(lines[index]), \"\\\\s+\")[[1]]\n",
    "    bin_capacity <- as.numeric(bin_info[1])\n",
    "    num_items <- as.integer(bin_info[2])\n",
    "    best_known_solution <- as.integer(bin_info[3])\n",
    "    index <- index + 1\n",
    "    items <- numeric(num_items)\n",
    "    for (j in 1:num_items) {\n",
    "      items[j] <- as.numeric(trimws(lines[index]))\n",
    "      index <- index + 1\n",
    "    }\n",
    "    problems[[i]] <- list(\n",
    "      problem_id = problem_id,\n",
    "      bin_capacity = bin_capacity,\n",
    "      num_items = num_items,\n",
    "      best_known_solution = best_known_solution,\n",
    "      items = items\n",
    "    )\n",
    "  }\n",
    "  return(problems)\n",
    "}"
   ]
  },
  {
   "cell_type": "code",
   "execution_count": 5,
   "metadata": {
    "vscode": {
     "languageId": "r"
    }
   },
   "outputs": [],
   "source": [
    "# Función para transformar la solución en una lista de contenedores\n",
    "transform_solution <- function(solution, item_sizes, bin_capacity) {\n",
    "  bins <- list()\n",
    "  current_bin <- numeric()\n",
    "  current_bin_capacity <- 0\n",
    "  \n",
    "  for (i in solution) {\n",
    "    item_size <- item_sizes[i]\n",
    "    if (current_bin_capacity + item_size <= bin_capacity) {\n",
    "      current_bin <- c(current_bin, item_size)\n",
    "      current_bin_capacity <- current_bin_capacity + item_size\n",
    "    } else {\n",
    "      bins <- c(bins, list(current_bin))\n",
    "      current_bin <- item_size\n",
    "      current_bin_capacity <- item_size\n",
    "    }\n",
    "  }\n",
    "  bins <- c(bins, list(current_bin))\n",
    "  return(bins)\n",
    "}"
   ]
  },
  {
   "cell_type": "code",
   "execution_count": 6,
   "metadata": {
    "vscode": {
     "languageId": "r"
    }
   },
   "outputs": [],
   "source": [
    "shaking <- function(solution, k) {\n",
    "  n <- length(solution)\n",
    "  perturbation_type <- sample(1:3, 1)\n",
    "  \n",
    "  if (perturbation_type == 1) {\n",
    "    # Realizar k intercambios aleatorios\n",
    "    for (i in 1:k) {\n",
    "      idx1 <- sample(1:n, 1)\n",
    "      idx2 <- sample(1:n, 1)\n",
    "      temp <- solution[idx1]\n",
    "      solution[idx1] <- solution[idx2]\n",
    "      solution[idx2] <- temp\n",
    "    }\n",
    "  } else if (perturbation_type == 2) {\n",
    "    # Perturbación basada en segmentos\n",
    "    segment_length <- sample(2:floor(n / 2), 1)\n",
    "    start_idx <- sample(1:(n - segment_length + 1), 1)\n",
    "    segment <- solution[start_idx:(start_idx + segment_length - 1)]\n",
    "    shuffled_segment <- sample(segment)\n",
    "    solution[start_idx:(start_idx + segment_length - 1)] <- shuffled_segment\n",
    "  } else if (perturbation_type == 3) {\n",
    "    # Rotar un segmento de k elementos\n",
    "    segment_length <- sample(2:floor(n / 2), 1)\n",
    "    start_idx <- sample(1:(n - segment_length + 1), 1)\n",
    "    segment <- solution[start_idx:(start_idx + segment_length - 1)]\n",
    "    rotated_segment <- c(segment[-1], segment[1])\n",
    "    solution[start_idx:(start_idx + segment_length - 1)] <- rotated_segment\n",
    "  }\n",
    "  \n",
    "  return(solution)\n",
    "}\n"
   ]
  },
  {
   "cell_type": "code",
   "execution_count": 7,
   "metadata": {
    "vscode": {
     "languageId": "r"
    }
   },
   "outputs": [],
   "source": [
    "best_fit_decreasing <- function(elements, container_capacity) {\n",
    "  original_indices <- seq_along(elements)\n",
    "  sorted_indices <- order(elements, decreasing = TRUE)\n",
    "  elements_sorted <- elements[sorted_indices]\n",
    "  \n",
    "  containers <- list()\n",
    "  assignments <- integer(length(elements)) # Para almacenar las asignaciones de contenedores\n",
    "  \n",
    "  for (i in seq_along(elements_sorted)) {\n",
    "    element <- elements_sorted[i]\n",
    "    best_fit_index <- -1\n",
    "    min_space_left <- container_capacity + 1\n",
    "    \n",
    "    for (j in seq_along(containers)) {\n",
    "      space_left <- container_capacity - sum(unlist(containers[[j]]))\n",
    "      if (space_left >= element && space_left < min_space_left) {\n",
    "        min_space_left <- space_left\n",
    "        best_fit_index <- j\n",
    "      }\n",
    "    }\n",
    "    \n",
    "    if (best_fit_index == -1) {\n",
    "      containers <- append(containers, list(c(element)))\n",
    "      best_fit_index <- length(containers)\n",
    "    } else {\n",
    "      containers[[best_fit_index]] <- c(containers[[best_fit_index]], element)\n",
    "    }\n",
    "    \n",
    "    assignments[sorted_indices[i]] <- best_fit_index\n",
    "  }\n",
    "  \n",
    "  return(assignments)\n",
    "}\n"
   ]
  },
  {
   "cell_type": "code",
   "execution_count": 8,
   "metadata": {
    "vscode": {
     "languageId": "r"
    }
   },
   "outputs": [],
   "source": [
    "BinPacking <- setRefClass(\n",
    "  \"BinPacking\",\n",
    "  fields = list(\n",
    "    item_sizes_dt = \"data.table\",\n",
    "    bin_capacity = \"numeric\",\n",
    "    eval_cache = \"list\"\n",
    "  ),\n",
    "  methods = list(\n",
    "    evaluate = function(permutation) {\n",
    "      perm_key <- digest(permutation, algo = \"md5\")  # Usar digest para una clave de caché eficiente\n",
    "      if (!is.null(eval_cache[[perm_key]])) {\n",
    "        return(eval_cache[[perm_key]])\n",
    "      }\n",
    "      \n",
    "      dt <- item_sizes_dt[permutation, ]\n",
    "      item_sizes <- dt$size\n",
    "      \n",
    "      bin_capacities <- numeric(length(item_sizes))  # Preasignar un vector de tamaño máximo posible\n",
    "      current_bin_capacity <- 0\n",
    "      bin_count <- 1  # Iniciar el conteo de bins con 1\n",
    "      \n",
    "      for (item_size in item_sizes) {\n",
    "        if (current_bin_capacity + item_size <= bin_capacity) {\n",
    "          current_bin_capacity <- current_bin_capacity + item_size\n",
    "        } else {\n",
    "          bin_capacities[bin_count] <- current_bin_capacity\n",
    "          current_bin_capacity <- item_size\n",
    "          bin_count <- bin_count + 1\n",
    "        }\n",
    "      }\n",
    "      \n",
    "      bin_capacities[bin_count] <- current_bin_capacity\n",
    "      \n",
    "      eval_cache[[perm_key]] <<- bin_count  # Guardar el número de bins en la caché\n",
    "      \n",
    "      return(bin_count)\n",
    "    },\n",
    "    initialize = function(item_sizes, bin_capacity) {\n",
    "      .self$item_sizes_dt <- data.table(index = 1:length(item_sizes), size = item_sizes)\n",
    "      .self$bin_capacity <- bin_capacity\n",
    "      .self$eval_cache <- list()\n",
    "    }\n",
    "  )\n",
    ")\n"
   ]
  },
  {
   "cell_type": "code",
   "execution_count": 9,
   "metadata": {
    "vscode": {
     "languageId": "r"
    }
   },
   "outputs": [],
   "source": [
    "local_search <- function(bins, bin_capacity, binpacking_instance) {\n",
    "  current_solution <- bins\n",
    "  best_solution <- current_solution\n",
    "  best_cost <- binpacking_instance$evaluate(current_solution)\n",
    "  improved <- TRUE\n",
    "  \n",
    "  while (improved) {\n",
    "    improved <- FALSE\n",
    "    for (i in 1:(length(current_solution) - 1)) {\n",
    "      for (j in (i + 1):length(current_solution)) {\n",
    "        new_solution <- current_solution\n",
    "        new_solution[c(i, j)] <- new_solution[c(j, i)]\n",
    "        new_cost <- binpacking_instance$evaluate(new_solution)\n",
    "        if (new_cost < best_cost) {\n",
    "          best_solution <- new_solution\n",
    "          best_cost <- new_cost\n",
    "          improved <- TRUE\n",
    "        }\n",
    "      }\n",
    "    }\n",
    "    if (improved) {\n",
    "      current_solution <- best_solution\n",
    "    }\n",
    "  }\n",
    "  \n",
    "  return(best_solution)\n",
    "}"
   ]
  },
  {
   "cell_type": "code",
   "execution_count": 10,
   "metadata": {
    "vscode": {
     "languageId": "r"
    }
   },
   "outputs": [
    {
     "name": "stderr",
     "output_type": "stream",
     "text": [
      "Cargando paquete requerido: foreach\n",
      "\n",
      "Cargando paquete requerido: iterators\n",
      "\n"
     ]
    }
   ],
   "source": [
    "library(doParallel)\n",
    "registerDoParallel(cores = detectCores())\n",
    "\n",
    "local_search <- function(bins, bin_capacity, binpacking_instance, max_iter = 20, max_exchanges = 100, tabu_list = list(), tabu_size = 20) {\n",
    "  current_solution <- bins\n",
    "  best_solution <- current_solution\n",
    "  best_cost <- binpacking_instance$evaluate(current_solution)\n",
    "  improved <- TRUE\n",
    "  iteration <- 0\n",
    "\n",
    "  while (improved && iteration < max_iter) {\n",
    "    improved <- FALSE\n",
    "    iteration <- iteration + 1\n",
    "    \n",
    "    # Generar todas las combinaciones posibles de pares de índices para intercambios\n",
    "    exchanges <- expand.grid(1:(length(current_solution) - 1), 2:length(current_solution))\n",
    "    exchanges <- exchanges[sample(nrow(exchanges), min(nrow(exchanges), max_exchanges)), ]\n",
    "    \n",
    "    # Evaluar intercambios en paralelo\n",
    "    results <- foreach(k = 1:nrow(exchanges), .combine = rbind, .packages = 'data.table') %dopar% {\n",
    "      i <- exchanges[k, 1]\n",
    "      j <- exchanges[k, 2]\n",
    "      \n",
    "      new_solution <- current_solution\n",
    "      new_solution[c(i, j)] <- new_solution[c(j, i)]\n",
    "      \n",
    "      new_cost <- binpacking_instance$evaluate(new_solution)\n",
    "      list(new_solution = new_solution, new_cost = new_cost, i = i, j = j)\n",
    "    }\n",
    "    \n",
    "    # Evaluar movimientos de reubicación (mover un elemento a otra posición)\n",
    "    results <- rbind(results, foreach(k = 1:nrow(exchanges), .combine = rbind, .packages = 'data.table') %dopar% {\n",
    "      i <- exchanges[k, 1]\n",
    "      j <- exchanges[k, 2]\n",
    "      \n",
    "      if (i != j) {\n",
    "        new_solution <- current_solution\n",
    "        temp <- new_solution[i]\n",
    "        new_solution <- new_solution[-i]\n",
    "        new_solution <- append(new_solution, temp, j-1)\n",
    "        \n",
    "        new_cost <- binpacking_instance$evaluate(new_solution)\n",
    "        list(new_solution = new_solution, new_cost = new_cost, i = i, j = j)\n",
    "      } else {\n",
    "        list(new_solution = current_solution, new_cost = best_cost, i = i, j = j)\n",
    "      }\n",
    "    })\n",
    "    \n",
    "    best_result <- NULL\n",
    "    for (result in results) {\n",
    "      if (is.list(result) && !is.null(result$new_cost) && result$new_cost < best_cost && !any(sapply(tabu_list, function(x) all(x == result$new_solution)))) {\n",
    "        best_result <- result\n",
    "        best_cost <- result$new_cost\n",
    "        improved <- TRUE\n",
    "      }\n",
    "    }\n",
    "    \n",
    "    if (!is.null(best_result)) {\n",
    "      best_solution <- best_result$new_solution\n",
    "      tabu_list <- c(tabu_list, list(best_solution))\n",
    "      if (length(tabu_list) > tabu_size) tabu_list <- tabu_list[-1]\n",
    "    }\n",
    "    \n",
    "    if (improved) {\n",
    "      current_solution <- best_solution\n",
    "    }\n",
    "  }\n",
    "  \n",
    "  return(best_solution)\n",
    "}\n"
   ]
  },
  {
   "cell_type": "code",
   "execution_count": 11,
   "metadata": {
    "vscode": {
     "languageId": "r"
    }
   },
   "outputs": [],
   "source": [
    "vns <- function(binpacking_instance, max_iter = 100, max_no_improve = 10) {\n",
    "  initial_solution <- best_fit_decreasing(binpacking_instance$item_sizes_dt$size, binpacking_instance$bin_capacity)\n",
    "  cat(\"initial solution\", initial_solution, \"\\n\")\n",
    "  best_solution <- initial_solution\n",
    "  best_cost <- binpacking_instance$evaluate(initial_solution)\n",
    "  no_improve <- 0\n",
    "  \n",
    "  cost_per_iteration <- numeric()  # Cambiar a una lista dinámica\n",
    "  \n",
    "  for (iter in 1:max_iter) {    \n",
    "    k <- 1\n",
    "    while (k <= max_no_improve) {\n",
    "      new_solution <- shaking(best_solution, k)\n",
    "      new_solution <- local_search(new_solution, binpacking_instance$bin_capacity, binpacking_instance)\n",
    "      new_cost <- binpacking_instance$evaluate(new_solution)\n",
    "      \n",
    "      cost_per_iteration <- c(cost_per_iteration, new_cost)  # Guardar new_cost\n",
    "      \n",
    "      if (new_cost < best_cost) {\n",
    "        best_solution <- new_solution\n",
    "        best_cost <- new_cost\n",
    "        no_improve <- 0\n",
    "        k <- 1\n",
    "      } else {\n",
    "        k <- k + 1\n",
    "        no_improve <- no_improve + 1\n",
    "      } \n",
    "      if (no_improve >= max_no_improve) break\n",
    "    }\n",
    "  }\n",
    "  \n",
    "  return(list(solution = best_solution, cost_per_iteration = cost_per_iteration))\n",
    "}\n"
   ]
  },
  {
   "cell_type": "code",
   "execution_count": 18,
   "metadata": {
    "vscode": {
     "languageId": "r"
    }
   },
   "outputs": [],
   "source": [
    "library(dplyr)\n",
    "\n",
    "analyze_results <- function(results) {\n",
    "  num_bins <- sapply(results, function(x) x$num_bins)\n",
    "  execution_times <- sapply(results, function(x) x$execution_time)\n",
    "  \n",
    "  summary_stats <- list(\n",
    "    num_bins = list(\n",
    "      mean = mean(num_bins),\n",
    "      sd = sd(num_bins),\n",
    "      min = min(num_bins),\n",
    "      max = max(num_bins)\n",
    "    ),\n",
    "    execution_time = list(\n",
    "      mean = mean(execution_times),\n",
    "      sd = sd(execution_times),\n",
    "      min = min(execution_times),\n",
    "      max = max(execution_times)\n",
    "    )\n",
    "  )\n",
    "  \n",
    "  return(summary_stats)\n",
    "}"
   ]
  },
  {
   "cell_type": "code",
   "execution_count": 12,
   "metadata": {
    "vscode": {
     "languageId": "r"
    }
   },
   "outputs": [
    {
     "name": "stderr",
     "output_type": "stream",
     "text": [
      "Warning message in readLines(filename):\n",
      "\"incomplete final line found on './instances/binpack1.txt'\"\n"
     ]
    },
    {
     "data": {
      "text/html": [
       "<dl>\n",
       "\t<dt>$problem_id</dt>\n",
       "\t\t<dd>'u120_00'</dd>\n",
       "\t<dt>$bin_capacity</dt>\n",
       "\t\t<dd>150</dd>\n",
       "\t<dt>$num_items</dt>\n",
       "\t\t<dd>120</dd>\n",
       "\t<dt>$best_known_solution</dt>\n",
       "\t\t<dd>48</dd>\n",
       "\t<dt>$items</dt>\n",
       "\t\t<dd><style>\n",
       ".list-inline {list-style: none; margin:0; padding: 0}\n",
       ".list-inline>li {display: inline-block}\n",
       ".list-inline>li:not(:last-child)::after {content: \"\\00b7\"; padding: 0 .5ex}\n",
       "</style>\n",
       "<ol class=list-inline><li>42</li><li>69</li><li>67</li><li>57</li><li>93</li><li>90</li><li>38</li><li>36</li><li>45</li><li>42</li><li>33</li><li>79</li><li>27</li><li>57</li><li>44</li><li>84</li><li>86</li><li>92</li><li>46</li><li>38</li><li>85</li><li>33</li><li>82</li><li>73</li><li>49</li><li>70</li><li>59</li><li>23</li><li>57</li><li>72</li><li>74</li><li>69</li><li>33</li><li>42</li><li>28</li><li>46</li><li>30</li><li>64</li><li>29</li><li>74</li><li>41</li><li>49</li><li>55</li><li>98</li><li>80</li><li>32</li><li>25</li><li>38</li><li>82</li><li>30</li><li>35</li><li>39</li><li>57</li><li>84</li><li>62</li><li>50</li><li>55</li><li>27</li><li>30</li><li>36</li><li>20</li><li>78</li><li>47</li><li>26</li><li>45</li><li>41</li><li>58</li><li>98</li><li>91</li><li>96</li><li>73</li><li>84</li><li>37</li><li>93</li><li>91</li><li>43</li><li>73</li><li>85</li><li>81</li><li>79</li><li>71</li><li>80</li><li>76</li><li>83</li><li>41</li><li>78</li><li>70</li><li>23</li><li>42</li><li>87</li><li>43</li><li>84</li><li>60</li><li>55</li><li>49</li><li>78</li><li>73</li><li>62</li><li>36</li><li>44</li><li>94</li><li>69</li><li>32</li><li>96</li><li>70</li><li>84</li><li>58</li><li>78</li><li>25</li><li>80</li><li>58</li><li>66</li><li>83</li><li>24</li><li>98</li><li>60</li><li>42</li><li>43</li><li>43</li><li>39</li></ol>\n",
       "</dd>\n",
       "</dl>\n"
      ],
      "text/latex": [
       "\\begin{description}\n",
       "\\item[\\$problem\\_id] 'u120\\_00'\n",
       "\\item[\\$bin\\_capacity] 150\n",
       "\\item[\\$num\\_items] 120\n",
       "\\item[\\$best\\_known\\_solution] 48\n",
       "\\item[\\$items] \\begin{enumerate*}\n",
       "\\item 42\n",
       "\\item 69\n",
       "\\item 67\n",
       "\\item 57\n",
       "\\item 93\n",
       "\\item 90\n",
       "\\item 38\n",
       "\\item 36\n",
       "\\item 45\n",
       "\\item 42\n",
       "\\item 33\n",
       "\\item 79\n",
       "\\item 27\n",
       "\\item 57\n",
       "\\item 44\n",
       "\\item 84\n",
       "\\item 86\n",
       "\\item 92\n",
       "\\item 46\n",
       "\\item 38\n",
       "\\item 85\n",
       "\\item 33\n",
       "\\item 82\n",
       "\\item 73\n",
       "\\item 49\n",
       "\\item 70\n",
       "\\item 59\n",
       "\\item 23\n",
       "\\item 57\n",
       "\\item 72\n",
       "\\item 74\n",
       "\\item 69\n",
       "\\item 33\n",
       "\\item 42\n",
       "\\item 28\n",
       "\\item 46\n",
       "\\item 30\n",
       "\\item 64\n",
       "\\item 29\n",
       "\\item 74\n",
       "\\item 41\n",
       "\\item 49\n",
       "\\item 55\n",
       "\\item 98\n",
       "\\item 80\n",
       "\\item 32\n",
       "\\item 25\n",
       "\\item 38\n",
       "\\item 82\n",
       "\\item 30\n",
       "\\item 35\n",
       "\\item 39\n",
       "\\item 57\n",
       "\\item 84\n",
       "\\item 62\n",
       "\\item 50\n",
       "\\item 55\n",
       "\\item 27\n",
       "\\item 30\n",
       "\\item 36\n",
       "\\item 20\n",
       "\\item 78\n",
       "\\item 47\n",
       "\\item 26\n",
       "\\item 45\n",
       "\\item 41\n",
       "\\item 58\n",
       "\\item 98\n",
       "\\item 91\n",
       "\\item 96\n",
       "\\item 73\n",
       "\\item 84\n",
       "\\item 37\n",
       "\\item 93\n",
       "\\item 91\n",
       "\\item 43\n",
       "\\item 73\n",
       "\\item 85\n",
       "\\item 81\n",
       "\\item 79\n",
       "\\item 71\n",
       "\\item 80\n",
       "\\item 76\n",
       "\\item 83\n",
       "\\item 41\n",
       "\\item 78\n",
       "\\item 70\n",
       "\\item 23\n",
       "\\item 42\n",
       "\\item 87\n",
       "\\item 43\n",
       "\\item 84\n",
       "\\item 60\n",
       "\\item 55\n",
       "\\item 49\n",
       "\\item 78\n",
       "\\item 73\n",
       "\\item 62\n",
       "\\item 36\n",
       "\\item 44\n",
       "\\item 94\n",
       "\\item 69\n",
       "\\item 32\n",
       "\\item 96\n",
       "\\item 70\n",
       "\\item 84\n",
       "\\item 58\n",
       "\\item 78\n",
       "\\item 25\n",
       "\\item 80\n",
       "\\item 58\n",
       "\\item 66\n",
       "\\item 83\n",
       "\\item 24\n",
       "\\item 98\n",
       "\\item 60\n",
       "\\item 42\n",
       "\\item 43\n",
       "\\item 43\n",
       "\\item 39\n",
       "\\end{enumerate*}\n",
       "\n",
       "\\end{description}\n"
      ],
      "text/markdown": [
       "$problem_id\n",
       ":   'u120_00'\n",
       "$bin_capacity\n",
       ":   150\n",
       "$num_items\n",
       ":   120\n",
       "$best_known_solution\n",
       ":   48\n",
       "$items\n",
       ":   1. 42\n",
       "2. 69\n",
       "3. 67\n",
       "4. 57\n",
       "5. 93\n",
       "6. 90\n",
       "7. 38\n",
       "8. 36\n",
       "9. 45\n",
       "10. 42\n",
       "11. 33\n",
       "12. 79\n",
       "13. 27\n",
       "14. 57\n",
       "15. 44\n",
       "16. 84\n",
       "17. 86\n",
       "18. 92\n",
       "19. 46\n",
       "20. 38\n",
       "21. 85\n",
       "22. 33\n",
       "23. 82\n",
       "24. 73\n",
       "25. 49\n",
       "26. 70\n",
       "27. 59\n",
       "28. 23\n",
       "29. 57\n",
       "30. 72\n",
       "31. 74\n",
       "32. 69\n",
       "33. 33\n",
       "34. 42\n",
       "35. 28\n",
       "36. 46\n",
       "37. 30\n",
       "38. 64\n",
       "39. 29\n",
       "40. 74\n",
       "41. 41\n",
       "42. 49\n",
       "43. 55\n",
       "44. 98\n",
       "45. 80\n",
       "46. 32\n",
       "47. 25\n",
       "48. 38\n",
       "49. 82\n",
       "50. 30\n",
       "51. 35\n",
       "52. 39\n",
       "53. 57\n",
       "54. 84\n",
       "55. 62\n",
       "56. 50\n",
       "57. 55\n",
       "58. 27\n",
       "59. 30\n",
       "60. 36\n",
       "61. 20\n",
       "62. 78\n",
       "63. 47\n",
       "64. 26\n",
       "65. 45\n",
       "66. 41\n",
       "67. 58\n",
       "68. 98\n",
       "69. 91\n",
       "70. 96\n",
       "71. 73\n",
       "72. 84\n",
       "73. 37\n",
       "74. 93\n",
       "75. 91\n",
       "76. 43\n",
       "77. 73\n",
       "78. 85\n",
       "79. 81\n",
       "80. 79\n",
       "81. 71\n",
       "82. 80\n",
       "83. 76\n",
       "84. 83\n",
       "85. 41\n",
       "86. 78\n",
       "87. 70\n",
       "88. 23\n",
       "89. 42\n",
       "90. 87\n",
       "91. 43\n",
       "92. 84\n",
       "93. 60\n",
       "94. 55\n",
       "95. 49\n",
       "96. 78\n",
       "97. 73\n",
       "98. 62\n",
       "99. 36\n",
       "100. 44\n",
       "101. 94\n",
       "102. 69\n",
       "103. 32\n",
       "104. 96\n",
       "105. 70\n",
       "106. 84\n",
       "107. 58\n",
       "108. 78\n",
       "109. 25\n",
       "110. 80\n",
       "111. 58\n",
       "112. 66\n",
       "113. 83\n",
       "114. 24\n",
       "115. 98\n",
       "116. 60\n",
       "117. 42\n",
       "118. 43\n",
       "119. 43\n",
       "120. 39\n",
       "\n",
       "\n",
       "\n",
       "\n",
       "\n"
      ],
      "text/plain": [
       "$problem_id\n",
       "[1] \"u120_00\"\n",
       "\n",
       "$bin_capacity\n",
       "[1] 150\n",
       "\n",
       "$num_items\n",
       "[1] 120\n",
       "\n",
       "$best_known_solution\n",
       "[1] 48\n",
       "\n",
       "$items\n",
       "  [1] 42 69 67 57 93 90 38 36 45 42 33 79 27 57 44 84 86 92 46 38 85 33 82 73 49\n",
       " [26] 70 59 23 57 72 74 69 33 42 28 46 30 64 29 74 41 49 55 98 80 32 25 38 82 30\n",
       " [51] 35 39 57 84 62 50 55 27 30 36 20 78 47 26 45 41 58 98 91 96 73 84 37 93 91\n",
       " [76] 43 73 85 81 79 71 80 76 83 41 78 70 23 42 87 43 84 60 55 49 78 73 62 36 44\n",
       "[101] 94 69 32 96 70 84 58 78 25 80 58 66 83 24 98 60 42 43 43 39\n"
      ]
     },
     "metadata": {},
     "output_type": "display_data"
    }
   ],
   "source": [
    "file_path <- \"./instances/binpack1.txt\"\n",
    "instances <- read_bin_packing_instance(file_path)\n",
    "instance <- instances[[1]]\n",
    "instance"
   ]
  },
  {
   "cell_type": "code",
   "execution_count": 62,
   "metadata": {
    "vscode": {
     "languageId": "r"
    }
   },
   "outputs": [
    {
     "name": "stdout",
     "output_type": "stream",
     "text": [
      "initial solution 41 26 22 7 7 12 45 45 34 42 39 30 34 8 39 17 14 9 24 45 15 47 24 37 2 27 10 49 19 32 36 31 47 42 48 25 44 14 48 37 43 3 6 1 27 47 48 45 25 48 46 44 20 18 13 1 21 35 48 46 40 32 5 43 35 43 9 2 10 4 38 19 46 8 11 40 38 16 26 31 30 28 36 22 44 33 28 49 42 13 40 20 12 23 4 34 39 15 46 40 6 33 47 5 29 21 11 35 49 29 18 17 23 42 3 16 43 41 41 44 \n",
      "Execution Time: 98.675 495.286 679.341 642.971 940.856 \n",
      "  [1] 41 26 22  3 36  1 14  7  6 34 15 27 45 32 30 37 48 44 48 34 25 43 24  2 24\n",
      " [26] 47 42 31 39  9  7 10 14 39 49 17 47  8 45 48 47 45 19 25 27 37 42 12 48 45\n",
      " [51] 46 44 20 18 13  1 21 35 48 46 40 32  5 43 12 43  9 10  4 38 19 46  8 11 40\n",
      " [76] 38 16 26 31 30 28 36 22 44 33 28 49 42 13 40 20 35 23  4 34 39 15 46 40  6\n",
      "[101] 33 47  5 29 21 11 35 29 18 17 23 42 49  3 16 43  2 41 41 44\n",
      "[1] \"Number of bins: 49\"\n"
     ]
    },
    {
     "data": {
      "image/png": "[encoded data removed]",
      "text/plain": [
       "Plot with title \"Curva de Convergencia\""
      ]
     },
     "metadata": {
      "image/png": {
       "height": 420,
       "width": 420
      }
     },
     "output_type": "display_data"
    }
   ],
   "source": [
    "binpacking_instance <- BinPacking$new(item_sizes = instance$items, bin_capacity = instance$bin_capacity)\n",
    "\n",
    "execution_time <- system.time({\n",
    "  result <- vns(binpacking_instance, 1500, 20)\n",
    "}) \n",
    "\n",
    "best_solution <- result$solution\n",
    "cost_per_iteration <- result$cost_per_iteration\n",
    "\n",
    "# Mostrar resultados\n",
    "cat(\"Execution Time:\", execution_time, \"\\n\")\n",
    "print(best_solution)  \n",
    "print(paste(\"Number of bins:\", binpacking_instance$evaluate(best_solution)))\n",
    "\n",
    "par(bg = \"white\") \n",
    "# Graficar la curva de convergencia\n",
    "plot(cost_per_iteration, type = 'l', main = \"Curva de Convergencia\", xlab = \"Iteracion\", ylab = \"Fitness\", col = \"black\")\n",
    "beepr::beep() \n"
   ]
  },
  {
   "cell_type": "code",
   "execution_count": 45,
   "metadata": {
    "vscode": {
     "languageId": "r"
    }
   },
   "outputs": [],
   "source": [
    "run_vns_multiple_times <- function(instance, num_runs = 11, max_iter = 1500, max_no_improve = 20) {\n",
    "  binpacking_instance <- BinPacking$new(item_sizes = instance$items, bin_capacity = instance$bin_capacity)\n",
    "  \n",
    "  results <- list()\n",
    "  \n",
    "  for (run in 1:num_runs) {\n",
    "    execution_time <- system.time({\n",
    "      result <- vns(binpacking_instance, max_iter, max_no_improve)\n",
    "    }) \n",
    "    \n",
    "    best_solution <- result$solution\n",
    "    cost_per_iteration <- result$cost_per_iteration\n",
    "    num_bins <- binpacking_instance$evaluate(best_solution)\n",
    "    \n",
    "    results[[run]] <- list(\n",
    "      best_solution = best_solution,\n",
    "      cost_per_iteration = cost_per_iteration,\n",
    "      num_bins = num_bins,\n",
    "      execution_time = execution_time[\"elapsed\"]\n",
    "    )\n",
    "    \n",
    "    message(\"Finished run \", run, \" for instance with bin capacity \", instance$bin_capacity, \" and \", length(instance$items), \" items. Solution: \", toString(best_solution), \", Bins used: \", num_bins, \", Execution time: \", execution_time[\"elapsed\"], \" seconds.\")\n",
    "    flush.console()\n",
    "  }\n",
    "  \n",
    "  message(\"Finished running VNS for instance with bin capacity \", instance$bin_capacity, \" and \", length(instance$items), \" items.\")\n",
    "  flush.console()\n",
    "  \n",
    "  return(results)\n",
    "}"
   ]
  },
  {
   "cell_type": "code",
   "execution_count": 15,
   "metadata": {
    "vscode": {
     "languageId": "r"
    }
   },
   "outputs": [
    {
     "name": "stderr",
     "output_type": "stream",
     "text": [
      "Warning message in readLines(filename):\n",
      "\"incomplete final line found on './instances/binpack1.txt'\"\n"
     ]
    },
    {
     "name": "stdout",
     "output_type": "stream",
     "text": [
      "initial solution 41 26 22 7 7 12 45 45 34 42 39 30 34 8 39 17 14 9 24 45 15 47 24 37 2 27 10 49 19 32 36 31 47 42 48 25 44 14 48 37 43 3 6 1 27 47 48 45 25 48 46 44 20 18 13 1 21 35 48 46 40 32 5 43 35 43 9 2 10 4 38 19 46 8 11 40 38 16 26 31 30 28 36 22 44 33 28 49 42 13 40 20 12 23 4 34 39 15 46 40 6 33 47 5 29 21 11 35 49 29 18 17 23 42 3 16 43 41 41 44 \n"
     ]
    },
    {
     "name": "stderr",
     "output_type": "stream",
     "text": [
      "Finished run 1 for instance with bin capacity 150 and 120 items. Solution: 41, 26, 45, 7, 48, 12, 22, 45, 34, 42, 39, 30, 34, 8, 39, 17, 14, 9, 24, 45, 15, 47, 24, 37, 2, 27, 10, 49, 19, 32, 36, 21, 47, 25, 42, 45, 27, 48, 13, 16, 43, 21, 6, 14, 7, 3, 48, 1, 40, 47, 48, 1, 37, 44, 46, 32, 25, 46, 18, 35, 48, 44, 5, 43, 35, 43, 9, 2, 4, 38, 19, 46, 8, 11, 40, 38, 16, 26, 31, 30, 28, 36, 22, 44, 33, 28, 49, 42, 13, 40, 46, 12, 23, 4, 34, 39, 15, 20, 40, 6, 33, 47, 5, 29, 31, 11, 35, 49, 29, 18, 17, 10, 23, 42, 3, 20, 43, 41, 41, 44, Bins used: 51\n",
      "\n"
     ]
    },
    {
     "name": "stdout",
     "output_type": "stream",
     "text": [
      "initial solution 41 26 22 7 7 12 45 45 34 42 39 30 34 8 39 17 14 9 24 45 15 47 24 37 2 27 10 49 19 32 36 31 47 42 48 25 44 14 48 37 43 3 6 1 27 47 48 45 25 48 46 44 20 18 13 1 21 35 48 46 40 32 5 43 35 43 9 2 10 4 38 19 46 8 11 40 38 16 26 31 30 28 36 22 44 33 28 49 42 13 40 20 12 23 4 34 39 15 46 40 6 33 47 5 29 21 11 35 49 29 18 17 23 42 3 16 43 41 41 44 \n"
     ]
    },
    {
     "name": "stderr",
     "output_type": "stream",
     "text": [
      "Finished run 2 for instance with bin capacity 150 and 120 items. Solution: 41, 37, 22, 7, 7, 12, 45, 45, 34, 42, 39, 30, 34, 8, 39, 17, 14, 9, 24, 45, 15, 47, 24, 26, 2, 27, 10, 49, 19, 32, 36, 31, 47, 42, 48, 25, 44, 14, 48, 37, 43, 3, 34, 1, 27, 47, 48, 45, 25, 48, 46, 44, 20, 18, 13, 1, 21, 35, 48, 46, 40, 32, 5, 43, 35, 43, 9, 2, 10, 38, 19, 46, 8, 11, 40, 38, 16, 26, 31, 30, 28, 36, 22, 44, 33, 28, 49, 42, 13, 40, 20, 12, 23, 4, 6, 39, 15, 46, 40, 6, 33, 47, 5, 29, 21, 11, 35, 49, 29, 18, 17, 42, 4, 3, 16, 43, 41, 23, 41, 44, Bins used: 51\n",
      "\n"
     ]
    },
    {
     "name": "stdout",
     "output_type": "stream",
     "text": [
      "initial solution 41 26 22 7 7 12 45 45 34 42 39 30 34 8 39 17 14 9 24 45 15 47 24 37 2 27 10 49 19 32 36 31 47 42 48 25 44 14 48 37 43 3 6 1 27 47 48 45 25 48 46 44 20 18 13 1 21 35 48 46 40 32 5 43 35 43 9 2 10 4 38 19 46 8 11 40 38 16 26 31 30 28 36 22 44 33 28 49 42 13 40 20 12 23 4 34 39 15 46 40 6 33 47 5 29 21 11 35 49 29 18 17 23 42 3 16 43 41 41 44 \n"
     ]
    },
    {
     "name": "stderr",
     "output_type": "stream",
     "text": [
      "Finished run 3 for instance with bin capacity 150 and 120 items. Solution: 41, 26, 22, 7, 24, 45, 32, 19, 27, 39, 24, 34, 47, 10, 45, 17, 27, 30, 9, 49, 34, 2, 45, 14, 15, 37, 42, 36, 39, 20, 8, 31, 47, 42, 48, 25, 44, 14, 48, 37, 43, 3, 6, 1, 12, 47, 48, 25, 48, 46, 44, 7, 18, 13, 1, 21, 12, 48, 46, 40, 32, 5, 43, 35, 43, 9, 45, 2, 10, 18, 38, 19, 46, 8, 11, 40, 38, 16, 26, 31, 30, 28, 36, 22, 44, 33, 28, 49, 42, 13, 40, 20, 35, 23, 4, 34, 39, 15, 46, 40, 6, 33, 47, 5, 29, 21, 11, 35, 49, 29, 4, 17, 23, 3, 16, 43, 41, 41, 44, 42, Bins used: 49\n",
      "\n"
     ]
    },
    {
     "name": "stdout",
     "output_type": "stream",
     "text": [
      "initial solution 41 26 22 7 7 12 45 45 34 42 39 30 34 8 39 17 14 9 24 45 15 47 24 37 2 27 10 49 19 32 36 31 47 42 48 25 44 14 48 37 43 3 6 1 27 47 48 45 25 48 46 44 20 18 13 1 21 35 48 46 40 32 5 43 35 43 9 2 10 4 38 19 46 8 11 40 38 16 26 31 30 28 36 22 44 33 28 49 42 13 40 20 12 23 4 34 39 15 46 40 6 33 47 5 29 21 11 35 49 29 18 17 23 42 3 16 43 41 41 44 \n"
     ]
    },
    {
     "name": "stderr",
     "output_type": "stream",
     "text": [
      "Finished run 4 for instance with bin capacity 150 and 120 items. Solution: 26, 22, 7, 7, 12, 45, 45, 34, 42, 39, 30, 34, 8, 39, 17, 14, 9, 24, 45, 15, 47, 24, 37, 2, 27, 10, 49, 19, 32, 36, 31, 47, 42, 1, 48, 3, 46, 25, 27, 6, 45, 43, 48, 47, 48, 25, 37, 44, 41, 48, 14, 44, 20, 18, 13, 1, 21, 35, 48, 46, 40, 32, 5, 43, 35, 43, 9, 2, 4, 38, 19, 46, 8, 11, 40, 38, 16, 26, 31, 30, 28, 36, 22, 44, 33, 28, 49, 42, 13, 40, 20, 12, 23, 4, 34, 39, 15, 46, 40, 41, 33, 47, 5, 29, 21, 11, 35, 49, 29, 18, 17, 23, 42, 3, 16, 43, 6, 10, 41, 44, Bins used: 51\n",
      "\n"
     ]
    },
    {
     "name": "stdout",
     "output_type": "stream",
     "text": [
      "initial solution 41 26 22 7 7 12 45 45 34 42 39 30 34 8 39 17 14 9 24 45 15 47 24 37 2 27 10 49 19 32 36 31 47 42 48 25 44 14 48 37 43 3 6 1 27 47 48 45 25 48 46 44 20 18 13 1 21 35 48 46 40 32 5 43 35 43 9 2 10 4 38 19 46 8 11 40 38 16 26 31 30 28 36 22 44 33 28 49 42 13 40 20 12 23 4 34 39 15 46 40 6 33 47 5 29 21 11 35 49 29 18 17 23 42 3 16 43 41 41 44 \n"
     ]
    },
    {
     "name": "stderr",
     "output_type": "stream",
     "text": [
      "Finished run 5 for instance with bin capacity 150 and 120 items. Solution: 43, 12, 22, 7, 7, 26, 45, 45, 34, 42, 39, 30, 34, 5, 39, 17, 14, 9, 8, 45, 15, 47, 24, 37, 46, 48, 6, 40, 38, 31, 1, 43, 5, 25, 23, 10, 35, 45, 13, 42, 40, 47, 32, 19, 43, 46, 48, 9, 44, 36, 14, 48, 8, 3, 16, 35, 20, 38, 48, 48, 2, 27, 47, 18, 20, 11, 46, 44, 37, 1, 19, 27, 25, 49, 18, 4, 21, 26, 31, 30, 28, 36, 22, 44, 33, 28, 49, 42, 13, 40, 32, 12, 23, 4, 44, 39, 15, 46, 40, 6, 33, 47, 24, 29, 21, 11, 35, 49, 29, 10, 2, 17, 41, 42, 3, 16, 43, 41, 41, 34, Bins used: 50\n",
      "\n"
     ]
    },
    {
     "name": "stdout",
     "output_type": "stream",
     "text": [
      "initial solution 41 26 22 7 7 12 45 45 34 42 39 30 34 8 39 17 14 9 24 45 15 47 24 37 2 27 10 49 19 32 36 31 47 42 48 25 44 14 48 37 43 3 6 1 27 47 48 45 25 48 46 44 20 18 13 1 21 35 48 46 40 32 5 43 35 43 9 2 10 4 38 19 46 8 11 40 38 16 26 31 30 28 36 22 44 33 28 49 42 13 40 20 12 23 4 34 39 15 46 40 6 33 47 5 29 21 11 35 49 29 18 17 23 42 3 16 43 41 41 44 \n"
     ]
    },
    {
     "name": "stderr",
     "output_type": "stream",
     "text": [
      "Finished run 6 for instance with bin capacity 150 and 120 items. Solution: 41, 26, 22, 7, 12, 45, 45, 34, 42, 39, 30, 34, 8, 39, 17, 14, 9, 24, 45, 15, 47, 24, 37, 2, 27, 10, 49, 19, 32, 36, 31, 47, 42, 48, 46, 25, 43, 10, 3, 20, 14, 38, 47, 48, 21, 4, 35, 9, 5, 18, 25, 6, 13, 27, 46, 48, 2, 45, 1, 35, 40, 37, 43, 43, 7, 44, 44, 48, 48, 1, 32, 19, 46, 8, 11, 38, 16, 26, 31, 30, 28, 36, 22, 44, 33, 28, 49, 42, 13, 40, 20, 12, 23, 4, 40, 34, 39, 15, 46, 40, 6, 33, 47, 5, 29, 29, 21, 35, 16, 42, 49, 41, 3, 17, 18, 11, 43, 23, 41, 44, Bins used: 51\n",
      "\n"
     ]
    },
    {
     "name": "stdout",
     "output_type": "stream",
     "text": [
      "initial solution 41 26 22 7 7 12 45 45 34 42 39 30 34 8 39 17 14 9 24 45 15 47 24 37 2 27 10 49 19 32 36 31 47 42 48 25 44 14 48 37 43 3 6 1 27 47 48 45 25 48 46 44 20 18 13 1 21 35 48 46 40 32 5 43 35 43 9 2 10 4 38 19 46 8 11 40 38 16 26 31 30 28 36 22 44 33 28 49 42 13 40 20 12 23 4 34 39 15 46 40 6 33 47 5 29 21 11 35 49 29 18 17 23 42 3 16 43 41 41 44 \n"
     ]
    },
    {
     "name": "stderr",
     "output_type": "stream",
     "text": [
      "Finished run 7 for instance with bin capacity 150 and 120 items. Solution: 41, 26, 22, 39, 12, 34, 15, 45, 24, 10, 24, 39, 47, 9, 19, 2, 45, 31, 42, 42, 45, 27, 17, 47, 30, 36, 7, 32, 8, 49, 37, 7, 14, 34, 48, 25, 44, 14, 48, 37, 43, 3, 6, 1, 27, 47, 48, 45, 48, 46, 44, 20, 18, 13, 1, 21, 4, 48, 46, 40, 32, 5, 43, 35, 43, 9, 2, 10, 35, 38, 19, 46, 8, 11, 40, 38, 16, 26, 31, 30, 28, 36, 22, 44, 33, 28, 49, 42, 13, 40, 20, 23, 4, 34, 39, 15, 46, 40, 6, 33, 47, 25, 5, 29, 21, 11, 35, 49, 29, 18, 17, 23, 42, 12, 3, 16, 43, 41, 41, 44, Bins used: 50\n",
      "\n"
     ]
    },
    {
     "name": "stdout",
     "output_type": "stream",
     "text": [
      "initial solution 41 26 22 7 7 12 45 45 34 42 39 30 34 8 39 17 14 9 24 45 15 47 24 37 2 27 10 49 19 32 36 31 47 42 48 25 44 14 48 37 43 3 6 1 27 47 48 45 25 48 46 44 20 18 13 1 21 35 48 46 40 32 5 43 35 43 9 2 10 4 38 19 46 8 11 40 38 16 26 31 30 28 36 22 44 33 28 49 42 13 40 20 12 23 4 34 39 15 46 40 6 33 47 5 29 21 11 35 49 29 18 17 23 42 3 16 43 41 41 44 \n"
     ]
    },
    {
     "name": "stderr",
     "output_type": "stream",
     "text": [
      "Finished run 8 for instance with bin capacity 150 and 120 items. Solution: 41, 26, 22, 27, 27, 45, 25, 49, 11, 48, 37, 31, 15, 45, 10, 17, 39, 9, 43, 36, 7, 42, 30, 24, 39, 42, 37, 34, 7, 24, 47, 45, 32, 47, 2, 22, 34, 44, 47, 3, 8, 14, 19, 1, 12, 48, 6, 48, 25, 48, 46, 44, 20, 18, 13, 1, 21, 35, 45, 46, 40, 32, 5, 43, 35, 43, 9, 2, 10, 4, 38, 19, 46, 8, 14, 40, 38, 16, 26, 31, 30, 28, 36, 48, 44, 33, 28, 49, 13, 40, 20, 41, 23, 4, 34, 39, 15, 46, 40, 6, 33, 47, 5, 29, 21, 11, 35, 49, 29, 18, 17, 42, 23, 3, 16, 43, 12, 41, 42, 44, Bins used: 50\n",
      "\n"
     ]
    },
    {
     "name": "stdout",
     "output_type": "stream",
     "text": [
      "initial solution 41 26 22 7 7 12 45 45 34 42 39 30 34 8 39 17 14 9 24 45 15 47 24 37 2 27 10 49 19 32 36 31 47 42 48 25 44 14 48 37 43 3 6 1 27 47 48 45 25 48 46 44 20 18 13 1 21 35 48 46 40 32 5 43 35 43 9 2 10 4 38 19 46 8 11 40 38 16 26 31 30 28 36 22 44 33 28 49 42 13 40 20 12 23 4 34 39 15 46 40 6 33 47 5 29 21 11 35 49 29 18 17 23 42 3 16 43 41 41 44 \n"
     ]
    },
    {
     "name": "stderr",
     "output_type": "stream",
     "text": [
      "Finished run 9 for instance with bin capacity 150 and 120 items. Solution: 22, 15, 30, 39, 45, 17, 26, 45, 42, 47, 39, 34, 34, 45, 12, 41, 24, 7, 8, 14, 7, 9, 24, 37, 2, 27, 10, 49, 19, 32, 47, 42, 44, 25, 6, 25, 36, 48, 48, 13, 21, 45, 43, 48, 23, 37, 48, 31, 20, 44, 18, 14, 3, 47, 27, 1, 1, 35, 48, 46, 40, 32, 5, 43, 35, 43, 9, 2, 4, 38, 19, 46, 8, 11, 40, 38, 16, 26, 31, 30, 28, 36, 22, 44, 33, 28, 49, 42, 13, 40, 20, 12, 46, 4, 34, 39, 15, 46, 40, 6, 33, 47, 5, 29, 17, 23, 3, 18, 10, 16, 42, 21, 11, 29, 49, 35, 43, 41, 41, 44, Bins used: 50\n",
      "\n"
     ]
    },
    {
     "name": "stdout",
     "output_type": "stream",
     "text": [
      "initial solution 41 26 22 7 7 12 45 45 34 42 39 30 34 8 39 17 14 9 24 45 15 47 24 37 2 27 10 49 19 32 36 31 47 42 48 25 44 14 48 37 43 3 6 1 27 47 48 45 25 48 46 44 20 18 13 1 21 35 48 46 40 32 5 43 35 43 9 2 10 4 38 19 46 8 11 40 38 16 26 31 30 28 36 22 44 33 28 49 42 13 40 20 12 23 4 34 39 15 46 40 6 33 47 5 29 21 11 35 49 29 18 17 23 42 3 16 43 41 41 44 \n"
     ]
    },
    {
     "name": "stderr",
     "output_type": "stream",
     "text": [
      "Finished run 10 for instance with bin capacity 150 and 120 items. Solution: 41, 26, 7, 7, 12, 45, 34, 42, 39, 30, 34, 8, 39, 22, 17, 14, 9, 24, 45, 15, 47, 24, 37, 2, 27, 48, 18, 13, 25, 47, 48, 25, 43, 10, 48, 27, 1, 47, 46, 32, 21, 1, 3, 45, 37, 31, 44, 48, 48, 36, 42, 35, 49, 19, 44, 14, 6, 20, 45, 46, 40, 32, 5, 43, 12, 43, 9, 2, 10, 4, 38, 19, 46, 8, 11, 40, 38, 16, 26, 31, 30, 28, 36, 22, 44, 33, 28, 49, 42, 13, 40, 20, 35, 23, 4, 34, 39, 15, 46, 40, 6, 33, 47, 5, 29, 21, 11, 35, 49, 29, 18, 17, 23, 42, 16, 43, 41, 41, 3, 44, Bins used: 50\n",
      "\n"
     ]
    },
    {
     "name": "stdout",
     "output_type": "stream",
     "text": [
      "initial solution 41 26 22 7 7 12 45 45 34 42 39 30 34 8 39 17 14 9 24 45 15 47 24 37 2 27 10 49 19 32 36 31 47 42 48 25 44 14 48 37 43 3 6 1 27 47 48 45 25 48 46 44 20 18 13 1 21 35 48 46 40 32 5 43 35 43 9 2 10 4 38 19 46 8 11 40 38 16 26 31 30 28 36 22 44 33 28 49 42 13 40 20 12 23 4 34 39 15 46 40 6 33 47 5 29 21 11 35 49 29 18 17 23 42 3 16 43 41 41 44 \n"
     ]
    },
    {
     "name": "stderr",
     "output_type": "stream",
     "text": [
      "Finished run 11 for instance with bin capacity 150 and 120 items. Solution: 41, 26, 22, 34, 45, 39, 12, 37, 45, 15, 13, 17, 8, 44, 42, 31, 30, 24, 1, 6, 7, 9, 45, 24, 47, 25, 14, 42, 25, 34, 20, 48, 2, 27, 47, 46, 18, 14, 49, 3, 36, 7, 43, 44, 48, 48, 45, 39, 10, 48, 19, 47, 32, 37, 1, 21, 35, 48, 46, 40, 32, 5, 43, 17, 43, 9, 2, 10, 4, 38, 19, 46, 8, 11, 40, 38, 16, 26, 31, 30, 28, 36, 22, 44, 33, 28, 49, 42, 13, 40, 20, 12, 23, 27, 4, 34, 39, 15, 46, 40, 6, 33, 47, 5, 29, 21, 11, 35, 49, 29, 18, 35, 23, 3, 42, 16, 43, 41, 41, 44, Bins used: 50\n",
      "\n",
      "Finished running VNS for instance with bin capacity 150 and 120 items.\n",
      "\n"
     ]
    }
   ],
   "source": [
    "file_paths <- c(\n",
    "  \"./instances/binpack1.txt\"\n",
    ")\n",
    "\n",
    "all_results <- list()\n",
    "\n",
    "for (file_path in file_paths) {\n",
    "  instances <- read_bin_packing_instance(file_path)\n",
    "  \n",
    "  instance_results <- run_vns_multiple_times(instances[[1]], 11, 1000, 10)\n",
    "  all_results[[paste(file_path, 1, sep = \"_\")]] <- instance_results\n",
    "}"
   ]
  },
  {
   "cell_type": "code",
   "execution_count": 16,
   "metadata": {
    "vscode": {
     "languageId": "r"
    }
   },
   "outputs": [
    {
     "name": "stdout",
     "output_type": "stream",
     "text": [
      "Resultados para la instancia 1 :\n",
      "$num_bins\n",
      "$num_bins$mean\n",
      "[1] 50.27273\n",
      "\n",
      "$num_bins$sd\n",
      "[1] 0.6466698\n",
      "\n",
      "$num_bins$min\n",
      "[1] 49\n",
      "\n",
      "$num_bins$max\n",
      "[1] 51\n",
      "\n",
      "\n",
      "$execution_time\n",
      "$execution_time$mean\n",
      "[1] 689.4385\n",
      "\n",
      "$execution_time$sd\n",
      "[1] 795.4385\n",
      "\n",
      "$execution_time$min\n",
      "[1] 385.182\n",
      "\n",
      "$execution_time$max\n",
      "[1] 3083.076\n",
      "\n",
      "\n"
     ]
    }
   ],
   "source": [
    "all_summaries <- lapply(all_results, analyze_results)\n",
    "\n",
    "# Mostrar los resultados\n",
    "for (i in 1:length(all_summaries)) {\n",
    "  cat(\"Resultados para la instancia\", i, \":\\n\")\n",
    "  print(all_summaries[[i]])\n",
    "}"
   ]
  },
  {
   "cell_type": "code",
   "execution_count": 46,
   "metadata": {
    "vscode": {
     "languageId": "r"
    }
   },
   "outputs": [
    {
     "name": "stdout",
     "output_type": "stream",
     "text": [
      "initial solution 9 20 9 5 9 15 6 16 13 1 23 21 1 22 17 8 10 11 2 22 11 2 21 19 4 21 15 5 18 16 4 18 17 6 20 14 10 19 10 12 18 8 3 20 19 11 12 12 7 8 13 13 15 14 3 22 16 7 17 14 \n"
     ]
    },
    {
     "name": "stderr",
     "output_type": "stream",
     "text": [
      "Finished run 1 for instance with bin capacity 100 and 60 items. Solution: 9, 20, 9, 5, 9, 15, 6, 16, 13, 1, 23, 21, 1, 22, 17, 8, 10, 11, 2, 22, 11, 19, 2, 21, 4, 21, 15, 5, 18, 16, 4, 18, 17, 6, 20, 14, 10, 19, 10, 12, 18, 8, 3, 20, 19, 11, 12, 12, 7, 8, 13, 13, 15, 14, 3, 22, 16, 7, 17, 14, Bins used: 23, Execution time: 377.159000000003 seconds.\n",
      "\n"
     ]
    },
    {
     "name": "stdout",
     "output_type": "stream",
     "text": [
      "initial solution 9 20 9 5 9 15 6 16 13 1 23 21 1 22 17 8 10 11 2 22 11 2 21 19 4 21 15 5 18 16 4 18 17 6 20 14 10 19 10 12 18 8 3 20 19 11 12 12 7 8 13 13 15 14 3 22 16 7 17 14 \n"
     ]
    },
    {
     "name": "stderr",
     "output_type": "stream",
     "text": [
      "Finished run 2 for instance with bin capacity 100 and 60 items. Solution: 9, 20, 9, 1, 21, 15, 22, 22, 1, 5, 15, 9, 4, 2, 23, 16, 17, 2, 13, 11, 10, 19, 10, 10, 12, 21, 4, 6, 21, 16, 18, 8, 11, 19, 18, 3, 14, 17, 8, 5, 20, 6, 18, 20, 19, 11, 12, 12, 7, 8, 13, 13, 15, 14, 3, 22, 16, 7, 17, 14, Bins used: 22, Execution time: 417.940000000002 seconds.\n",
      "\n"
     ]
    },
    {
     "name": "stdout",
     "output_type": "stream",
     "text": [
      "initial solution 9 20 9 5 9 15 6 16 13 1 23 21 1 22 17 8 10 11 2 22 11 2 21 19 4 21 15 5 18 16 4 18 17 6 20 14 10 19 10 12 18 8 3 20 19 11 12 12 7 8 13 13 15 14 3 22 16 7 17 14 \n"
     ]
    },
    {
     "name": "stderr",
     "output_type": "stream",
     "text": [
      "Finished run 3 for instance with bin capacity 100 and 60 items. Solution: 9, 16, 21, 9, 16, 22, 8, 2, 21, 4, 23, 2, 22, 17, 1, 11, 10, 1, 9, 5, 15, 18, 20, 11, 21, 6, 15, 5, 19, 13, 4, 18, 17, 6, 20, 14, 10, 19, 10, 12, 18, 8, 3, 20, 19, 11, 12, 12, 7, 8, 13, 13, 15, 14, 3, 22, 16, 7, 17, 14, Bins used: 23, Execution time: 403.625999999997 seconds.\n",
      "\n"
     ]
    },
    {
     "name": "stdout",
     "output_type": "stream",
     "text": [
      "initial solution 9 20 9 5 9 15 6 16 13 1 23 21 1 22 17 8 10 11 2 22 11 2 21 19 4 21 15 5 18 16 4 18 17 6 20 14 10 19 10 12 18 8 3 20 19 11 12 12 7 8 13 13 15 14 3 22 16 7 17 14 \n"
     ]
    },
    {
     "name": "stderr",
     "output_type": "stream",
     "text": [
      "Finished run 4 for instance with bin capacity 100 and 60 items. Solution: 9, 16, 6, 5, 22, 23, 21, 9, 1, 9, 1, 15, 20, 13, 17, 8, 10, 11, 2, 22, 11, 2, 21, 19, 4, 21, 15, 5, 18, 4, 18, 17, 6, 20, 14, 10, 19, 10, 12, 18, 8, 3, 16, 20, 19, 11, 12, 12, 7, 8, 13, 13, 15, 14, 3, 22, 16, 7, 17, 14, Bins used: 22, Execution time: 410.011999999999 seconds.\n",
      "\n"
     ]
    },
    {
     "name": "stdout",
     "output_type": "stream",
     "text": [
      "initial solution 9 20 9 5 9 15 6 16 13 1 23 21 1 22 17 8 10 11 2 22 11 2 21 19 4 21 15 5 18 16 4 18 17 6 20 14 10 19 10 12 18 8 3 20 19 11 12 12 7 8 13 13 15 14 3 22 16 7 17 14 \n"
     ]
    },
    {
     "name": "stderr",
     "output_type": "stream",
     "text": [
      "Finished run 5 for instance with bin capacity 100 and 60 items. Solution: 9, 20, 9, 5, 8, 1, 10, 21, 13, 6, 16, 15, 9, 23, 22, 17, 1, 11, 2, 22, 11, 2, 21, 19, 4, 21, 15, 5, 18, 16, 4, 18, 17, 6, 20, 14, 10, 19, 10, 12, 18, 8, 3, 20, 19, 11, 12, 12, 7, 8, 13, 13, 15, 14, 3, 22, 16, 7, 17, 14, Bins used: 23, Execution time: 5343.649 seconds.\n",
      "\n"
     ]
    },
    {
     "name": "stdout",
     "output_type": "stream",
     "text": [
      "initial solution 9 20 9 5 9 15 6 16 13 1 23 21 1 22 17 8 10 11 2 22 11 2 21 19 4 21 15 5 18 16 4 18 17 6 20 14 10 19 10 12 18 8 3 20 19 11 12 12 7 8 13 13 15 14 3 22 16 7 17 14 \n"
     ]
    },
    {
     "name": "stderr",
     "output_type": "stream",
     "text": [
      "Finished run 6 for instance with bin capacity 100 and 60 items. Solution: 9, 20, 9, 5, 9, 15, 6, 16, 13, 1, 23, 21, 1, 22, 17, 8, 10, 11, 2, 22, 11, 2, 21, 19, 4, 21, 15, 5, 16, 4, 18, 17, 6, 20, 14, 10, 19, 10, 12, 18, 18, 8, 3, 20, 19, 11, 12, 12, 7, 8, 13, 13, 15, 14, 3, 22, 16, 7, 17, 14, Bins used: 23, Execution time: 459.243000000002 seconds.\n",
      "\n"
     ]
    },
    {
     "name": "stdout",
     "output_type": "stream",
     "text": [
      "initial solution 9 20 9 5 9 15 6 16 13 1 23 21 1 22 17 8 10 11 2 22 11 2 21 19 4 21 15 5 18 16 4 18 17 6 20 14 10 19 10 12 18 8 3 20 19 11 12 12 7 8 13 13 15 14 3 22 16 7 17 14 \n"
     ]
    },
    {
     "name": "stderr",
     "output_type": "stream",
     "text": [
      "Finished run 7 for instance with bin capacity 100 and 60 items. Solution: 9, 20, 9, 5, 9, 15, 6, 16, 13, 1, 23, 21, 1, 22, 17, 8, 10, 11, 2, 22, 11, 21, 19, 2, 4, 21, 15, 5, 18, 16, 4, 18, 17, 6, 20, 14, 10, 19, 10, 12, 18, 8, 3, 20, 19, 11, 12, 12, 7, 8, 13, 13, 15, 14, 3, 22, 16, 7, 17, 14, Bins used: 23, Execution time: 474.468000000001 seconds.\n",
      "\n"
     ]
    },
    {
     "name": "stdout",
     "output_type": "stream",
     "text": [
      "initial solution 9 20 9 5 9 15 6 16 13 1 23 21 1 22 17 8 10 11 2 22 11 2 21 19 4 21 15 5 18 16 4 18 17 6 20 14 10 19 10 12 18 8 3 20 19 11 12 12 7 8 13 13 15 14 3 22 16 7 17 14 \n"
     ]
    },
    {
     "name": "stderr",
     "output_type": "stream",
     "text": [
      "Finished run 8 for instance with bin capacity 100 and 60 items. Solution: 9, 20, 9, 4, 19, 11, 15, 13, 23, 15, 4, 22, 2, 11, 1, 21, 8, 10, 22, 5, 9, 16, 21, 21, 1, 17, 2, 16, 18, 6, 18, 17, 6, 20, 14, 10, 19, 10, 12, 18, 8, 5, 3, 20, 19, 11, 12, 12, 7, 8, 13, 13, 15, 14, 3, 22, 16, 7, 17, 14, Bins used: 22, Execution time: 449.963 seconds.\n",
      "\n"
     ]
    },
    {
     "name": "stdout",
     "output_type": "stream",
     "text": [
      "initial solution 9 20 9 5 9 15 6 16 13 1 23 21 1 22 17 8 10 11 2 22 11 2 21 19 4 21 15 5 18 16 4 18 17 6 20 14 10 19 10 12 18 8 3 20 19 11 12 12 7 8 13 13 15 14 3 22 16 7 17 14 \n"
     ]
    },
    {
     "name": "stderr",
     "output_type": "stream",
     "text": [
      "Finished run 9 for instance with bin capacity 100 and 60 items. Solution: 9, 20, 9, 5, 9, 15, 6, 16, 13, 1, 23, 21, 1, 22, 17, 8, 11, 2, 22, 11, 2, 21, 19, 4, 21, 15, 5, 18, 16, 4, 10, 18, 17, 6, 20, 14, 10, 19, 10, 12, 18, 8, 3, 20, 19, 11, 12, 12, 7, 8, 13, 13, 15, 14, 3, 22, 16, 7, 17, 14, Bins used: 23, Execution time: 5113.894 seconds.\n",
      "\n"
     ]
    },
    {
     "name": "stdout",
     "output_type": "stream",
     "text": [
      "initial solution 9 20 9 5 9 15 6 16 13 1 23 21 1 22 17 8 10 11 2 22 11 2 21 19 4 21 15 5 18 16 4 18 17 6 20 14 10 19 10 12 18 8 3 20 19 11 12 12 7 8 13 13 15 14 3 22 16 7 17 14 \n"
     ]
    },
    {
     "name": "stderr",
     "output_type": "stream",
     "text": [
      "Finished run 10 for instance with bin capacity 100 and 60 items. Solution: 9, 20, 9, 5, 9, 15, 6, 16, 13, 1, 23, 21, 1, 22, 17, 8, 10, 11, 2, 22, 11, 2, 21, 19, 4, 21, 15, 18, 16, 4, 18, 17, 6, 20, 14, 10, 19, 10, 12, 18, 8, 3, 20, 5, 19, 11, 12, 12, 7, 8, 13, 13, 15, 14, 3, 22, 16, 7, 17, 14, Bins used: 23, Execution time: 494.717000000001 seconds.\n",
      "\n"
     ]
    },
    {
     "name": "stdout",
     "output_type": "stream",
     "text": [
      "initial solution 9 20 9 5 9 15 6 16 13 1 23 21 1 22 17 8 10 11 2 22 11 2 21 19 4 21 15 5 18 16 4 18 17 6 20 14 10 19 10 12 18 8 3 20 19 11 12 12 7 8 13 13 15 14 3 22 16 7 17 14 \n"
     ]
    },
    {
     "name": "stderr",
     "output_type": "stream",
     "text": [
      "Finished run 11 for instance with bin capacity 100 and 60 items. Solution: 9, 20, 5, 16, 11, 5, 9, 11, 21, 23, 2, 19, 21, 4, 21, 1, 13, 10, 16, 15, 6, 1, 15, 22, 18, 2, 8, 17, 9, 22, 4, 18, 17, 6, 20, 14, 10, 19, 10, 12, 18, 8, 3, 20, 19, 11, 12, 12, 7, 8, 13, 13, 15, 14, 3, 22, 16, 7, 17, 14, Bins used: 23, Execution time: 509.280999999999 seconds.\n",
      "\n",
      "Finished running VNS for instance with bin capacity 100 and 60 items.\n",
      "\n"
     ]
    }
   ],
   "source": [
    "file_paths <- c(\n",
    "  \"./instances/binpack5.txt\"\n",
    ")\n",
    "\n",
    "all_results_5 <- list()\n",
    "\n",
    "for (file_path in file_paths) { \n",
    "  instances <- read_bin_packing_instance(file_path)\n",
    "  \n",
    "  instance_results <- run_vns_multiple_times(instances[[1]], 11, 1000, 10)\n",
    "  instance_results$\n",
    "  all_results_5[[paste(file_path, 1, sep = \"_\")]] <- instance_results\n",
    "}"
   ]
  },
  {
   "cell_type": "code",
   "execution_count": 48,
   "metadata": {
    "vscode": {
     "languageId": "r"
    }
   },
   "outputs": [],
   "source": [
    "cat(all_results_5)"
   ]
  },
  {
   "cell_type": "code",
   "execution_count": 52,
   "metadata": {
    "vscode": {
     "languageId": "r"
    }
   },
   "outputs": [],
   "source": [
    "all_summaries_2 <- lapply(all_results_5, analyze_results)"
   ]
  },
  {
   "cell_type": "code",
   "execution_count": 53,
   "metadata": {
    "vscode": {
     "languageId": "r"
    }
   },
   "outputs": [
    {
     "data": {
      "text/html": [
       "<ol>\n",
       "</ol>\n"
      ],
      "text/latex": [
       "\\begin{enumerate}\n",
       "\\end{enumerate}\n"
      ],
      "text/markdown": [
       "\n",
       "\n"
      ],
      "text/plain": [
       "list()"
      ]
     },
     "metadata": {},
     "output_type": "display_data"
    }
   ],
   "source": [
    "all_summaries_2"
   ]
  },
  {
   "cell_type": "code",
   "execution_count": 54,
   "metadata": {
    "vscode": {
     "languageId": "r"
    }
   },
   "outputs": [
    {
     "name": "stdout",
     "output_type": "stream",
     "text": [
      "Resultados para la instancia 1 :\n"
     ]
    },
    {
     "ename": "ERROR",
     "evalue": "Error in all_summaries_2[[i]]: sub'indice fuera de  los l'imites\n",
     "output_type": "error",
     "traceback": [
      "Error in all_summaries_2[[i]]: sub'indice fuera de  los l'imites\nTraceback:\n"
     ]
    }
   ],
   "source": [
    "# Mostrar los resultados\n",
    "for (i in 1:length(all_summaries_2)) {\n",
    "  cat(\"Resultados para la instancia\", i, \":\\n\")\n",
    "  print(all_summaries_2[[i]])\n",
    "}"
   ]
  },
  {
   "cell_type": "code",
   "execution_count": 12,
   "metadata": {
    "vscode": {
     "languageId": "r"
    }
   },
   "outputs": [
    {
     "name": "stdout",
     "output_type": "stream",
     "text": [
      "initial solution 5 7 1 5 3 4 6 2 4 6 2 3 3 6 4 1 7 5 1 2 \n"
     ]
    },
    {
     "name": "stderr",
     "output_type": "stream",
     "text": [
      "Finished run 1 for instance with bin capacity 100 and 20 items. Solution: 5, 7, 1, 5, 3, 4, 6, 2, 4, 6, 2, 3, 3, 6, 4, 1, 7, 5, 1, 2, Bins used: 7\n",
      "\n"
     ]
    },
    {
     "name": "stdout",
     "output_type": "stream",
     "text": [
      "initial solution 5 7 1 5 3 4 6 2 4 6 2 3 3 6 4 1 7 5 1 2 \n"
     ]
    },
    {
     "name": "stderr",
     "output_type": "stream",
     "text": [
      "Finished run 2 for instance with bin capacity 100 and 20 items. Solution: 5, 7, 1, 5, 3, 4, 6, 2, 4, 6, 2, 3, 3, 6, 4, 1, 7, 5, 1, 2, Bins used: 7\n",
      "\n"
     ]
    },
    {
     "name": "stdout",
     "output_type": "stream",
     "text": [
      "initial solution 5 7 1 5 3 4 6 2 4 6 2 3 3 6 4 1 7 5 1 2 \n"
     ]
    },
    {
     "name": "stderr",
     "output_type": "stream",
     "text": [
      "Finished run 3 for instance with bin capacity 100 and 20 items. Solution: 5, 7, 1, 5, 3, 4, 6, 2, 4, 6, 2, 3, 3, 6, 4, 1, 7, 5, 1, 2, Bins used: 7\n",
      "\n"
     ]
    },
    {
     "name": "stdout",
     "output_type": "stream",
     "text": [
      "initial solution 5 7 1 5 3 4 6 2 4 6 2 3 3 6 4 1 7 5 1 2 \n"
     ]
    },
    {
     "name": "stderr",
     "output_type": "stream",
     "text": [
      "Finished run 4 for instance with bin capacity 100 and 20 items. Solution: 5, 7, 1, 5, 3, 4, 6, 2, 4, 6, 2, 3, 3, 6, 4, 1, 7, 5, 1, 2, Bins used: 7\n",
      "\n"
     ]
    },
    {
     "name": "stdout",
     "output_type": "stream",
     "text": [
      "initial solution 5 7 1 5 3 4 6 2 4 6 2 3 3 6 4 1 7 5 1 2 \n"
     ]
    },
    {
     "name": "stderr",
     "output_type": "stream",
     "text": [
      "Finished run 5 for instance with bin capacity 100 and 20 items. Solution: 5, 7, 1, 5, 3, 4, 6, 2, 4, 6, 2, 3, 3, 6, 4, 1, 7, 5, 1, 2, Bins used: 7\n",
      "\n"
     ]
    },
    {
     "name": "stdout",
     "output_type": "stream",
     "text": [
      "initial solution 5 7 1 5 3 4 6 2 4 6 2 3 3 6 4 1 7 5 1 2 \n"
     ]
    },
    {
     "name": "stderr",
     "output_type": "stream",
     "text": [
      "Finished run 6 for instance with bin capacity 100 and 20 items. Solution: 5, 7, 1, 5, 3, 4, 6, 2, 4, 6, 2, 3, 3, 6, 4, 1, 7, 5, 1, 2, Bins used: 7\n",
      "\n"
     ]
    },
    {
     "name": "stdout",
     "output_type": "stream",
     "text": [
      "initial solution 5 7 1 5 3 4 6 2 4 6 2 3 3 6 4 1 7 5 1 2 \n"
     ]
    },
    {
     "name": "stderr",
     "output_type": "stream",
     "text": [
      "Finished run 7 for instance with bin capacity 100 and 20 items. Solution: 5, 7, 1, 5, 3, 4, 6, 2, 4, 6, 2, 3, 3, 6, 4, 1, 7, 5, 1, 2, Bins used: 7\n",
      "\n"
     ]
    },
    {
     "name": "stdout",
     "output_type": "stream",
     "text": [
      "initial solution 5 7 1 5 3 4 6 2 4 6 2 3 3 6 4 1 7 5 1 2 \n"
     ]
    },
    {
     "name": "stderr",
     "output_type": "stream",
     "text": [
      "Finished run 8 for instance with bin capacity 100 and 20 items. Solution: 5, 7, 1, 5, 3, 4, 6, 2, 4, 6, 2, 3, 3, 6, 4, 1, 7, 5, 1, 2, Bins used: 7\n",
      "\n"
     ]
    },
    {
     "name": "stdout",
     "output_type": "stream",
     "text": [
      "initial solution 5 7 1 5 3 4 6 2 4 6 2 3 3 6 4 1 7 5 1 2 \n"
     ]
    },
    {
     "name": "stderr",
     "output_type": "stream",
     "text": [
      "Finished run 9 for instance with bin capacity 100 and 20 items. Solution: 5, 7, 1, 5, 3, 4, 6, 2, 4, 6, 2, 3, 3, 6, 4, 1, 7, 5, 1, 2, Bins used: 7\n",
      "\n"
     ]
    },
    {
     "name": "stdout",
     "output_type": "stream",
     "text": [
      "initial solution 5 7 1 5 3 4 6 2 4 6 2 3 3 6 4 1 7 5 1 2 \n"
     ]
    },
    {
     "name": "stderr",
     "output_type": "stream",
     "text": [
      "Finished run 10 for instance with bin capacity 100 and 20 items. Solution: 5, 7, 1, 5, 3, 4, 6, 2, 4, 6, 2, 3, 3, 6, 4, 1, 7, 5, 1, 2, Bins used: 7\n",
      "\n"
     ]
    },
    {
     "name": "stdout",
     "output_type": "stream",
     "text": [
      "initial solution 5 7 1 5 3 4 6 2 4 6 2 3 3 6 4 1 7 5 1 2 \n"
     ]
    },
    {
     "name": "stderr",
     "output_type": "stream",
     "text": [
      "Finished run 11 for instance with bin capacity 100 and 20 items. Solution: 5, 7, 1, 5, 3, 4, 6, 2, 4, 6, 2, 3, 3, 6, 4, 1, 7, 5, 1, 2, Bins used: 7\n",
      "\n",
      "Finished running VNS for instance with bin capacity 100 and 20 items.\n",
      "\n"
     ]
    }
   ],
   "source": [
    "file_paths <- c(\n",
    "  \"./instances/instances1.txt\"\n",
    ")\n",
    "\n",
    "all_results <- list()\n",
    "\n",
    "for (file_path in file_paths) { \n",
    "  instances <- read_bin_packing_instance(file_path)\n",
    "  \n",
    "  instance_results <- run_vns_multiple_times(instances[[1]], 11, 1000, 10)\n",
    "  all_results[[paste(file_path, 1, sep = \"_\")]] <- instance_results\n",
    "}"
   ]
  },
  {
   "cell_type": "code",
   "execution_count": null,
   "metadata": {
    "vscode": {
     "languageId": "r"
    }
   },
   "outputs": [],
   "source": [
    "all_summaries <- lapply(all_results, analyze_results)\n",
    "\n",
    "# Mostrar los resultados\n",
    "for (i in 1:length(all_summaries)) {\n",
    "  cat(\"Resultados para la instancia\", i, \":\\n\")\n",
    "  print(all_summaries[[i]])\n",
    "}"
   ]
  },
  {
   "cell_type": "code",
   "execution_count": 22,
   "metadata": {
    "vscode": {
     "languageId": "r"
    }
   },
   "outputs": [
    {
     "name": "stdout",
     "output_type": "stream",
     "text": [
      "initial solution 1 1 1 1 2 2 2 2 2 \n"
     ]
    },
    {
     "name": "stderr",
     "output_type": "stream",
     "text": [
      "Finished run 1 for instance with bin capacity 100 and 9 items. Solution: 1, 1, 1, 1, 2, 2, 2, 2, 2, Bins used: 3\n",
      "\n"
     ]
    },
    {
     "name": "stdout",
     "output_type": "stream",
     "text": [
      "initial solution 1 1 1 1 2 2 2 2 2 \n"
     ]
    },
    {
     "name": "stderr",
     "output_type": "stream",
     "text": [
      "Finished run 2 for instance with bin capacity 100 and 9 items. Solution: 1, 1, 1, 1, 2, 2, 2, 2, 2, Bins used: 3\n",
      "\n"
     ]
    },
    {
     "name": "stdout",
     "output_type": "stream",
     "text": [
      "initial solution 1 1 1 1 2 2 2 2 2 \n"
     ]
    },
    {
     "name": "stderr",
     "output_type": "stream",
     "text": [
      "Finished run 3 for instance with bin capacity 100 and 9 items. Solution: 1, 1, 1, 1, 2, 2, 2, 2, 2, Bins used: 3\n",
      "\n"
     ]
    },
    {
     "name": "stdout",
     "output_type": "stream",
     "text": [
      "initial solution 1 1 1 1 2 2 2 2 2 \n"
     ]
    },
    {
     "name": "stderr",
     "output_type": "stream",
     "text": [
      "Finished run 4 for instance with bin capacity 100 and 9 items. Solution: 1, 1, 1, 1, 2, 2, 2, 2, 2, Bins used: 3\n",
      "\n"
     ]
    },
    {
     "name": "stdout",
     "output_type": "stream",
     "text": [
      "initial solution 1 1 1 1 2 2 2 2 2 \n"
     ]
    },
    {
     "name": "stderr",
     "output_type": "stream",
     "text": [
      "Finished run 5 for instance with bin capacity 100 and 9 items. Solution: 1, 1, 1, 1, 2, 2, 2, 2, 2, Bins used: 3\n",
      "\n"
     ]
    },
    {
     "name": "stdout",
     "output_type": "stream",
     "text": [
      "initial solution 1 1 1 1 2 2 2 2 2 \n"
     ]
    },
    {
     "name": "stderr",
     "output_type": "stream",
     "text": [
      "Finished run 6 for instance with bin capacity 100 and 9 items. Solution: 1, 1, 1, 1, 2, 2, 2, 2, 2, Bins used: 3\n",
      "\n"
     ]
    },
    {
     "name": "stdout",
     "output_type": "stream",
     "text": [
      "initial solution 1 1 1 1 2 2 2 2 2 \n"
     ]
    },
    {
     "name": "stderr",
     "output_type": "stream",
     "text": [
      "Finished run 7 for instance with bin capacity 100 and 9 items. Solution: 1, 1, 1, 1, 2, 2, 2, 2, 2, Bins used: 3\n",
      "\n"
     ]
    },
    {
     "name": "stdout",
     "output_type": "stream",
     "text": [
      "initial solution 1 1 1 1 2 2 2 2 2 \n"
     ]
    },
    {
     "name": "stderr",
     "output_type": "stream",
     "text": [
      "Finished run 8 for instance with bin capacity 100 and 9 items. Solution: 1, 1, 1, 1, 2, 2, 2, 2, 2, Bins used: 3\n",
      "\n"
     ]
    },
    {
     "name": "stdout",
     "output_type": "stream",
     "text": [
      "initial solution 1 1 1 1 2 2 2 2 2 \n"
     ]
    },
    {
     "name": "stderr",
     "output_type": "stream",
     "text": [
      "Finished run 9 for instance with bin capacity 100 and 9 items. Solution: 1, 1, 1, 1, 2, 2, 2, 2, 2, Bins used: 3\n",
      "\n"
     ]
    },
    {
     "name": "stdout",
     "output_type": "stream",
     "text": [
      "initial solution 1 1 1 1 2 2 2 2 2 \n"
     ]
    },
    {
     "name": "stderr",
     "output_type": "stream",
     "text": [
      "Finished run 10 for instance with bin capacity 100 and 9 items. Solution: 1, 1, 1, 1, 2, 2, 2, 2, 2, Bins used: 3\n",
      "\n"
     ]
    },
    {
     "name": "stdout",
     "output_type": "stream",
     "text": [
      "initial solution 1 1 1 1 2 2 2 2 2 \n"
     ]
    },
    {
     "name": "stderr",
     "output_type": "stream",
     "text": [
      "Finished run 11 for instance with bin capacity 100 and 9 items. Solution: 1, 1, 1, 1, 2, 2, 2, 2, 2, Bins used: 3\n",
      "\n",
      "Finished running VNS for instance with bin capacity 100 and 9 items.\n",
      "\n"
     ]
    },
    {
     "name": "stdout",
     "output_type": "stream",
     "text": [
      "Resultados para la instancia 1 :\n",
      "$num_bins\n",
      "$num_bins$mean\n",
      "[1] 3\n",
      "\n",
      "$num_bins$sd\n",
      "[1] 0\n",
      "\n",
      "$num_bins$min\n",
      "[1] 3\n",
      "\n",
      "$num_bins$max\n",
      "[1] 3\n",
      "\n",
      "\n",
      "$execution_time\n",
      "$execution_time$mean\n",
      "[1] 310.5181\n",
      "\n",
      "$execution_time$sd\n",
      "[1] 14.77132\n",
      "\n",
      "$execution_time$min\n",
      "[1] 291.301\n",
      "\n",
      "$execution_time$max\n",
      "[1] 343.275\n",
      "\n",
      "\n"
     ]
    }
   ],
   "source": [
    "file_paths <- c(\n",
    "  \"./instances/triplets.txt\"\n",
    ")\n",
    "\n",
    "all_results_tri <- list()\n",
    "\n",
    "for (file_path in file_paths) { \n",
    "  instances <- read_bin_packing_instance(file_path)\n",
    "  \n",
    "  instance_results <- run_vns_multiple_times(instances[[1]], 11, 1000, 10)\n",
    "  all_results_tri[[paste(file_path, 1, sep = \"_\")]] <- instance_results\n",
    "}\n",
    "\n",
    "all_summaries <- lapply(all_results_tri, analyze_results)\n",
    "\n",
    "# Mostrar los resultados\n",
    "for (i in 1:length(all_summaries)) {\n",
    "  cat(\"Resultados para la instancia\", i, \":\\n\")\n",
    "  print(all_summaries[[i]])\n",
    "}\n",
    "\n",
    "beepr::beep()"
   ]
  },
  {
   "cell_type": "code",
   "execution_count": 15,
   "metadata": {
    "vscode": {
     "languageId": "r"
    }
   },
   "outputs": [
    {
     "name": "stdout",
     "output_type": "stream",
     "text": [
      "initial solution 6 4 4 2 7 9 9 8 8 9 1 6 7 5 9 1 2 1 6 10 5 3 5 3 3 4 2 8 8 7 \n"
     ]
    },
    {
     "name": "stderr",
     "output_type": "stream",
     "text": [
      "Finished run 1 for instance with bin capacity 100 and 30 items. Solution: 6, 4, 4, 2, 7, 9, 9, 8, 8, 9, 1, 6, 7, 5, 9, 1, 2, 1, 6, 10, 5, 3, 5, 3, 3, 4, 2, 8, 8, 7, Bins used: 10\n",
      "\n"
     ]
    },
    {
     "name": "stdout",
     "output_type": "stream",
     "text": [
      "initial solution 6 4 4 2 7 9 9 8 8 9 1 6 7 5 9 1 2 1 6 10 5 3 5 3 3 4 2 8 8 7 \n"
     ]
    },
    {
     "name": "stderr",
     "output_type": "stream",
     "text": [
      "Finished run 2 for instance with bin capacity 100 and 30 items. Solution: 6, 4, 4, 2, 7, 9, 9, 8, 8, 9, 1, 6, 7, 5, 9, 1, 2, 1, 6, 10, 5, 3, 5, 3, 3, 4, 2, 8, 8, 7, Bins used: 10\n",
      "\n"
     ]
    },
    {
     "name": "stdout",
     "output_type": "stream",
     "text": [
      "initial solution 6 4 4 2 7 9 9 8 8 9 1 6 7 5 9 1 2 1 6 10 5 3 5 3 3 4 2 8 8 7 \n"
     ]
    },
    {
     "name": "stderr",
     "output_type": "stream",
     "text": [
      "Finished run 3 for instance with bin capacity 100 and 30 items. Solution: 6, 4, 4, 2, 7, 9, 9, 8, 8, 9, 1, 6, 7, 5, 9, 1, 2, 1, 6, 10, 5, 3, 5, 3, 3, 4, 2, 8, 8, 7, Bins used: 10\n",
      "\n"
     ]
    },
    {
     "name": "stdout",
     "output_type": "stream",
     "text": [
      "initial solution 6 4 4 2 7 9 9 8 8 9 1 6 7 5 9 1 2 1 6 10 5 3 5 3 3 4 2 8 8 7 \n"
     ]
    },
    {
     "name": "stderr",
     "output_type": "stream",
     "text": [
      "Finished run 4 for instance with bin capacity 100 and 30 items. Solution: 6, 4, 4, 2, 7, 9, 9, 8, 8, 9, 1, 6, 7, 5, 9, 1, 2, 1, 6, 10, 5, 3, 5, 3, 3, 4, 2, 8, 8, 7, Bins used: 10\n",
      "\n"
     ]
    },
    {
     "name": "stdout",
     "output_type": "stream",
     "text": [
      "initial solution 6 4 4 2 7 9 9 8 8 9 1 6 7 5 9 1 2 1 6 10 5 3 5 3 3 4 2 8 8 7 \n"
     ]
    },
    {
     "name": "stderr",
     "output_type": "stream",
     "text": [
      "Finished run 5 for instance with bin capacity 100 and 30 items. Solution: 6, 4, 4, 2, 7, 9, 9, 8, 8, 9, 1, 6, 7, 5, 9, 1, 2, 1, 6, 10, 5, 3, 5, 3, 3, 4, 2, 8, 8, 7, Bins used: 10\n",
      "\n"
     ]
    },
    {
     "name": "stdout",
     "output_type": "stream",
     "text": [
      "initial solution 6 4 4 2 7 9 9 8 8 9 1 6 7 5 9 1 2 1 6 10 5 3 5 3 3 4 2 8 8 7 \n"
     ]
    },
    {
     "name": "stderr",
     "output_type": "stream",
     "text": [
      "Finished run 6 for instance with bin capacity 100 and 30 items. Solution: 6, 4, 4, 2, 7, 9, 9, 8, 8, 9, 1, 6, 7, 5, 9, 1, 2, 1, 6, 10, 5, 3, 5, 3, 3, 4, 2, 8, 8, 7, Bins used: 10\n",
      "\n"
     ]
    },
    {
     "name": "stdout",
     "output_type": "stream",
     "text": [
      "initial solution 6 4 4 2 7 9 9 8 8 9 1 6 7 5 9 1 2 1 6 10 5 3 5 3 3 4 2 8 8 7 \n"
     ]
    },
    {
     "name": "stderr",
     "output_type": "stream",
     "text": [
      "Finished run 7 for instance with bin capacity 100 and 30 items. Solution: 6, 4, 4, 2, 7, 9, 9, 8, 8, 9, 1, 6, 7, 5, 9, 1, 2, 1, 6, 10, 5, 3, 5, 3, 3, 4, 2, 8, 8, 7, Bins used: 10\n",
      "\n"
     ]
    },
    {
     "name": "stdout",
     "output_type": "stream",
     "text": [
      "initial solution 6 4 4 2 7 9 9 8 8 9 1 6 7 5 9 1 2 1 6 10 5 3 5 3 3 4 2 8 8 7 \n"
     ]
    },
    {
     "name": "stderr",
     "output_type": "stream",
     "text": [
      "Finished run 8 for instance with bin capacity 100 and 30 items. Solution: 6, 4, 4, 2, 7, 9, 9, 8, 8, 9, 1, 6, 7, 5, 9, 1, 2, 1, 6, 10, 5, 3, 5, 3, 3, 4, 2, 8, 8, 7, Bins used: 10\n",
      "\n"
     ]
    },
    {
     "name": "stdout",
     "output_type": "stream",
     "text": [
      "initial solution 6 4 4 2 7 9 9 8 8 9 1 6 7 5 9 1 2 1 6 10 5 3 5 3 3 4 2 8 8 7 \n"
     ]
    },
    {
     "name": "stderr",
     "output_type": "stream",
     "text": [
      "Finished run 9 for instance with bin capacity 100 and 30 items. Solution: 6, 4, 4, 2, 7, 9, 9, 8, 8, 9, 1, 6, 7, 5, 9, 1, 2, 1, 6, 10, 5, 3, 5, 3, 3, 4, 2, 8, 8, 7, Bins used: 10\n",
      "\n"
     ]
    },
    {
     "name": "stdout",
     "output_type": "stream",
     "text": [
      "initial solution 6 4 4 2 7 9 9 8 8 9 1 6 7 5 9 1 2 1 6 10 5 3 5 3 3 4 2 8 8 7 \n"
     ]
    },
    {
     "name": "stderr",
     "output_type": "stream",
     "text": [
      "Finished run 10 for instance with bin capacity 100 and 30 items. Solution: 6, 4, 4, 2, 7, 9, 9, 8, 8, 9, 1, 6, 7, 5, 9, 1, 2, 1, 6, 10, 5, 3, 5, 3, 3, 4, 2, 8, 8, 7, Bins used: 10\n",
      "\n"
     ]
    },
    {
     "name": "stdout",
     "output_type": "stream",
     "text": [
      "initial solution 6 4 4 2 7 9 9 8 8 9 1 6 7 5 9 1 2 1 6 10 5 3 5 3 3 4 2 8 8 7 \n"
     ]
    },
    {
     "name": "stderr",
     "output_type": "stream",
     "text": [
      "Finished run 11 for instance with bin capacity 100 and 30 items. Solution: 6, 4, 4, 2, 7, 9, 9, 8, 8, 9, 1, 6, 7, 5, 9, 1, 2, 1, 6, 10, 5, 3, 5, 3, 3, 4, 2, 8, 8, 7, Bins used: 10\n",
      "\n",
      "Finished running VNS for instance with bin capacity 100 and 30 items.\n",
      "\n"
     ]
    }
   ],
   "source": [
    "all_results_ins2 <- list()\n",
    "\n",
    "instances <- read_bin_packing_instance(\"./instances/instances2.txt\")\n",
    "\n",
    "instance_results <- run_vns_multiple_times(instances[[1]], 11, 1000, 10)\n",
    "all_results_ins2[[paste(file_path, 1, sep = \"_\")]] <- instance_results\n",
    "\n",
    "beepr::beep() "
   ]
  },
  {
   "cell_type": "code",
   "execution_count": 20,
   "metadata": {
    "vscode": {
     "languageId": "r"
    }
   },
   "outputs": [
    {
     "name": "stdout",
     "output_type": "stream",
     "text": [
      "Resultados para la instancia 1 :\n",
      "$num_bins\n",
      "$num_bins$mean\n",
      "[1] 10\n",
      "\n",
      "$num_bins$sd\n",
      "[1] 0\n",
      "\n",
      "$num_bins$min\n",
      "[1] 10\n",
      "\n",
      "$num_bins$max\n",
      "[1] 10\n",
      "\n",
      "\n",
      "$execution_time\n",
      "$execution_time$mean\n",
      "[1] 409.6955\n",
      "\n",
      "$execution_time$sd\n",
      "[1] 22.68037\n",
      "\n",
      "$execution_time$min\n",
      "[1] 370.303\n",
      "\n",
      "$execution_time$max\n",
      "[1] 454.417\n",
      "\n",
      "\n"
     ]
    }
   ],
   "source": [
    "all_summaries <- lapply(all_results_ins2, analyze_results)\n",
    "\n",
    "# Mostrar los resultados\n",
    "for (i in 1:length(all_summaries)) {\n",
    "  cat(\"Resultados para la instancia\", i, \":\\n\")\n",
    "  print(all_summaries[[i]])\n",
    "}"
   ]
  }
 ],
 "metadata": {
  "kernelspec": {
   "display_name": "R",
   "language": "R",
   "name": "ir"
  },
  "language_info": {
   "codemirror_mode": "r",
   "file_extension": ".r",
   "mimetype": "text/x-r-source",
   "name": "R",
   "pygments_lexer": "r",
   "version": "4.4.0"
  }
 },
 "nbformat": 4,
 "nbformat_minor": 2
}
