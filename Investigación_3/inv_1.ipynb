{
 "cells": [
  {
   "cell_type": "code",
   "execution_count": 7,
   "metadata": {
    "vscode": {
     "languageId": "r"
    }
   },
   "outputs": [],
   "source": [
    "shaking <- function(solution, k) {\n",
    "  n <- length(solution)\n",
    "  for (i in 1:k) {\n",
    "    idx <- sample(1:n, 2)\n",
    "    solution[idx] <- solution[rev(idx)]\n",
    "  }\n",
    "  return(solution)\n",
    "}\n"
   ]
  },
  {
   "cell_type": "code",
   "execution_count": 6,
   "metadata": {
    "vscode": {
     "languageId": "r"
    }
   },
   "outputs": [],
   "source": [
    "local_search <- function(bins, bin_capacity, binpacking_instance) {\n",
    "  current_solution <- bins\n",
    "  best_solution <- current_solution\n",
    "  best_cost <- binpacking_instance$evaluate(current_solution)\n",
    "  improved <- TRUE\n",
    "  \n",
    "  while (improved) {\n",
    "    improved <- FALSE\n",
    "    for (i in 1:(length(current_solution) - 1)) {\n",
    "      for (j in (i + 1):length(current_solution)) {\n",
    "        new_solution <- current_solution\n",
    "        new_solution[c(i, j)] <- new_solution[c(j, i)]\n",
    "        new_cost <- binpacking_instance$evaluate(new_solution)\n",
    "        if (new_cost < best_cost) {\n",
    "          best_solution <- new_solution\n",
    "          best_cost <- new_cost\n",
    "          improved <- TRUE\n",
    "        }\n",
    "      }\n",
    "    }\n",
    "    if (improved) {\n",
    "      current_solution <- best_solution\n",
    "    }\n",
    "  }\n",
    "  \n",
    "  return(best_solution)\n",
    "}"
   ]
  },
  {
   "cell_type": "code",
   "execution_count": 14,
   "metadata": {
    "vscode": {
     "languageId": "r"
    }
   },
   "outputs": [],
   "source": [
    "bfd <- function(item_sizes, bin_capacity) {\n",
    "  sorted_items <- sort(item_sizes, decreasing = TRUE)  # Ordenar los ítems en orden decreciente\n",
    "  bins <- list()\n",
    "  \n",
    "  for (item in sorted_items) {\n",
    "    placed <- FALSE\n",
    "    for (bin in bins) {\n",
    "      if (sum(unlist(bin)) + item <= bin_capacity) {\n",
    "        bin[[length(bin) + 1]] <- item\n",
    "        placed <- TRUE\n",
    "        break\n",
    "      }\n",
    "    }\n",
    "    if (!placed) {\n",
    "      bins[[length(bins) + 1]] <- list(item)\n",
    "    }\n",
    "  }\n",
    "  \n",
    "  return(bins)\n",
    "}\n"
   ]
  },
  {
   "cell_type": "code",
   "execution_count": 15,
   "metadata": {
    "vscode": {
     "languageId": "r"
    }
   },
   "outputs": [],
   "source": [
    "BinPacking <- setRefClass(\n",
    "  \"BinPacking\",\n",
    "  fields = list(\n",
    "    item_sizes = \"numeric\",\n",
    "    bin_capacity = \"numeric\"\n",
    "  ),\n",
    "  methods = list(\n",
    "    evaluate = function(permutation) {\n",
    "      bin_capacities <- numeric() \n",
    "      current_bin_capacity <- 0  \n",
    "\n",
    "      for (i in permutation) {\n",
    "        item_size <- item_sizes[i]\n",
    "        if (current_bin_capacity + item_size <= bin_capacity) {\n",
    "          current_bin_capacity <- current_bin_capacity + item_size\n",
    "        } else {\n",
    "          bin_capacities <- c(bin_capacities, current_bin_capacity) \n",
    "          current_bin_capacity <- item_size  \n",
    "        }\n",
    "      }\n",
    "      bin_capacities <- c(bin_capacities, current_bin_capacity)  \n",
    "      return(length(bin_capacities)) \n",
    "    },\n",
    "    bfd = function() {\n",
    "      sorted_items <- sort(item_sizes, decreasing = TRUE)  # Ordenar los ítems en orden decreciente\n",
    "      bins <- list()  # Lista para almacenar los contenedores\n",
    "      \n",
    "      for (item in sorted_items) {\n",
    "        placed <- FALSE\n",
    "        # Intentar colocar el ítem en uno de los contenedores existentes\n",
    "        for (bin in bins) {\n",
    "          if (sum(unlist(bin)) + item <= bin_capacity) {\n",
    "            bin[[length(bin) + 1]] <- item\n",
    "            placed <- TRUE\n",
    "            break\n",
    "          }\n",
    "        }\n",
    "        # Si no se puede colocar el ítem en ningún contenedor existente, abrir uno nuevo\n",
    "        if (!placed) {\n",
    "          bins[[length(bins) + 1]] <- list(item)\n",
    "        }\n",
    "      }\n",
    "      \n",
    "      return(bins)\n",
    "    }\n",
    "  )\n",
    ")\n"
   ]
  },
  {
   "cell_type": "code",
   "execution_count": 2,
   "metadata": {
    "vscode": {
     "languageId": "r"
    }
   },
   "outputs": [],
   "source": [
    "read_bin_packing_instance <- function(filename) {\n",
    "  lines <- readLines(filename)\n",
    "  P <- as.integer(lines[1])  # Número de instancias de problemas\n",
    "  problems <- list()\n",
    "  index <- 2\n",
    "  for (i in 1:P) {\n",
    "    problem_id <- trimws(lines[index])\n",
    "    index <- index + 1\n",
    "    bin_info <- strsplit(trimws(lines[index]), \"\\\\s+\")[[1]]\n",
    "    bin_capacity <- as.numeric(bin_info[1])\n",
    "    num_items <- as.integer(bin_info[2])\n",
    "    best_known_solution <- as.integer(bin_info[3])\n",
    "    index <- index + 1\n",
    "    items <- numeric(num_items)\n",
    "    for (j in 1:num_items) {\n",
    "      items[j] <- as.numeric(trimws(lines[index]))\n",
    "      index <- index + 1\n",
    "    }\n",
    "    problems[[i]] <- list(\n",
    "      problem_id = problem_id,\n",
    "      bin_capacity = bin_capacity,\n",
    "      num_items = num_items,\n",
    "      best_known_solution = best_known_solution,\n",
    "      items = items\n",
    "    )\n",
    "  }\n",
    "  return(problems)\n",
    "}"
   ]
  },
  {
   "cell_type": "code",
   "execution_count": 9,
   "metadata": {
    "vscode": {
     "languageId": "r"
    }
   },
   "outputs": [],
   "source": [
    "vns <- function(binpacking_instance, max_iter = 100, max_no_improve = 10) {\n",
    "  initial_solution <- sample(1:length(binpacking_instance$item_sizes))\n",
    "  best_solution <- initial_solution\n",
    "  best_cost <- binpacking_instance$evaluate(best_solution)\n",
    "  no_improve <- 0\n",
    "  \n",
    "  for (iter in 1:max_iter) {\n",
    "    k <- 1\n",
    "    while (k <= max_no_improve) {\n",
    "      new_solution <- shaking(best_solution, k)\n",
    "      new_solution <- local_search(new_solution, binpacking_instance$bin_capacity, binpacking_instance)\n",
    "      new_cost <- binpacking_instance$evaluate(new_solution)\n",
    "      \n",
    "      if (new_cost < best_cost) {\n",
    "        best_solution <- new_solution\n",
    "        best_cost <- new_cost\n",
    "        no_improve <- 0\n",
    "        k <- 1\n",
    "      } else {\n",
    "        k <- k + 1\n",
    "        no_improve <- no_improve + 1\n",
    "      }\n",
    "      \n",
    "      if (no_improve >= max_no_improve) break\n",
    "    }\n",
    "  }\n",
    "  \n",
    "  return(best_solution)\n",
    "}"
   ]
  },
  {
   "cell_type": "code",
   "execution_count": 16,
   "metadata": {
    "vscode": {
     "languageId": "r"
    }
   },
   "outputs": [
    {
     "name": "stderr",
     "output_type": "stream",
     "text": [
      "Warning message in readLines(filename):\n",
      "\"incomplete final line found on './instances/binpack1.txt'\"\n"
     ]
    }
   ],
   "source": [
    "file_path <- \"./instances/binpack1.txt\"\n",
    "instances <- read_bin_packing_instance(file_path)"
   ]
  },
  {
   "cell_type": "code",
   "execution_count": 20,
   "metadata": {
    "vscode": {
     "languageId": "r"
    }
   },
   "outputs": [
    {
     "name": "stdout",
     "output_type": "stream",
     "text": [
      "  [1] 103 118  39  18  99 105  33  12  16  10 106  29  51  30 101  40  46  15\n",
      " [19]  43  79  25 102  57  81  91  22  89  49  72  74  90  48  69 113 116   1\n",
      " [37]  21   9  84  97  27  23   7  87   2   4  11  93 108  41  75 100  62  24\n",
      " [55]  14  95  73  88  92  47  34  36  31 110  96  19  50  26   8  80  32  13\n",
      " [73]  38 112  76 115  61  77  56   5 104 109 107  63  66  52  94  53  85  54\n",
      " [91]  64  65  20  70  55   3 119 120  78  42  83  45  17   6  71  28  37  35\n",
      "[109]  60  67  86  44 114 117  98  68  59  58  82 111\n",
      "[1] \"Number of bins: 51\"\n"
     ]
    }
   ],
   "source": [
    "instance <- instances[[2]]  # Seleccionar la primera instancia para este ejemplo\n",
    "binpacking_instance <- BinPacking$new(item_sizes = instance$items, bin_capacity = instance$bin_capacity)\n",
    "best_solution <- vns(binpacking_instance, 100, 20)\n",
    "print(best_solution)  \n",
    "print(paste(\"Number of bins:\", binpacking_instance$evaluate(best_solution)))\n",
    "beepr::beep()"
   ]
  }
 ],
 "metadata": {
  "kernelspec": {
   "display_name": "R",
   "language": "R",
   "name": "ir"
  },
  "language_info": {
   "codemirror_mode": "r",
   "file_extension": ".r",
   "mimetype": "text/x-r-source",
   "name": "R",
   "pygments_lexer": "r",
   "version": "4.4.0"
  }
 },
 "nbformat": 4,
 "nbformat_minor": 2
}
