{
 "cells": [
  {
   "cell_type": "code",
   "execution_count": 1,
   "metadata": {},
   "outputs": [
    {
     "name": "stderr",
     "output_type": "stream",
     "text": [
      "\u001b[33m\u001b[1m┌ \u001b[22m\u001b[39m\u001b[33m\u001b[1mWarning: \u001b[22m\u001b[39mattempting to remove probably stale pidfile\n",
      "\u001b[33m\u001b[1m│ \u001b[22m\u001b[39m  path = \"/Users/antoarriagada/.julia/registries/.pid\"\n",
      "\u001b[33m\u001b[1m└ \u001b[22m\u001b[39m\u001b[90m@ FileWatching.Pidfile ~/.julia/juliaup/julia-1.10.2+0.x64.apple.darwin14/share/julia/stdlib/v1.10/FileWatching/src/pidfile.jl:273\u001b[39m\n",
      "\u001b[32m\u001b[1m    Updating\u001b[22m\u001b[39m registry at `~/.julia/registries/General.toml`\n",
      "\u001b[32m\u001b[1m   Resolving\u001b[22m\u001b[39m package versions...\n",
      "\u001b[32m\u001b[1m   Installed\u001b[22m\u001b[39m Clp_jll ──────── v100.1700.700+1\n",
      "\u001b[32m\u001b[1m   Installed\u001b[22m\u001b[39m OpenBLAS32_jll ─ v0.3.24+0\n",
      "\u001b[32m\u001b[1m   Installed\u001b[22m\u001b[39m Cgl_jll ──────── v0.6000.600+0\n",
      "\u001b[32m\u001b[1m   Installed\u001b[22m\u001b[39m Cbc_jll ──────── v200.1000.800+0\n",
      "\u001b[32m\u001b[1m   Installed\u001b[22m\u001b[39m CoinUtils_jll ── v200.1100.600+0\n",
      "\u001b[32m\u001b[1m   Installed\u001b[22m\u001b[39m Osi_jll ──────── v0.10800.700+0\n",
      "\u001b[32m\u001b[1m   Installed\u001b[22m\u001b[39m Cbc ──────────── v1.2.0\n",
      "\u001b[32m\u001b[1m   Installed\u001b[22m\u001b[39m ASL_jll ──────── v0.1.3+0\n",
      "\u001b[32m\u001b[1m   Installed\u001b[22m\u001b[39m METIS_jll ────── v5.1.2+0\n",
      "\u001b[32m\u001b[1m   Installed\u001b[22m\u001b[39m MUMPS_seq_jll ── v500.600.201+0\n",
      "\u001b[32m\u001b[1m    Updating\u001b[22m\u001b[39m `~/.julia/environments/v1.10/Project.toml`\n",
      "  \u001b[90m[9961bab8] \u001b[39m\u001b[92m+ Cbc v1.2.0\u001b[39m\n",
      "\u001b[32m\u001b[1m    Updating\u001b[22m\u001b[39m `~/.julia/environments/v1.10/Manifest.toml`\n",
      "  \u001b[90m[9961bab8] \u001b[39m\u001b[92m+ Cbc v1.2.0\u001b[39m\n",
      "  \u001b[90m[ae81ac8f] \u001b[39m\u001b[92m+ ASL_jll v0.1.3+0\u001b[39m\n",
      "  \u001b[90m[38041ee0] \u001b[39m\u001b[92m+ Cbc_jll v200.1000.800+0\u001b[39m\n",
      "  \u001b[90m[3830e938] \u001b[39m\u001b[92m+ Cgl_jll v0.6000.600+0\u001b[39m\n",
      "  \u001b[90m[06985876] \u001b[39m\u001b[92m+ Clp_jll v100.1700.700+1\u001b[39m\n",
      "  \u001b[90m[be027038] \u001b[39m\u001b[92m+ CoinUtils_jll v200.1100.600+0\u001b[39m\n",
      "  \u001b[90m[d00139f3] \u001b[39m\u001b[92m+ METIS_jll v5.1.2+0\u001b[39m\n",
      "  \u001b[90m[d7ed1dd3] \u001b[39m\u001b[92m+ MUMPS_seq_jll v500.600.201+0\u001b[39m\n",
      "\u001b[33m⌅\u001b[39m \u001b[90m[656ef2d0] \u001b[39m\u001b[92m+ OpenBLAS32_jll v0.3.24+0\u001b[39m\n",
      "  \u001b[90m[7da25872] \u001b[39m\u001b[92m+ Osi_jll v0.10800.700+0\u001b[39m\n",
      "\u001b[36m\u001b[1m        Info\u001b[22m\u001b[39m Packages marked with \u001b[33m⌅\u001b[39m have new versions available but compatibility constraints restrict them from upgrading. To see why use `status --outdated -m`\n",
      "\u001b[32m\u001b[1mPrecompiling\u001b[22m\u001b[39m project...\n",
      "\u001b[32m  ✓ \u001b[39m\u001b[90mASL_jll\u001b[39m\n",
      "\u001b[32m  ✓ \u001b[39m\u001b[90mOpenBLAS32_jll\u001b[39m\n",
      "\u001b[32m  ✓ \u001b[39m\u001b[90mMETIS_jll\u001b[39m\n",
      "\u001b[32m  ✓ \u001b[39m\u001b[90mCoinUtils_jll\u001b[39m\n",
      "\u001b[32m  ✓ \u001b[39m\u001b[90mMUMPS_seq_jll\u001b[39m\n",
      "\u001b[32m  ✓ \u001b[39m\u001b[90mOsi_jll\u001b[39m\n",
      "\u001b[32m  ✓ \u001b[39m\u001b[90mClp_jll\u001b[39m\n",
      "\u001b[32m  ✓ \u001b[39m\u001b[90mCgl_jll\u001b[39m\n",
      "\u001b[32m  ✓ \u001b[39m\u001b[90mCbc_jll\u001b[39m\n",
      "\u001b[32m  ✓ \u001b[39mCbc\n",
      "  10 dependencies successfully precompiled in 8 seconds. 48 already precompiled. 1 skipped during auto due to previous errors.\n"
     ]
    }
   ],
   "source": [
    "# Instalar si no se tiene el paquete, de lo contrario comentar\n",
    "import Pkg; Pkg.add(\"Cbc\")"
   ]
  },
  {
   "cell_type": "code",
   "execution_count": 1,
   "metadata": {},
   "outputs": [],
   "source": [
    "using JuMP\n",
    "using GLPK \n",
    "using Cbc"
   ]
  },
  {
   "cell_type": "code",
   "execution_count": 2,
   "metadata": {},
   "outputs": [
    {
     "data": {
      "text/plain": [
       "read_bin_packing_instance (generic function with 1 method)"
      ]
     },
     "execution_count": 2,
     "metadata": {},
     "output_type": "execute_result"
    }
   ],
   "source": [
    "# Función que permite leer las instancias de bin packing desde un archivo\n",
    "function read_bin_packing_instance(filename)\n",
    "    problems = []\n",
    "    open(filename, \"r\") do file\n",
    "        lines = readlines(file)\n",
    "        P = parse(Int, lines[1])  # Número de instancias de problemas\n",
    "        index = 2\n",
    "        for _ in 1:P\n",
    "            problem_id = strip(lines[index])\n",
    "            index += 1\n",
    "            bin_capacity, num_items, best_known_solution = split(lines[index])\n",
    "            bin_capacity = parse(Float64, bin_capacity)\n",
    "            num_items = parse(Int, num_items)\n",
    "            best_known_solution = parse(Int, best_known_solution)\n",
    "            index += 1\n",
    "            items = []\n",
    "            for _ in 1:num_items\n",
    "                push!(items, parse(Float64, strip(lines[index])))\n",
    "                index += 1\n",
    "            end\n",
    "            push!(problems, (problem_id, bin_capacity, num_items, best_known_solution, items))\n",
    "        end\n",
    "    end\n",
    "    return problems\n",
    "end"
   ]
  },
  {
   "cell_type": "code",
   "execution_count": 3,
   "metadata": {},
   "outputs": [
    {
     "data": {
      "text/plain": [
       "bin_packing_glpk (generic function with 1 method)"
      ]
     },
     "execution_count": 3,
     "metadata": {},
     "output_type": "execute_result"
    }
   ],
   "source": [
    "function bin_packing_glpk(bin_capacity, items)\n",
    "    n = length(items)\n",
    "    max_bins = n  # En el peor de los casos, cada ítem puede ir en un contenedor separado\n",
    "    \n",
    "    model = Model(GLPK.Optimizer)\n",
    "    \n",
    "    # Variables\n",
    "    @variable(model, x[1:max_bins, 1:n], Bin)\n",
    "    @variable(model, y[1:max_bins], Bin)\n",
    "\n",
    "    # Restricciones\n",
    "    @constraint(model, [j=1:n], sum(x[i,j] for i in 1:max_bins) == 1)\n",
    "    @constraint(model, [i=1:max_bins], sum(x[i,j] * items[j] for j in 1:n) <= bin_capacity * y[i])\n",
    "\n",
    "    # Función objetivo\n",
    "    @objective(model, Min, sum(y))\n",
    "\n",
    "    optimize!(model)\n",
    "    \n",
    "    println(\"Status: \", termination_status(model))\n",
    "    println(\"Objective value: \", objective_value(model))\n",
    "    println(\"Número de contenedores utilizados: \", sum(value.(y)))\n",
    "    \n",
    "    return value.(y)\n",
    "end"
   ]
  },
  {
   "cell_type": "code",
   "execution_count": 4,
   "metadata": {},
   "outputs": [
    {
     "data": {
      "text/plain": [
       "bin_packing_cbc (generic function with 1 method)"
      ]
     },
     "execution_count": 4,
     "metadata": {},
     "output_type": "execute_result"
    }
   ],
   "source": [
    "# Función para resolver el problema de bin packing con CBC\n",
    "function bin_packing_cbc(bin_capacity, items)\n",
    "    n = length(items)\n",
    "    max_bins = n  # En el peor de los casos, cada ítem puede ir en un contenedor separado\n",
    "    \n",
    "    model = Model(Cbc.Optimizer)\n",
    "    \n",
    "    # Variables\n",
    "    @variable(model, x[1:max_bins, 1:n], Bin)\n",
    "    @variable(model, y[1:max_bins], Bin)\n",
    "\n",
    "    # Restricciones\n",
    "    @constraint(model, [j=1:n], sum(x[i,j] for i in 1:max_bins) == 1)\n",
    "    @constraint(model, [i=1:max_bins], sum(x[i,j] * items[j] for j in 1:n) <= bin_capacity * y[i])\n",
    "\n",
    "    # Función objetivo\n",
    "    @objective(model, Min, sum(y))\n",
    "\n",
    "    # Resolver el modelo\n",
    "    optimize!(model)\n",
    "    \n",
    "    # Obtener número de contenedores utilizados\n",
    "    num_bins_used = sum(value.(y))\n",
    "    \n",
    "    return num_bins_used\n",
    "end\n"
   ]
  },
  {
   "cell_type": "code",
   "execution_count": 5,
   "metadata": {},
   "outputs": [
    {
     "data": {
      "text/plain": [
       "describe_problems (generic function with 1 method)"
      ]
     },
     "execution_count": 5,
     "metadata": {},
     "output_type": "execute_result"
    }
   ],
   "source": [
    "# Función para leer y describir todas las instancias de un archivo\n",
    "function describe_problems(problems)\n",
    "    for (problem_id, bin_capacity, num_items, best_known_solution, items) in problems\n",
    "        println(\"Resolviendo problema: $problem_id, con $num_items de items, se espera $best_known_solution, $items items\")\n",
    "    end\n",
    "    return problems\n",
    "end"
   ]
  },
  {
   "cell_type": "code",
   "execution_count": 6,
   "metadata": {},
   "outputs": [],
   "source": [
    "function process_and_solve__problem(problems)\n",
    "    (problem_id, bin_capacity, num_items, best_known_solution, items) = problems[1]\n",
    "    println(\"Resolviendo problema: $problem_id, con $num_items items, se espera solución óptima: $best_known_solution\")\n",
    "    num_bins_used = bin_packing_cbc(bin_capacity, items)\n",
    "    println(\"Número de contenedores utilizados: $num_bins_used\")\n",
    "    println(\"Solución conocida óptima/best: $best_known_solution\")\n",
    "end\n",
    "\n",
    "problems = read_bin_packing_instance(\"./instances/binpack5.txt\")\n",
    "process_and_solve__problem(problems)"
   ]
  },
  {
   "cell_type": "code",
   "execution_count": null,
   "metadata": {},
   "outputs": [],
   "source": []
  }
 ],
 "metadata": {
  "kernelspec": {
   "display_name": "Julia 1.10.2",
   "language": "julia",
   "name": "julia-1.10"
  },
  "language_info": {
   "file_extension": ".jl",
   "mimetype": "application/julia",
   "name": "julia",
   "version": "1.10.2"
  }
 },
 "nbformat": 4,
 "nbformat_minor": 2
}
