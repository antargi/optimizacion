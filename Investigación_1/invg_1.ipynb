{
 "cells": [
  {
   "cell_type": "code",
   "execution_count": null,
   "metadata": {},
   "outputs": [],
   "source": [
    "# Instalar si no se tiene el paquete, de lo contrario comentar\n",
    "import Pkg; Pkg.add(\"Cbc\")"
   ]
  },
  {
   "cell_type": "code",
   "execution_count": 5,
   "metadata": {},
   "outputs": [],
   "source": [
    "using JuMP\n",
    "using GLPK "
   ]
  },
  {
   "cell_type": "code",
   "execution_count": 11,
   "metadata": {},
   "outputs": [
    {
     "data": {
      "text/plain": [
       "bin_packing_mip (generic function with 1 method)"
      ]
     },
     "execution_count": 11,
     "metadata": {},
     "output_type": "execute_result"
    }
   ],
   "source": [
    "function bin_packing_mip(items, bin_capacity)\n",
    "    model = Model(GLPK.Optimizer)\n",
    "    n = length(items)\n",
    "    max_bins = n  # En el peor de los casos, cada ítem puede ir en un contenedor separado\n",
    "    \n",
    "    # Variables\n",
    "    @variable(model, x[1:max_bins, 1:n], Bin)\n",
    "    @variable(model, y[1:max_bins], Bin)\n",
    "\n",
    "    # Restricciones\n",
    "    @constraint(model, [j=1:n], sum(x[i,j] for i in 1:max_bins) == 1)\n",
    "    @constraint(model, [i=1:max_bins], sum(x[i,j] * items[j] for j in 1:n) <= bin_capacity * y[i])\n",
    "\n",
    "    # Función objetivo\n",
    "    @objective(model, Min, sum(y))\n",
    "\n",
    "    optimize!(model)\n",
    "\n",
    "    println(\"Status: \", termination_status(model))\n",
    "    println(\"Objective value: \", objective_value(model))\n",
    "    println(\"Número de contenedores utilizados: \", sum(value.(y)))\n",
    "    \n",
    "    return value.(y)\n",
    "end"
   ]
  },
  {
   "cell_type": "code",
   "execution_count": 10,
   "metadata": {},
   "outputs": [
    {
     "name": "stdout",
     "output_type": "stream",
     "text": [
      "Status: OPTIMAL\n",
      "Objective value: 3.0\n",
      "Número de contenedores utilizados: 3.0\n",
      "Número de contenedores utilizados: 3.0\n"
     ]
    }
   ],
   "source": [
    "items = [5, 10, 15, 20, 25, 30, 5, 2, 3, 4, 5, 20, 30]  \n",
    "bin_capacity = 60 \n",
    "\n",
    "# Ejecutar el algoritmo\n",
    "num_bins_used = bin_packing_mip(items, bin_capacity)\n",
    "println(\"Número de contenedores utilizados: $(sum(num_bins_used))\")"
   ]
  }
 ],
 "metadata": {
  "kernelspec": {
   "display_name": "Julia 1.10.2",
   "language": "julia",
   "name": "julia-1.10"
  },
  "language_info": {
   "file_extension": ".jl",
   "mimetype": "application/julia",
   "name": "julia",
   "version": "1.10.2"
  }
 },
 "nbformat": 4,
 "nbformat_minor": 2
}
