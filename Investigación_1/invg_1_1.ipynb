{
 "cells": [
  {
   "cell_type": "code",
   "execution_count": 2,
   "metadata": {},
   "outputs": [],
   "source": [
    "using JuMP\n",
    "using GLPK \n",
    "using Cbc"
   ]
  },
  {
   "cell_type": "markdown",
   "metadata": {},
   "source": [
    "## Problema de Bin Packing\n",
    "\n",
    "El problema de bin packing es un problema clásico de optimización combinatoria. Dado un conjunto de ítems con pesos y una capacidad máxima por contenedor, el objetivo es minimizar el número de contenedores utilizados para almacenar todos los ítems sin exceder la capacidad de ningún contenedor.\n",
    "\n",
    "### Definiciones\n",
    "\n",
    "- \\( n \\): Número total de ítems.\n",
    "- \\( \\text{items}[j] \\): Peso del ítem \\( j \\), para \\( j = 1, \\ldots, n \\).\n",
    "- \\( \\text{bin\\_capacity} \\): Capacidad máxima de cada contenedor.\n",
    "\n",
    "### Variables de Decisión\n",
    "\n",
    "- \\( x_{ij} \\): Variable binaria que indica si el ítem \\( j \\) está en el contenedor \\( i \\).\n",
    "- \\( y_i \\): Variable binaria que indica si el contenedor \\( i \\) está en uso.\n",
    "\n",
    "### Restricciones\n",
    "\n",
    "1. **Cada ítem debe estar en exactamente un contenedor**:\n",
    "   \\[\n",
    "   \\sum_{i=1}^{\\text{max\\_bins}} x_{ij} = 1 \\quad \\forall j = 1, \\ldots, n\n",
    "   \\]\n",
    "\n",
    "2. **La suma de los pesos de los ítems en cada contenedor no debe exceder la capacidad del contenedor**:\n",
    "   \\[\n",
    "   \\sum_{j=1}^{n} x_{ij} \\cdot \\text{items}[j] \\leq \\text{bin\\_capacity} \\cdot y_i \\quad \\forall i = 1, \\ldots, \\text{max\\_bins}\n",
    "   \\]\n",
    "\n",
    "### Función Objetivo\n",
    "\n",
    "Minimizar el número de contenedores utilizados:\n",
    "\\[\n",
    "\\text{Minimizar} \\quad \\sum_{i=1}^{\\text{max\\_bins}} y_i\n",
    "\\]\n"
   ]
  },
  {
   "cell_type": "code",
   "execution_count": 3,
   "metadata": {},
   "outputs": [
    {
     "data": {
      "text/plain": [
       "bin_packing_glpk (generic function with 1 method)"
      ]
     },
     "execution_count": 3,
     "metadata": {},
     "output_type": "execute_result"
    }
   ],
   "source": [
    "function bin_packing_glpk(items, bin_capacity)\n",
    "    model = Model(GLPK.Optimizer)\n",
    "    n = length(items)\n",
    "    max_bins = n  # En el peor de los casos, cada ítem puede ir en un contenedor separado\n",
    "    \n",
    "    # Variables\n",
    "    @variable(model, x[1:max_bins, 1:n], Bin)\n",
    "    @variable(model, y[1:max_bins], Bin)\n",
    "\n",
    "    # Restricciones\n",
    "    @constraint(model, [j=1:n], sum(x[i,j] for i in 1:max_bins) == 1)\n",
    "    @constraint(model, [i=1:max_bins], sum(x[i,j] * items[j] for j in 1:n) <= bin_capacity * y[i])\n",
    "\n",
    "    # Función objetivo\n",
    "    @objective(model, Min, sum(y))\n",
    "\n",
    "    optimize!(model)\n",
    "\n",
    "    println(\"Status: \", termination_status(model))\n",
    "    println(\"Objective value: \", objective_value(model))\n",
    "    println(\"Número de contenedores utilizados: \", sum(value.(y)))\n",
    "    \n",
    "    return value.(y)\n",
    "end"
   ]
  },
  {
   "cell_type": "code",
   "execution_count": 4,
   "metadata": {},
   "outputs": [
    {
     "name": "stdout",
     "output_type": "stream",
     "text": [
      "Status: OPTIMAL\n",
      "Objective value: 3.0\n",
      "Número de contenedores utilizados: 3.0\n",
      "Número de contenedores utilizados: 3.0\n"
     ]
    }
   ],
   "source": [
    "items = [5, 10, 15, 20, 25, 30, 5, 2, 3, 4, 5, 20, 30]  \n",
    "bin_capacity = 60 \n",
    "\n",
    "# Ejecutar el algoritmo\n",
    "num_bins_used = bin_packing_glpk(items, bin_capacity)\n",
    "println(\"Número de contenedores utilizados: $(sum(num_bins_used))\")"
   ]
  },
  {
   "cell_type": "code",
   "execution_count": 5,
   "metadata": {},
   "outputs": [
    {
     "name": "stdout",
     "output_type": "stream",
     "text": [
      "Status: OPTIMAL\n",
      "Objective value: 2.0\n",
      "Número de contenedores utilizados: 2.0\n",
      "Número de contenedores utilizados: 2.0\n"
     ]
    }
   ],
   "source": [
    "items = [3,2,3,2,2,2]\n",
    "bin_capacity = 10 \n",
    "\n",
    "num_bins_used = bin_packing_glpk(items, bin_capacity)\n",
    "println(\"Número de contenedores utilizados: $(sum(num_bins_used))\")"
   ]
  },
  {
   "cell_type": "code",
   "execution_count": 6,
   "metadata": {},
   "outputs": [
    {
     "name": "stdout",
     "output_type": "stream",
     "text": [
      "Status: OPTIMAL\n",
      "Objective value: 3.0\n",
      "Número de contenedores utilizados: 3.0\n",
      "Número de contenedores utilizados: 3.0\n"
     ]
    }
   ],
   "source": [
    "items = [2,5,4,7,1,3,8]\n",
    "bin_capacity = 10 \n",
    "\n",
    "num_bins_used = bin_packing_glpk(items, bin_capacity)\n",
    "println(\"Número de contenedores utilizados: $(sum(num_bins_used))\")"
   ]
  },
  {
   "cell_type": "code",
   "execution_count": 7,
   "metadata": {},
   "outputs": [
    {
     "data": {
      "text/plain": [
       "bin_packing_cbc (generic function with 1 method)"
      ]
     },
     "execution_count": 7,
     "metadata": {},
     "output_type": "execute_result"
    }
   ],
   "source": [
    "function bin_packing_cbc(bin_capacity, items)\n",
    "    n = length(items)\n",
    "    max_bins = n  # En el peor de los casos, cada ítem puede ir en un contenedor separado\n",
    "    \n",
    "    model = Model(Cbc.Optimizer)\n",
    "    \n",
    "    # Variables\n",
    "    @variable(model, x[1:max_bins, 1:n], Bin)\n",
    "    @variable(model, y[1:max_bins], Bin)\n",
    "\n",
    "    # Restricciones\n",
    "    @constraint(model, [j=1:n], sum(x[i,j] for i in 1:max_bins) == 1)\n",
    "    @constraint(model, [i=1:max_bins], sum(x[i,j] * items[j] for j in 1:n) <= bin_capacity * y[i])\n",
    "\n",
    "    # Función objetivo\n",
    "    @objective(model, Min, sum(y))\n",
    "\n",
    "    set_optimizer_attribute(model, \"logLevel\", 0)  \n",
    "    \n",
    "    elapsed_time = @elapsed begin\n",
    "        optimize!(model)\n",
    "    end\n",
    "    \n",
    "    if termination_status(model) == MOI.INFEASIBLE\n",
    "        println(\"El problema no tiene solución factible.\")\n",
    "        return -1  # Otra forma de indicar que no se encontró solución\n",
    "    end\n",
    "    \n",
    "    num_bins_used = sum(value.(y))\n",
    "    \n",
    "    return num_bins_used, elapsed_time\n",
    "\n",
    "end"
   ]
  },
  {
   "cell_type": "code",
   "execution_count": 8,
   "metadata": {},
   "outputs": [
    {
     "data": {
      "text/plain": [
       "describe_problems (generic function with 1 method)"
      ]
     },
     "execution_count": 8,
     "metadata": {},
     "output_type": "execute_result"
    }
   ],
   "source": [
    "# Función para leer y describir todas las instancias de un archivo\n",
    "function describe_problems(problems)\n",
    "    for (problem_id, bin_capacity, num_items, best_known_solution, items) in problems\n",
    "        println(\"Resolviendo problema: $problem_id, con $num_items de items, se espera $best_known_solution, $items items\")\n",
    "    end\n",
    "    return problems\n",
    "end"
   ]
  },
  {
   "cell_type": "code",
   "execution_count": 9,
   "metadata": {},
   "outputs": [
    {
     "data": {
      "text/plain": [
       "solve_bin_packing_instances (generic function with 1 method)"
      ]
     },
     "execution_count": 9,
     "metadata": {},
     "output_type": "execute_result"
    }
   ],
   "source": [
    "function solve_bin_packing_instances(problems)\n",
    "    for (problem_id, bin_capacity, num_items, best_known_solution, items) in problems\n",
    "        println(\"Resolviendo problema: $problem_id, con $bin_capacity de capacidad y con $num_items de items, se espera solución óptima: $best_known_solution, $items\")\n",
    "        num_bins_used, time_taken = bin_packing_cbc(bin_capacity, items)\n",
    "        println(\"Número de contenedores utilizados: $num_bins_used\")\n",
    "        println(\"Tiempo tomado: $time_taken segundos\")\n",
    "    end\n",
    "end"
   ]
  },
  {
   "cell_type": "code",
   "execution_count": 10,
   "metadata": {},
   "outputs": [
    {
     "data": {
      "text/plain": [
       "read_bin_packing_instance (generic function with 1 method)"
      ]
     },
     "execution_count": 10,
     "metadata": {},
     "output_type": "execute_result"
    }
   ],
   "source": [
    "# Función que permite leer las instancias de bin packing desde un archivo\n",
    "function read_bin_packing_instance(filename)\n",
    "    problems = []\n",
    "    open(filename, \"r\") do file\n",
    "        lines = readlines(file)\n",
    "        P = parse(Int, lines[1])  # Número de instancias de problemas\n",
    "        index = 2\n",
    "        for _ in 1:P\n",
    "            problem_id = strip(lines[index])\n",
    "            index += 1\n",
    "            bin_capacity, num_items, best_known_solution = split(lines[index])\n",
    "            bin_capacity = parse(Float64, bin_capacity)\n",
    "            num_items = parse(Int, num_items)\n",
    "            best_known_solution = parse(Int, best_known_solution)\n",
    "            index += 1\n",
    "            items = []\n",
    "            for _ in 1:num_items\n",
    "                push!(items, parse(Float64, strip(lines[index])))\n",
    "                index += 1\n",
    "            end\n",
    "            push!(problems, (problem_id, bin_capacity, num_items, best_known_solution, items))\n",
    "        end\n",
    "    end\n",
    "    return problems\n",
    "end"
   ]
  },
  {
   "cell_type": "code",
   "execution_count": 9,
   "metadata": {},
   "outputs": [
    {
     "name": "stdout",
     "output_type": "stream",
     "text": [
      "Resolviendo problema: uniform1, con 150.0 de capacidad y con 10 de items, se espera solución óptima: 2, Any[25.0, 30.0, 35.0, 20.0, 40.0, 25.0, 30.0, 35.0, 25.0, 25.0]\n",
      "Número de contenedores utilizados: 2.0\n",
      "Tiempo tomado: 2.345512117 segundos\n",
      "Resolviendo problema: uniform2, con 100.0 de capacidad y con 8 de items, se espera solución óptima: 2, Any[25.0, 25.0, 20.0, 30.0, 25.0, 20.0, 30.0, 25.0]\n",
      "Número de contenedores utilizados: 2.0\n",
      "Tiempo tomado: 0.013359444 segundos\n",
      "Resolviendo problema: uniform3, con 120.0 de capacidad y con 6 de items, se espera solución óptima: 2, Any[30.0, 20.0, 30.0, 20.0, 10.0, 10.0]\n",
      "Número de contenedores utilizados: 1.0\n",
      "Tiempo tomado: 0.008336982 segundos\n",
      "Resolviendo problema: uniform4, con 100.0 de capacidad y con 10 de items, se espera solución óptima: 4, Any[25.0, 20.0, 25.0, 20.0, 25.0, 20.0, 20.0, 25.0, 20.0, 25.0]\n",
      "Número de contenedores utilizados: 3.0\n",
      "Tiempo tomado: 0.018188245 segundos\n",
      "Resolviendo problema: uniform5, con 80.0 de capacidad y con 12 de items, se espera solución óptima: 3, Any[20.0, 20.0, 20.0, 20.0, 20.0, 20.0, 20.0, 20.0, 20.0, 20.0, 20.0, 20.0]\n",
      "Número de contenedores utilizados: 3.0\n",
      "Tiempo tomado: 0.014776378 segundos\n",
      "Resolviendo problema: uniform6, con 180.0 de capacidad y con 8 de items, se espera solución óptima: 5, Any[20.0, 30.0, 20.0, 30.0, 40.0, 20.0, 30.0, 20.0]\n",
      "Número de contenedores utilizados: 2.0\n",
      "Tiempo tomado: 0.01006331 segundos\n"
     ]
    }
   ],
   "source": [
    "problems = read_bin_packing_instance(\"./instances/uniform.txt\")\n",
    "solve_bin_packing_instances(problems)\n"
   ]
  },
  {
   "cell_type": "code",
   "execution_count": 12,
   "metadata": {},
   "outputs": [
    {
     "name": "stdout",
     "output_type": "stream",
     "text": [
      "Resolviendo problema: uniform1_2, con 300.0 de capacidad y con 20 de items, se espera solución óptima: 2, Any[20.0, 20.0, 20.0, 20.0, 20.0, 20.0, 20.0, 20.0, 20.0, 20.0, 10.0, 10.0, 10.0, 10.0, 10.0, 10.0, 10.0, 10.0, 10.0, 10.0]\n",
      "Número de contenedores utilizados: 1.0\n",
      "Tiempo tomado: 2.791874861 segundos\n",
      "Resolviendo problema: uniform2_2, con 180.0 de capacidad y con 20 de items, se espera solución óptima: 5, Any[20.0, 20.0, 20.0, 20.0, 20.0, 20.0, 20.0, 20.0, 20.0, 20.0, 10.0, 10.0, 10.0, 10.0, 10.0, 10.0, 10.0, 10.0, 10.0, 10.0]\n",
      "Número de contenedores utilizados: 2.0\n",
      "Tiempo tomado: 0.105924495 segundos\n",
      "Resolviendo problema: uniform3_2, con 150.0 de capacidad y con 20 de items, se espera solución óptima: 5, Any[20.0, 20.0, 20.0, 20.0, 20.0, 20.0, 20.0, 20.0, 20.0, 20.0, 10.0, 10.0, 10.0, 10.0, 10.0, 10.0, 10.0, 10.0, 10.0, 10.0]\n",
      "Número de contenedores utilizados: 2.0\n",
      "Tiempo tomado: 0.130918243 segundos\n",
      "Resolviendo problema: uniform4_2, con 120.0 de capacidad y con 20 de items, se espera solución óptima: 5, Any[20.0, 20.0, 20.0, 20.0, 20.0, 20.0, 20.0, 20.0, 20.0, 20.0, 10.0, 10.0, 10.0, 10.0, 10.0, 10.0, 10.0, 10.0, 10.0, 10.0]\n",
      "Número de contenedores utilizados: 3.0\n",
      "Tiempo tomado: 0.036055304 segundos\n",
      "Resolviendo problema: uniform5_2, con 100.0 de capacidad y con 20 de items, se espera solución óptima: 5, Any[20.0, 20.0, 20.0, 20.0, 20.0, 20.0, 20.0, 20.0, 20.0, 20.0, 10.0, 10.0, 10.0, 10.0, 10.0, 10.0, 10.0, 10.0, 10.0, 10.0]\n",
      "Número de contenedores utilizados: 3.0\n",
      "Tiempo tomado: 0.034163034 segundos\n",
      "Resolviendo problema: uniform6_2, con 80.0 de capacidad y con 20 de items, se espera solución óptima: 5, Any[20.0, 20.0, 20.0, 20.0, 20.0, 20.0, 20.0, 20.0, 20.0, 20.0, 10.0, 10.0, 10.0, 10.0, 10.0, 10.0, 10.0, 10.0, 10.0, 10.0]\n",
      "Número de contenedores utilizados: 4.0\n",
      "Tiempo tomado: 0.050535855 segundos\n",
      "Resolviendo problema: uniform7_2, con 50.0 de capacidad y con 20 de items, se espera solución óptima: 5, Any[20.0, 20.0, 20.0, 20.0, 20.0, 20.0, 20.0, 20.0, 20.0, 20.0, 10.0, 10.0, 10.0, 10.0, 10.0, 10.0, 10.0, 10.0, 10.0, 10.0]\n",
      "Número de contenedores utilizados: 6.0\n",
      "Tiempo tomado: 0.033709809 segundos\n",
      "Resolviendo problema: uniform8_2, con 30.0 de capacidad y con 20 de items, se espera solución óptima: 5, Any[20.0, 20.0, 20.0, 20.0, 20.0, 20.0, 20.0, 20.0, 20.0, 20.0, 10.0, 10.0, 10.0, 10.0, 10.0, 10.0, 10.0, 10.0, 10.0, 10.0]\n",
      "Número de contenedores utilizados: 10.0\n",
      "Tiempo tomado: 0.17835498 segundos\n"
     ]
    }
   ],
   "source": [
    "problems = read_bin_packing_instance(\"./instances/uniform2.txt\")\n",
    "solve_bin_packing_instances(problems)"
   ]
  },
  {
   "cell_type": "code",
   "execution_count": 12,
   "metadata": {},
   "outputs": [
    {
     "name": "stdout",
     "output_type": "stream",
     "text": [
      "Resolviendo problema: triplet1, con 100.0 de capacidad y con 9 de items, se espera solución óptima: 3, Any[25.0, 25.0, 25.0, 20.0, 20.0, 20.0, 15.0, 15.0, 10.0]\n",
      "Número de contenedores utilizados: 2.0\n",
      "Tiempo tomado: 0.005857133 segundos\n",
      "Resolviendo problema: triplet2, con 80.0 de capacidad y con 6 de items, se espera solución óptima: 2, Any[25.0, 25.0, 15.0, 20.0, 20.0, 10.0]\n",
      "Número de contenedores utilizados: 2.0\n",
      "Tiempo tomado: 0.005577273 segundos\n",
      "Resolviendo problema: triplet3, con 100.0 de capacidad y con 9 de items, se espera solución óptima: 3, Any[30.0, 30.0, 30.0, 20.0, 20.0, 20.0, 15.0, 15.0, 10.0]\n",
      "Número de contenedores utilizados: 2.0\n",
      "Tiempo tomado: 0.005819606 segundos\n",
      "Resolviendo problema: triplet4, con 80.0 de capacidad y con 6 de items, se espera solución óptima: 2, Any[25.0, 25.0, 15.0, 15.0, 20.0, 20.0]\n",
      "Número de contenedores utilizados: 2.0\n",
      "Tiempo tomado: 0.004684833 segundos\n",
      "Resolviendo problema: triplet5, con 100.0 de capacidad y con 9 de items, se espera solución óptima: 3, Any[35.0, 35.0, 30.0, 25.0, 25.0, 20.0, 15.0, 10.0, 10.0]\n",
      "Número de contenedores utilizados: 3.0\n",
      "Tiempo tomado: 0.005601062 segundos\n",
      "Resolviendo problema: triplet6, con 80.0 de capacidad y con 6 de items, se espera solución óptima: 2, Any[30.0, 25.0, 20.0, 15.0, 10.0, 10.0]\n",
      "Número de contenedores utilizados: 2.0\n",
      "Tiempo tomado: 0.005848335 segundos\n",
      "Resolviendo problema: triplet7, con 100.0 de capacidad y con 9 de items, se espera solución óptima: 3, Any[28.0, 28.0, 28.0, 22.0, 22.0, 22.0, 18.0, 18.0, 14.0]\n",
      "Número de contenedores utilizados: 2.0\n",
      "Tiempo tomado: 0.015118651 segundos\n",
      "Resolviendo problema: triplet8, con 80.0 de capacidad y con 6 de items, se espera solución óptima: 2, Any[27.0, 27.0, 16.0, 19.0, 19.0, 12.0]\n",
      "Número de contenedores utilizados: 2.0\n",
      "Tiempo tomado: 0.004343082 segundos\n",
      "Resolviendo problema: triplet9, con 100.0 de capacidad y con 9 de items, se espera solución óptima: 3, Any[33.0, 33.0, 30.0, 26.0, 26.0, 22.0, 18.0, 18.0, 12.0]\n",
      "Número de contenedores utilizados: 3.0\n",
      "Tiempo tomado: 0.008996447 segundos\n",
      "Resolviendo problema: triplet10, con 80.0 de capacidad y con 6 de items, se espera solución óptima: 2, Any[32.0, 28.0, 18.0, 16.0, 16.0, 10.0]\n",
      "Número de contenedores utilizados: 2.0\n",
      "Tiempo tomado: 0.004304312 segundos\n"
     ]
    }
   ],
   "source": [
    "problems = read_bin_packing_instance(\"./instances/triplets.txt\")\n",
    "solve_bin_packing_instances(problems)"
   ]
  },
  {
   "cell_type": "code",
   "execution_count": 15,
   "metadata": {},
   "outputs": [
    {
     "name": "stdout",
     "output_type": "stream",
     "text": [
      "Resolviendo problema: instance30, con 100.0 de capacidad y con 30 de items, se espera solución óptima: 6, Any[29.7, 36.9, 25.8, 38.5, 27.0, 23.6, 22.2, 26.1, 23.2, 22.4, 39.9, 30.3, 27.5, 36.9, 24.9, 20.3, 22.6, 39.0, 32.6, 21.1, 28.6, 23.8, 34.3, 37.9, 37.6, 37.3, 38.7, 25.5, 25.2, 27.8]\n",
      "Número de contenedores utilizados: 9.0\n",
      "Tiempo tomado: 0.568334997 segundos\n",
      "Resolviendo problema: instance32, con 100.0 de capacidad y con 32 de items, se espera solución óptima: 6, Any[28.1, 37.0, 26.7, 23.6, 25.7, 37.2, 33.6, 35.8, 25.2, 38.6, 27.3, 23.8, 34.8, 32.7, 36.2, 30.0, 30.7, 23.2, 23.2, 36.8, 20.6, 38.8, 39.0, 29.5, 38.1, 21.4, 21.2, 34.9, 26.2, 34.3, 34.9, 37.3]\n",
      "Número de contenedores utilizados: 10.0\n",
      "Tiempo tomado: 0.682398347 segundos\n",
      "Resolviendo problema: instance34, con 100.0 de capacidad y con 34 de items, se espera solución óptima: 6, Any[39.5, 34.7, 39.1, 38.6, 30.2, 32.6, 37.3, 39.7, 36.9, 30.9, 37.5, 24.0, 27.1, 35.9, 23.7, 22.8, 35.7, 38.5, 26.9, 34.6, 22.8, 23.4, 33.0, 24.9, 33.0, 29.8, 32.5, 32.1, 34.5, 27.6, 37.7, 29.8, 23.6, 20.9]\n",
      "Número de contenedores utilizados: 11.0\n",
      "Tiempo tomado: 1.51720867 segundos\n",
      "Resolviendo problema: instance36, con 100.0 de capacidad y con 36 de items, se espera solución óptima: 7, Any[24.4, 36.7, 31.6, 37.1, 37.6, 35.0, 34.8, 35.4, 26.4, 22.1, 21.0, 24.7, 23.1, 21.2, 38.5, 21.5, 33.9, 32.5, 30.0, 20.6, 26.5, 39.7, 35.6, 20.1, 34.3, 31.0, 39.0, 20.1, 36.1, 20.5, 26.1, 32.7, 25.6, 22.2, 37.6, 23.6]\n",
      "Número de contenedores utilizados: 11.0\n",
      "Tiempo tomado: 0.666879265 segundos\n",
      "Resolviendo problema: instance38, con 100.0 de capacidad y con 38 de items, se espera solución óptima: 7, Any[26.8, 34.3, 33.1, 30.5, 31.7, 25.1, 39.4, 26.7, 39.1, 28.7, 27.3, 24.0, 23.9, 21.7, 20.8, 26.4, 30.9, 20.0, 35.1, 36.6, 32.9, 36.1, 37.8, 36.2, 35.3, 35.7, 36.1, 26.4, 31.5, 29.3, 23.6, 28.9, 27.8, 34.0, 33.7, 27.7, 37.3, 29.5]\n",
      "Número de contenedores utilizados: 12.0\n",
      "Tiempo tomado: 1.377253312 segundos\n",
      "Resolviendo problema: instance40, con 100.0 de capacidad y con 40 de items, se espera solución óptima: 8, Any[30.9, 25.3, 39.0, 32.1, 22.2, 24.5, 39.4, 27.3, 33.0, 21.5, 32.0, 30.5, 30.2, 24.2, 28.8, 35.0, 23.4, 21.1, 39.5, 24.3, 22.9, 24.9, 23.2, 35.9, 24.6, 23.5, 34.6, 39.0, 24.9, 22.2, 23.8, 39.2, 36.0, 24.5, 34.1, 35.2, 29.4, 22.6, 38.5, 26.0]\n",
      "Número de contenedores utilizados: 12.0\n",
      "Tiempo tomado: 0.476312895 segundos\n"
     ]
    }
   ],
   "source": [
    "problems = read_bin_packing_instance(\"./instances/instances2.txt\")\n",
    "solve_bin_packing_instances(problems)"
   ]
  },
  {
   "cell_type": "code",
   "execution_count": 17,
   "metadata": {},
   "outputs": [],
   "source": [
    "problems = read_bin_packing_instance(\"./instances/instances3.txt\")\n",
    "solve_bin_packing_instances(problems)"
   ]
  }
 ],
 "metadata": {
  "kernelspec": {
   "display_name": "Julia 1.10.2",
   "language": "julia",
   "name": "julia-1.10"
  },
  "language_info": {
   "file_extension": ".jl",
   "mimetype": "application/julia",
   "name": "julia",
   "version": "1.10.2"
  }
 },
 "nbformat": 4,
 "nbformat_minor": 2
}
