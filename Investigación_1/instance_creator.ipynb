{
 "cells": [
  {
   "cell_type": "code",
   "execution_count": 33,
   "metadata": {},
   "outputs": [],
   "source": [
    "import random"
   ]
  },
  {
   "cell_type": "code",
   "execution_count": 34,
   "metadata": {},
   "outputs": [],
   "source": [
    "def generate_uniform_items(num_items, min_size=20.0, max_size=40.0):\n",
    "    return [round(random.uniform(min_size, max_size), 1) for _ in range(num_items)]\n"
   ]
  },
  {
   "cell_type": "code",
   "execution_count": 35,
   "metadata": {},
   "outputs": [],
   "source": [
    "def write_uniform_instances_to_file(file_path, instances):\n",
    "    with open(file_path, \"w\") as file:\n",
    "        file.write(f\"{len(instances)}\\n\")\n",
    "        for identifier, (capacity, num_items, num_containers, items) in instances.items():\n",
    "            file.write(f\"  {identifier}\\n\")\n",
    "            file.write(f\"  {capacity} {num_items} {num_containers}\\n\")\n",
    "            file.write(\"\\n\".join(map(str, items)) + \"\\n\")"
   ]
  },
  {
   "cell_type": "code",
   "execution_count": 36,
   "metadata": {},
   "outputs": [],
   "source": [
    "def write_instances_to_file(file_path, instances):\n",
    "    with open(file_path, \"w\") as file:\n",
    "        file.write(f\"{len(instances)}\\n\")\n",
    "        for identifier, (capacity, num_items, num_containers, items) in instances.items():\n",
    "            file.write(f\"{identifier}\\n\")\n",
    "            file.write(f\"{capacity} {num_items} {num_containers}\\n\")\n",
    "            file.write(\"\\n\".join(map(str, items)) + \"\\n\")\n"
   ]
  },
  {
   "cell_type": "code",
   "execution_count": 37,
   "metadata": {},
   "outputs": [],
   "source": [
    "def write_triplet_instances_to_file(file_path, instances):\n",
    "    with open(file_path, \"w\") as file:\n",
    "        file.write(f\"{len(instances)}\\n\")\n",
    "        for identifier, (capacity, num_items, num_containers, items) in instances.items():\n",
    "            file.write(f\"  {identifier}\\n\")\n",
    "            file.write(f\"  {capacity} {num_items} {num_containers}\\n\")\n",
    "            file.write(\"\\n\".join(map(str, items)) + \"\\n\")"
   ]
  },
  {
   "cell_type": "code",
   "execution_count": 38,
   "metadata": {},
   "outputs": [],
   "source": [
    "def generate_instances(start, end, step, file_path):\n",
    "    instances = {}\n",
    "    for num_items in range(start, end + 1, step):\n",
    "        identifier = f\"instance{num_items}\"\n",
    "        capacity = 100.0\n",
    "        num_containers = num_items // 5\n",
    "        items = generate_uniform_items(num_items)\n",
    "        instances[identifier] = (capacity, num_items, num_containers, items)\n",
    "    write_instances_to_file(file_path, instances)\n"
   ]
  },
  {
   "cell_type": "code",
   "execution_count": 39,
   "metadata": {},
   "outputs": [],
   "source": [
    "def generate_custom_triplet_instances(file_path, instance_details):\n",
    "    instances = {}\n",
    "    for identifier, (capacity, num_items, num_containers) in instance_details.items():\n",
    "        items = generate_uniform_items(num_items, min_size=20.0, max_size=40.0)\n",
    "        instances[identifier] = (capacity, num_items, num_containers, items)\n",
    "    write_triplet_instances_to_file(file_path, instances)"
   ]
  },
  {
   "cell_type": "code",
   "execution_count": 40,
   "metadata": {},
   "outputs": [],
   "source": [
    "def generate_uniform_instances(file_path, instance_details):\n",
    "    instances = {}\n",
    "    for identifier, (capacity, num_items, num_containers) in instance_details.items():\n",
    "        items = generate_uniform_items(num_items, min_size=20.0, max_size=40.0)\n",
    "        instances[identifier] = (capacity, num_items, num_containers, items)\n",
    "    write_uniform_instances_to_file(file_path, instances)"
   ]
  },
  {
   "cell_type": "code",
   "execution_count": 41,
   "metadata": {},
   "outputs": [],
   "source": [
    "def generate_single_instance(file_path, instance_details):\n",
    "    instances = {}\n",
    "    for identifier, (capacity, num_items, num_containers) in instance_details.items():\n",
    "        items = generate_uniform_items(num_items, min_size=20.0, max_size=40.0)\n",
    "        instances[identifier] = (capacity, num_items, num_containers, items)\n",
    "    write_uniform_instances_to_file(file_path, instances)\n"
   ]
  },
  {
   "cell_type": "code",
   "execution_count": 49,
   "metadata": {},
   "outputs": [],
   "source": [
    "triplet_instance_details = {\n",
    "    \"instance20\": (100.0, 20, 6),\n",
    "    \"instance30\": (100.0, 30, 9),\n",
    "    \"instance40\": (100.0, 40, 12),\n",
    "    \"instance50\": (100.0, 50, 15)\n",
    "}\n",
    "\n",
    "generate_custom_triplet_instances(\"instances1.txt\", triplet_instance_details)"
   ]
  },
  {
   "cell_type": "code",
   "execution_count": 43,
   "metadata": {},
   "outputs": [],
   "source": [
    "triplet_instance_details = {\n",
    "    \"instance30\": (100.0, 30, 6),\n",
    "    \"instance32\": (100.0, 32, 6),\n",
    "    \"instance34\": (100.0, 34, 6),\n",
    "    \"instance36\": (100.0, 36, 7),\n",
    "    \"instance38\": (100.0, 38, 7),\n",
    "    \"instance40\": (100.0, 40, 8)\n",
    "}\n",
    "\n",
    "generate_custom_triplet_instances(\"instances2.txt\", triplet_instance_details)"
   ]
  },
  {
   "cell_type": "code",
   "execution_count": 46,
   "metadata": {},
   "outputs": [],
   "source": [
    "single_instance_details = {\n",
    "    \"instance40\": (100.0, 40, 8)\n",
    "}\n",
    "\n",
    "generate_single_instance(\"instance3.txt\", single_instance_details)"
   ]
  },
  {
   "cell_type": "code",
   "execution_count": 47,
   "metadata": {},
   "outputs": [],
   "source": [
    "uniform_instance_details = {\n",
    "    \"uniform1\": (150.0, 10, 2),\n",
    "    \"uniform2\": (100.0, 8, 2),\n",
    "    \"uniform3\": (120.0, 6, 2),\n",
    "    \"uniform4\": (100.0, 10, 4),\n",
    "    \"uniform5\": (80.0, 12, 3),\n",
    "    \"uniform6\": (180.0, 8, 5)\n",
    "}\n",
    "\n",
    "generate_uniform_instances(\"uniform.txt\", uniform_instance_details)\n"
   ]
  },
  {
   "cell_type": "code",
   "execution_count": 48,
   "metadata": {},
   "outputs": [],
   "source": [
    "uniform_instance_details_2 = {\n",
    "    \"uniform1_2\": (300.0, 20, 2),\n",
    "    \"uniform2_2\": (180.0, 20, 5),\n",
    "    \"uniform3_2\": (150.0, 20, 5),\n",
    "    \"uniform4_2\": (120.0, 20, 5),\n",
    "    \"uniform5_2\": (100.0, 20, 5),\n",
    "    \"uniform6_2\": (80.0, 20, 5),\n",
    "    \"uniform7_2\": (50.0, 20, 5),\n",
    "    \"uniform8_2\": (30.0, 20, 5)\n",
    "}\n",
    "\n",
    "generate_uniform_instances(\"uniform2.txt\", uniform_instance_details_2)"
   ]
  }
 ],
 "metadata": {
  "kernelspec": {
   "display_name": "Python 3",
   "language": "python",
   "name": "python3"
  },
  "language_info": {
   "codemirror_mode": {
    "name": "ipython",
    "version": 3
   },
   "file_extension": ".py",
   "mimetype": "text/x-python",
   "name": "python",
   "nbconvert_exporter": "python",
   "pygments_lexer": "ipython3",
   "version": "3.11.7"
  }
 },
 "nbformat": 4,
 "nbformat_minor": 2
}
